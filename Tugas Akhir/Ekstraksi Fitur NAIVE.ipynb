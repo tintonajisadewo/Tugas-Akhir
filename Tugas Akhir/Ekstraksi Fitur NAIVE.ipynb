{
 "cells": [
  {
   "cell_type": "code",
   "execution_count": null,
   "metadata": {},
   "outputs": [
    {
     "name": "stderr",
     "output_type": "stream",
     "text": [
      "C:\\Users\\Raisha Citra C\\anaconda\\lib\\site-packages\\nltk\\decorators.py:70: DeprecationWarning: `formatargspec` is deprecated since Python 3.5. Use `signature` and the `Signature` object directly\n",
      "  formatvalue=lambda value: \"\")[1:-1]\n"
     ]
    }
   ],
   "source": [
    "import pandas as pd\n",
    "import gensim\n",
    "import matplotlib.pyplot as plt\n",
    "import seaborn as sns\n",
    "import pyLDAvis.gensim\n",
    "import sklearn.metrics as metrics\n",
    "from sklearn.model_selection import train_test_split\n",
    "from sklearn.feature_extraction.text import TfidfVectorizer\n",
    "from sklearn.metrics import accuracy_score\n",
    "from sklearn.svm import SVC\n",
    "from sklearn.naive_bayes import MultinomialNB\n",
    "from nltk import FreqDist\n",
    "from gensim import corpora\n",
    "from sklearn.feature_extraction.text import CountVectorizer\n",
    "import pickle\n",
    "from sklearn.feature_extraction.text import TfidfTransformer"
   ]
  },
  {
   "cell_type": "code",
   "execution_count": 2,
   "metadata": {
    "collapsed": true
   },
   "outputs": [
    {
     "data": {
      "text/html": [
       "<div>\n",
       "<style scoped>\n",
       "    .dataframe tbody tr th:only-of-type {\n",
       "        vertical-align: middle;\n",
       "    }\n",
       "\n",
       "    .dataframe tbody tr th {\n",
       "        vertical-align: top;\n",
       "    }\n",
       "\n",
       "    .dataframe thead th {\n",
       "        text-align: right;\n",
       "    }\n",
       "</style>\n",
       "<table border=\"1\" class=\"dataframe\">\n",
       "  <thead>\n",
       "    <tr style=\"text-align: right;\">\n",
       "      <th></th>\n",
       "      <th>text</th>\n",
       "      <th>sentiment</th>\n",
       "    </tr>\n",
       "  </thead>\n",
       "  <tbody>\n",
       "    <tr>\n",
       "      <th>0</th>\n",
       "      <td>acara silaturahmi bareng keluarga besar sambil...</td>\n",
       "      <td>1</td>\n",
       "    </tr>\n",
       "    <tr>\n",
       "      <th>1</th>\n",
       "      <td>teknologi maju indonesia maju indonesia maju j...</td>\n",
       "      <td>1</td>\n",
       "    </tr>\n",
       "    <tr>\n",
       "      <th>2</th>\n",
       "      <td>bisa bantu jawab jokowi jokowi menang jokowi a...</td>\n",
       "      <td>1</td>\n",
       "    </tr>\n",
       "    <tr>\n",
       "      <th>3</th>\n",
       "      <td>bantu subsidi umum bsu beri perintah besar idr...</td>\n",
       "      <td>1</td>\n",
       "    </tr>\n",
       "    <tr>\n",
       "      <th>4</th>\n",
       "      <td>dukung tni polri habis rizieq fpi begundal beg...</td>\n",
       "      <td>1</td>\n",
       "    </tr>\n",
       "    <tr>\n",
       "      <th>5</th>\n",
       "      <td>adlah pilih jokowi pilpres bahkan timses provi...</td>\n",
       "      <td>1</td>\n",
       "    </tr>\n",
       "    <tr>\n",
       "      <th>6</th>\n",
       "      <td>agustinus ulah kibar bendera panjat baliho sor...</td>\n",
       "      <td>1</td>\n",
       "    </tr>\n",
       "    <tr>\n",
       "      <th>7</th>\n",
       "      <td>ahy turun langsung medan perintah tegas kalah ...</td>\n",
       "      <td>1</td>\n",
       "    </tr>\n",
       "    <tr>\n",
       "      <th>8</th>\n",
       "      <td>ajar pimpin salim dulu bapak persiden nkri har...</td>\n",
       "      <td>1</td>\n",
       "    </tr>\n",
       "    <tr>\n",
       "      <th>9</th>\n",
       "      <td>datang masa indonesia importir lobster jokowi</td>\n",
       "      <td>1</td>\n",
       "    </tr>\n",
       "  </tbody>\n",
       "</table>\n",
       "</div>"
      ],
      "text/plain": [
       "                                                text  sentiment\n",
       "0  acara silaturahmi bareng keluarga besar sambil...          1\n",
       "1  teknologi maju indonesia maju indonesia maju j...          1\n",
       "2  bisa bantu jawab jokowi jokowi menang jokowi a...          1\n",
       "3  bantu subsidi umum bsu beri perintah besar idr...          1\n",
       "4  dukung tni polri habis rizieq fpi begundal beg...          1\n",
       "5  adlah pilih jokowi pilpres bahkan timses provi...          1\n",
       "6  agustinus ulah kibar bendera panjat baliho sor...          1\n",
       "7  ahy turun langsung medan perintah tegas kalah ...          1\n",
       "8  ajar pimpin salim dulu bapak persiden nkri har...          1\n",
       "9      datang masa indonesia importir lobster jokowi          1"
      ]
     },
     "execution_count": 2,
     "metadata": {},
     "output_type": "execute_result"
    }
   ],
   "source": [
    "data = pd.read_csv(\"D:/Raisha/TUGAS AKHIR/csv/dataterbaru.csv\", usecols=[\"sentiment\", \"text\"])\n",
    "data.head(10)"
   ]
  },
  {
   "cell_type": "code",
   "execution_count": null,
   "metadata": {
    "collapsed": true
   },
   "outputs": [
    {
     "name": "stdout",
     "output_type": "stream",
     "text": [
      "Shape :  (1200, 2)\n"
     ]
    },
    {
     "data": {
      "text/html": [
       "<div>\n",
       "<style scoped>\n",
       "    .dataframe tbody tr th:only-of-type {\n",
       "        vertical-align: middle;\n",
       "    }\n",
       "\n",
       "    .dataframe tbody tr th {\n",
       "        vertical-align: top;\n",
       "    }\n",
       "\n",
       "    .dataframe thead th {\n",
       "        text-align: right;\n",
       "    }\n",
       "</style>\n",
       "<table border=\"1\" class=\"dataframe\">\n",
       "  <thead>\n",
       "    <tr style=\"text-align: right;\">\n",
       "      <th></th>\n",
       "      <th>text</th>\n",
       "      <th>sentiment</th>\n",
       "    </tr>\n",
       "  </thead>\n",
       "  <tbody>\n",
       "    <tr>\n",
       "      <th>0</th>\n",
       "      <td>acara silaturahmi bareng keluarga besar sambil...</td>\n",
       "      <td>1</td>\n",
       "    </tr>\n",
       "    <tr>\n",
       "      <th>1</th>\n",
       "      <td>teknologi maju indonesia maju indonesia maju j...</td>\n",
       "      <td>1</td>\n",
       "    </tr>\n",
       "    <tr>\n",
       "      <th>2</th>\n",
       "      <td>bisa bantu jawab jokowi jokowi menang jokowi a...</td>\n",
       "      <td>1</td>\n",
       "    </tr>\n",
       "    <tr>\n",
       "      <th>3</th>\n",
       "      <td>bantu subsidi umum bsu beri perintah besar idr...</td>\n",
       "      <td>1</td>\n",
       "    </tr>\n",
       "    <tr>\n",
       "      <th>4</th>\n",
       "      <td>dukung tni polri habis rizieq fpi begundal beg...</td>\n",
       "      <td>1</td>\n",
       "    </tr>\n",
       "  </tbody>\n",
       "</table>\n",
       "</div>"
      ],
      "text/plain": [
       "                                                text  sentiment\n",
       "0  acara silaturahmi bareng keluarga besar sambil...          1\n",
       "1  teknologi maju indonesia maju indonesia maju j...          1\n",
       "2  bisa bantu jawab jokowi jokowi menang jokowi a...          1\n",
       "3  bantu subsidi umum bsu beri perintah besar idr...          1\n",
       "4  dukung tni polri habis rizieq fpi begundal beg...          1"
      ]
     },
     "execution_count": 3,
     "metadata": {},
     "output_type": "execute_result"
    }
   ],
   "source": [
    "print('Shape : ',data.shape)\n",
    "data.head()"
   ]
  },
  {
   "cell_type": "code",
   "execution_count": 4,
   "metadata": {},
   "outputs": [
    {
     "data": {
      "text/plain": [
       "<matplotlib.axes._subplots.AxesSubplot at 0x1da9c134648>"
      ]
     },
     "execution_count": 4,
     "metadata": {},
     "output_type": "execute_result"
    },
    {
     "data": {
      "image/png": "[encoded data removed]",
      "text/plain": [
       "<Figure size 432x288 with 1 Axes>"
      ]
     },
     "metadata": {
      "needs_background": "light"
     },
     "output_type": "display_data"
    }
   ],
   "source": [
    "data['sentiment'].value_counts().plot.bar(color = 'hotpink', figsize = (6, 4))"
   ]
  },
  {
   "cell_type": "code",
   "execution_count": 5,
   "metadata": {},
   "outputs": [
    {
     "data": {
      "text/plain": [
       "1    600\n",
       "0    600\n",
       "Name: sentiment, dtype: int64"
      ]
     },
     "execution_count": 5,
     "metadata": {},
     "output_type": "execute_result"
    }
   ],
   "source": [
    "data['sentiment'].value_counts()"
   ]
  },
  {
   "cell_type": "code",
   "execution_count": 6,
   "metadata": {},
   "outputs": [
    {
     "name": "stdout",
     "output_type": "stream",
     "text": [
      "(1200,)\n",
      "[[0 0 0 ... 0 0 0]\n",
      " [0 0 0 ... 0 0 0]\n",
      " [0 0 0 ... 0 0 0]\n",
      " ...\n",
      " [0 0 0 ... 0 0 0]\n",
      " [0 0 0 ... 0 0 0]\n",
      " [0 0 0 ... 0 0 0]]\n",
      "Shape of Sparse Matrix :  (1200, 3885)\n",
      "Amount of Non-zero accourences:  17135\n",
      "(1200, 3885)\n"
     ]
    }
   ],
   "source": [
    "bow_transformer = CountVectorizer()\n",
    "print(data['text'].shape)\n",
    "X=bow_transformer.fit_transform(data['text'])\n",
    "\n",
    "print (X.toarray())\n",
    "print('Shape of Sparse Matrix : ',X.shape)\n",
    "print('Amount of Non-zero accourences: ',X.nnz)\n",
    "\n",
    "#save the count vectorized to disk\n",
    "filename1 = 'count_vectorized.pkl'\n",
    "pickle.dump(bow_transformer, open(filename1, 'wb'))\n",
    "\n",
    "#TFID Transform\n",
    "tf_transform = TfidfTransformer(use_idf=False).fit(X)\n",
    "X = tf_transform.transform(X)\n",
    "print(X.shape)\n",
    "\n",
    "#save the TFID to disk\n",
    "filename1 ='tfid_transform1.pkl'\n",
    "pickle.dump(tf_transform, open(filename1, 'wb'))\n"
   ]
  },
  {
   "cell_type": "code",
   "execution_count": 7,
   "metadata": {},
   "outputs": [
    {
     "data": {
      "text/plain": [
       "jokowi       1337\n",
       "presiden      474\n",
       "indonesia     473\n",
       "maju          216\n",
       "prabowo       124\n",
       "rakyat        113\n",
       "corona        108\n",
       "tidak         106\n",
       "kpk           106\n",
       "perintah      104\n",
       "dtype: int64"
      ]
     },
     "execution_count": 7,
     "metadata": {},
     "output_type": "execute_result"
    }
   ],
   "source": [
    "freq = pd.Series(' '.join(data['text']).split()).value_counts()[:10] #Naive Method\n",
    "freq"
   ]
  },
  {
   "cell_type": "code",
   "execution_count": 8,
   "metadata": {
    "collapsed": true
   },
   "outputs": [
    {
     "data": {
      "text/html": [
       "<div>\n",
       "<style scoped>\n",
       "    .dataframe tbody tr th:only-of-type {\n",
       "        vertical-align: middle;\n",
       "    }\n",
       "\n",
       "    .dataframe tbody tr th {\n",
       "        vertical-align: top;\n",
       "    }\n",
       "\n",
       "    .dataframe thead th {\n",
       "        text-align: right;\n",
       "    }\n",
       "</style>\n",
       "<table border=\"1\" class=\"dataframe\">\n",
       "  <thead>\n",
       "    <tr style=\"text-align: right;\">\n",
       "      <th></th>\n",
       "      <th>words</th>\n",
       "      <th>tf</th>\n",
       "    </tr>\n",
       "  </thead>\n",
       "  <tbody>\n",
       "    <tr>\n",
       "      <th>0</th>\n",
       "      <td>casting</td>\n",
       "      <td>2.0</td>\n",
       "    </tr>\n",
       "    <tr>\n",
       "      <th>1</th>\n",
       "      <td>ikan</td>\n",
       "      <td>10.0</td>\n",
       "    </tr>\n",
       "    <tr>\n",
       "      <th>2</th>\n",
       "      <td>video</td>\n",
       "      <td>12.0</td>\n",
       "    </tr>\n",
       "    <tr>\n",
       "      <th>3</th>\n",
       "      <td>lupa</td>\n",
       "      <td>6.0</td>\n",
       "    </tr>\n",
       "    <tr>\n",
       "      <th>4</th>\n",
       "      <td>besar</td>\n",
       "      <td>21.0</td>\n",
       "    </tr>\n",
       "    <tr>\n",
       "      <th>...</th>\n",
       "      <td>...</td>\n",
       "      <td>...</td>\n",
       "    </tr>\n",
       "    <tr>\n",
       "      <th>3880</th>\n",
       "      <td>jagalsampaibatal</td>\n",
       "      <td>1.0</td>\n",
       "    </tr>\n",
       "    <tr>\n",
       "      <th>3881</th>\n",
       "      <td>mositidakpercaya</td>\n",
       "      <td>1.0</td>\n",
       "    </tr>\n",
       "    <tr>\n",
       "      <th>3882</th>\n",
       "      <td>didengar</td>\n",
       "      <td>1.0</td>\n",
       "    </tr>\n",
       "    <tr>\n",
       "      <th>3883</th>\n",
       "      <td>haus</td>\n",
       "      <td>1.0</td>\n",
       "    </tr>\n",
       "    <tr>\n",
       "      <th>3884</th>\n",
       "      <td>tukangg</td>\n",
       "      <td>1.0</td>\n",
       "    </tr>\n",
       "  </tbody>\n",
       "</table>\n",
       "<p>3885 rows × 2 columns</p>\n",
       "</div>"
      ],
      "text/plain": [
       "                 words    tf\n",
       "0              casting   2.0\n",
       "1                 ikan  10.0\n",
       "2                video  12.0\n",
       "3                 lupa   6.0\n",
       "4                besar  21.0\n",
       "...                ...   ...\n",
       "3880  jagalsampaibatal   1.0\n",
       "3881  mositidakpercaya   1.0\n",
       "3882          didengar   1.0\n",
       "3883              haus   1.0\n",
       "3884           tukangg   1.0\n",
       "\n",
       "[3885 rows x 2 columns]"
      ]
     },
     "execution_count": 8,
     "metadata": {},
     "output_type": "execute_result"
    }
   ],
   "source": [
    "tf1 = (data['text'][:]).apply(lambda x: pd.value_counts(x.split(\" \"))).sum(axis = 0).reset_index()\n",
    "tf1.columns = ['words','tf']\n",
    "tf1"
   ]
  },
  {
   "cell_type": "code",
   "execution_count": 10,
   "metadata": {},
   "outputs": [
    {
     "data": {
      "text/html": [
       "<div>\n",
       "<style scoped>\n",
       "    .dataframe tbody tr th:only-of-type {\n",
       "        vertical-align: middle;\n",
       "    }\n",
       "\n",
       "    .dataframe tbody tr th {\n",
       "        vertical-align: top;\n",
       "    }\n",
       "\n",
       "    .dataframe thead th {\n",
       "        text-align: right;\n",
       "    }\n",
       "</style>\n",
       "<table border=\"1\" class=\"dataframe\">\n",
       "  <thead>\n",
       "    <tr style=\"text-align: right;\">\n",
       "      <th></th>\n",
       "      <th>words</th>\n",
       "      <th>tf</th>\n",
       "      <th>idf</th>\n",
       "    </tr>\n",
       "  </thead>\n",
       "  <tbody>\n",
       "    <tr>\n",
       "      <th>0</th>\n",
       "      <td>casting</td>\n",
       "      <td>2.0</td>\n",
       "      <td>7.090077</td>\n",
       "    </tr>\n",
       "    <tr>\n",
       "      <th>1</th>\n",
       "      <td>ikan</td>\n",
       "      <td>10.0</td>\n",
       "      <td>4.525127</td>\n",
       "    </tr>\n",
       "    <tr>\n",
       "      <th>2</th>\n",
       "      <td>video</td>\n",
       "      <td>12.0</td>\n",
       "      <td>4.605170</td>\n",
       "    </tr>\n",
       "    <tr>\n",
       "      <th>3</th>\n",
       "      <td>lupa</td>\n",
       "      <td>6.0</td>\n",
       "      <td>5.298317</td>\n",
       "    </tr>\n",
       "    <tr>\n",
       "      <th>4</th>\n",
       "      <td>besar</td>\n",
       "      <td>21.0</td>\n",
       "      <td>4.145638</td>\n",
       "    </tr>\n",
       "    <tr>\n",
       "      <th>...</th>\n",
       "      <td>...</td>\n",
       "      <td>...</td>\n",
       "      <td>...</td>\n",
       "    </tr>\n",
       "    <tr>\n",
       "      <th>3880</th>\n",
       "      <td>jagalsampaibatal</td>\n",
       "      <td>1.0</td>\n",
       "      <td>7.090077</td>\n",
       "    </tr>\n",
       "    <tr>\n",
       "      <th>3881</th>\n",
       "      <td>mositidakpercaya</td>\n",
       "      <td>1.0</td>\n",
       "      <td>7.090077</td>\n",
       "    </tr>\n",
       "    <tr>\n",
       "      <th>3882</th>\n",
       "      <td>didengar</td>\n",
       "      <td>1.0</td>\n",
       "      <td>7.090077</td>\n",
       "    </tr>\n",
       "    <tr>\n",
       "      <th>3883</th>\n",
       "      <td>haus</td>\n",
       "      <td>1.0</td>\n",
       "      <td>6.396930</td>\n",
       "    </tr>\n",
       "    <tr>\n",
       "      <th>3884</th>\n",
       "      <td>tukangg</td>\n",
       "      <td>1.0</td>\n",
       "      <td>7.090077</td>\n",
       "    </tr>\n",
       "  </tbody>\n",
       "</table>\n",
       "<p>3885 rows × 3 columns</p>\n",
       "</div>"
      ],
      "text/plain": [
       "                 words    tf       idf\n",
       "0              casting   2.0  7.090077\n",
       "1                 ikan  10.0  4.525127\n",
       "2                video  12.0  4.605170\n",
       "3                 lupa   6.0  5.298317\n",
       "4                besar  21.0  4.145638\n",
       "...                ...   ...       ...\n",
       "3880  jagalsampaibatal   1.0  7.090077\n",
       "3881  mositidakpercaya   1.0  7.090077\n",
       "3882          didengar   1.0  7.090077\n",
       "3883              haus   1.0  6.396930\n",
       "3884           tukangg   1.0  7.090077\n",
       "\n",
       "[3885 rows x 3 columns]"
      ]
     },
     "execution_count": 10,
     "metadata": {},
     "output_type": "execute_result"
    }
   ],
   "source": [
    "import numpy as np\n",
    "for i,word in enumerate(tf1['words']):\n",
    "    tf1.loc[i, 'idf'] = np.log(data.shape[0]/(len(data[data['text'].str.contains(word)])))\n",
    "\n",
    "tf1"
   ]
  },
  {
   "cell_type": "code",
   "execution_count": 11,
   "metadata": {},
   "outputs": [
    {
     "data": {
      "text/html": [
       "<div>\n",
       "<style scoped>\n",
       "    .dataframe tbody tr th:only-of-type {\n",
       "        vertical-align: middle;\n",
       "    }\n",
       "\n",
       "    .dataframe tbody tr th {\n",
       "        vertical-align: top;\n",
       "    }\n",
       "\n",
       "    .dataframe thead th {\n",
       "        text-align: right;\n",
       "    }\n",
       "</style>\n",
       "<table border=\"1\" class=\"dataframe\">\n",
       "  <thead>\n",
       "    <tr style=\"text-align: right;\">\n",
       "      <th></th>\n",
       "      <th>words</th>\n",
       "      <th>tf</th>\n",
       "      <th>idf</th>\n",
       "      <th>tfidf</th>\n",
       "    </tr>\n",
       "  </thead>\n",
       "  <tbody>\n",
       "    <tr>\n",
       "      <th>0</th>\n",
       "      <td>casting</td>\n",
       "      <td>2.0</td>\n",
       "      <td>7.090077</td>\n",
       "      <td>14.180154</td>\n",
       "    </tr>\n",
       "    <tr>\n",
       "      <th>1</th>\n",
       "      <td>ikan</td>\n",
       "      <td>10.0</td>\n",
       "      <td>4.525127</td>\n",
       "      <td>45.251275</td>\n",
       "    </tr>\n",
       "    <tr>\n",
       "      <th>2</th>\n",
       "      <td>video</td>\n",
       "      <td>12.0</td>\n",
       "      <td>4.605170</td>\n",
       "      <td>55.262042</td>\n",
       "    </tr>\n",
       "    <tr>\n",
       "      <th>3</th>\n",
       "      <td>lupa</td>\n",
       "      <td>6.0</td>\n",
       "      <td>5.298317</td>\n",
       "      <td>31.789904</td>\n",
       "    </tr>\n",
       "    <tr>\n",
       "      <th>4</th>\n",
       "      <td>besar</td>\n",
       "      <td>21.0</td>\n",
       "      <td>4.145638</td>\n",
       "      <td>87.058395</td>\n",
       "    </tr>\n",
       "    <tr>\n",
       "      <th>...</th>\n",
       "      <td>...</td>\n",
       "      <td>...</td>\n",
       "      <td>...</td>\n",
       "      <td>...</td>\n",
       "    </tr>\n",
       "    <tr>\n",
       "      <th>3880</th>\n",
       "      <td>jagalsampaibatal</td>\n",
       "      <td>1.0</td>\n",
       "      <td>7.090077</td>\n",
       "      <td>7.090077</td>\n",
       "    </tr>\n",
       "    <tr>\n",
       "      <th>3881</th>\n",
       "      <td>mositidakpercaya</td>\n",
       "      <td>1.0</td>\n",
       "      <td>7.090077</td>\n",
       "      <td>7.090077</td>\n",
       "    </tr>\n",
       "    <tr>\n",
       "      <th>3882</th>\n",
       "      <td>didengar</td>\n",
       "      <td>1.0</td>\n",
       "      <td>7.090077</td>\n",
       "      <td>7.090077</td>\n",
       "    </tr>\n",
       "    <tr>\n",
       "      <th>3883</th>\n",
       "      <td>haus</td>\n",
       "      <td>1.0</td>\n",
       "      <td>6.396930</td>\n",
       "      <td>6.396930</td>\n",
       "    </tr>\n",
       "    <tr>\n",
       "      <th>3884</th>\n",
       "      <td>tukangg</td>\n",
       "      <td>1.0</td>\n",
       "      <td>7.090077</td>\n",
       "      <td>7.090077</td>\n",
       "    </tr>\n",
       "  </tbody>\n",
       "</table>\n",
       "<p>3885 rows × 4 columns</p>\n",
       "</div>"
      ],
      "text/plain": [
       "                 words    tf       idf      tfidf\n",
       "0              casting   2.0  7.090077  14.180154\n",
       "1                 ikan  10.0  4.525127  45.251275\n",
       "2                video  12.0  4.605170  55.262042\n",
       "3                 lupa   6.0  5.298317  31.789904\n",
       "4                besar  21.0  4.145638  87.058395\n",
       "...                ...   ...       ...        ...\n",
       "3880  jagalsampaibatal   1.0  7.090077   7.090077\n",
       "3881  mositidakpercaya   1.0  7.090077   7.090077\n",
       "3882          didengar   1.0  7.090077   7.090077\n",
       "3883              haus   1.0  6.396930   6.396930\n",
       "3884           tukangg   1.0  7.090077   7.090077\n",
       "\n",
       "[3885 rows x 4 columns]"
      ]
     },
     "execution_count": 11,
     "metadata": {},
     "output_type": "execute_result"
    }
   ],
   "source": [
    "tf1['tfidf'] = tf1['tf'] * tf1['idf']\n",
    "tf1"
   ]
  },
  {
   "cell_type": "code",
   "execution_count": 16,
   "metadata": {},
   "outputs": [
    {
     "name": "stdout",
     "output_type": "stream",
     "text": [
      "Load 960 training examples and 240 testing examples. \n",
      "\n"
     ]
    }
   ],
   "source": [
    "# Splitting data into training set and validation\n",
    "X_train, X_test, y_train, y_test = train_test_split(data['text'], data['sentiment'], \\\n",
    "                                                    test_size=0.2, random_state=0)\n",
    "\n",
    "print('Load %d training examples and %d testing examples. \\n' %(X_train.shape[0],X_test.shape[0]))"
   ]
  },
  {
   "cell_type": "code",
   "execution_count": 13,
   "metadata": {},
   "outputs": [
    {
     "name": "stdout",
     "output_type": "stream",
     "text": [
      "Number of features : 3439 \n",
      "\n"
     ]
    },
    {
     "data": {
      "text/plain": [
       "MultinomialNB()"
      ]
     },
     "execution_count": 13,
     "metadata": {},
     "output_type": "execute_result"
    }
   ],
   "source": [
    "from sklearn.feature_extraction.text import TfidfVectorizer\n",
    "# Fitting and transforming the training data to a document-term matrix using TfidfVectorizer \n",
    "tfidf = TfidfVectorizer(min_df=1) #minimum document frequency of 1\n",
    "X_train_tfidf = tfidf.fit_transform(X_train)\n",
    "print(\"Number of features : %d \\n\" %len(tfidf.get_feature_names())) \n",
    "\n",
    "# Train MultinomialNB classifier\n",
    "mnb = MultinomialNB()\n",
    "mnb.fit(X_train_tfidf, y_train)\n",
    "\n"
   ]
  },
  {
   "cell_type": "code",
   "execution_count": 14,
   "metadata": {},
   "outputs": [],
   "source": [
    "import sklearn.metrics as metrics\n",
    "def modelEvaluation(predictions):\n",
    "    '''\n",
    "    Print model evaluation to predicted result \n",
    "    '''\n",
    "    print (\"\\nAccuracy on validation set: {:.4f}\".format(accuracy_score(y_test, predictions)))\n",
    "    print(\"\\nClassification report : \\n\", metrics.classification_report(y_test, predictions))\n",
    "    print(\"\\nConfusion Matrix : \\n\", metrics.confusion_matrix(y_test, predictions))"
   ]
  },
  {
   "cell_type": "code",
   "execution_count": 15,
   "metadata": {
    "scrolled": false
   },
   "outputs": [
    {
     "name": "stdout",
     "output_type": "stream",
     "text": [
      "\n",
      "Accuracy on validation set: 0.8458\n",
      "\n",
      "Classification report : \n",
      "               precision    recall  f1-score   support\n",
      "\n",
      "           0       0.89      0.82      0.85       130\n",
      "           1       0.80      0.88      0.84       110\n",
      "\n",
      "    accuracy                           0.85       240\n",
      "   macro avg       0.85      0.85      0.85       240\n",
      "weighted avg       0.85      0.85      0.85       240\n",
      "\n",
      "\n",
      "Confusion Matrix : \n",
      " [[106  24]\n",
      " [ 13  97]]\n"
     ]
    }
   ],
   "source": [
    "# Evaluating naive bayes\n",
    "predictions = mnb.predict(tfidf.transform(X_test))\n",
    "modelEvaluation(predictions)"
   ]
  },
  {
   "cell_type": "markdown",
   "metadata": {},
   "source": [
    "# Test Menggunakan Data Uji"
   ]
  },
  {
   "cell_type": "code",
   "execution_count": null,
   "metadata": {},
   "outputs": [],
   "source": [
    "review= \"presiden kami kinerjanya tidak buruk\"\n",
    "review_vector = tfidf.transform([review])\n",
    "mnb.predict(review_vector)"
   ]
  },
  {
   "cell_type": "code",
   "execution_count": null,
   "metadata": {},
   "outputs": [],
   "source": [
    "col_names = [\"tweet\",\"sentiment\"]\n",
    "datas = pd.read_csv('D:/Raisha/TUGAS AKHIR/csv/datauji.csv',names=col_names,error_bad_lines=False)\n",
    "test_datas = datas['tweet'].tolist()\n",
    "# print(datas.head())\n",
    "sentiment_datas = datas['sentiment']\n",
    "\n",
    "#Testing For Add Data in specific column\n",
    "sentiment_datas[1] = 1\n",
    "print(sentiment_datas)"
   ]
  },
  {
   "cell_type": "code",
   "execution_count": null,
   "metadata": {},
   "outputs": [],
   "source": [
    "#Global Variable Desine\n",
    "total_positive = 0\n",
    "total_negative = 0"
   ]
  },
  {
   "cell_type": "code",
   "execution_count": null,
   "metadata": {},
   "outputs": [],
   "source": [
    "# Sentiment Prediction  from test data\n",
    "i = 1\n",
    "for data in test_datas:\n",
    "    sample = [data]\n",
    "    sample = tfidf.transform(sample)\n",
    "    sentiment = mnb.predict(sample)\n",
    "    sentiment_datas[i] = int(sentiment)\n",
    "    print(type(sentiment))\n",
    "    print(data,\"Sentiment : \",sentiment)\n",
    "    i = i+1"
   ]
  },
  {
   "cell_type": "code",
   "execution_count": null,
   "metadata": {
    "scrolled": true
   },
   "outputs": [],
   "source": [
    "print(datas.shape)\n",
    "print(datas['sentiment'].tolist())\n",
    "print(datas['sentiment'].count)"
   ]
  },
  {
   "cell_type": "code",
   "execution_count": null,
   "metadata": {},
   "outputs": [],
   "source": [
    "positive = []\n",
    "negative = []\n",
    "\n",
    "for d in datas['sentiment'].tolist():\n",
    "    \n",
    "    if d == 0:\n",
    "        negative.append(0)\n",
    "    else:\n",
    "        positive.append(1)\n",
    "print(len(negative))\n",
    "print(len(positive))"
   ]
  },
  {
   "cell_type": "code",
   "execution_count": null,
   "metadata": {},
   "outputs": [],
   "source": [
    "#Menampilkan hasil analisis sentimen\n",
    "import matplotlib.pyplot as plt\n",
    "slices = [len(positive), len(negative)]\n",
    "activities = ['Positif','Negatif']\n",
    "cols = ['brown','pink']\n",
    "\n",
    "plt.pie(slices,\n",
    "        labels=activities,\n",
    "        colors=cols,\n",
    "        startangle=90,\n",
    "        shadow= True,\n",
    "        explode=(0,0.1),\n",
    "        autopct='%0.2f%%')\n",
    "\n",
    "plt.title('Implementasi Data Uji')\n",
    "plt.plot\n",
    "plt.savefig(\"C:/xampp/xampp/htdocs/Campus/imagesnaive/graphnaive.png\")\n",
    "plt.show()"
   ]
  },
  {
   "cell_type": "markdown",
   "metadata": {},
   "source": [
    "# Topic Modelling\n",
    "## Latent Dirichlet Allocation(LDA)"
   ]
  },
  {
   "cell_type": "code",
   "execution_count": 17,
   "metadata": {},
   "outputs": [
    {
     "data": {
      "text/html": [
       "<div>\n",
       "<style scoped>\n",
       "    .dataframe tbody tr th:only-of-type {\n",
       "        vertical-align: middle;\n",
       "    }\n",
       "\n",
       "    .dataframe tbody tr th {\n",
       "        vertical-align: top;\n",
       "    }\n",
       "\n",
       "    .dataframe thead th {\n",
       "        text-align: right;\n",
       "    }\n",
       "</style>\n",
       "<table border=\"1\" class=\"dataframe\">\n",
       "  <thead>\n",
       "    <tr style=\"text-align: right;\">\n",
       "      <th></th>\n",
       "      <th>text</th>\n",
       "      <th>sentiment</th>\n",
       "    </tr>\n",
       "  </thead>\n",
       "  <tbody>\n",
       "    <tr>\n",
       "      <th>0</th>\n",
       "      <td>acara silaturahmi bareng keluarga besar sambil...</td>\n",
       "      <td>1</td>\n",
       "    </tr>\n",
       "    <tr>\n",
       "      <th>1</th>\n",
       "      <td>teknologi maju indonesia maju indonesia maju j...</td>\n",
       "      <td>1</td>\n",
       "    </tr>\n",
       "    <tr>\n",
       "      <th>2</th>\n",
       "      <td>bisa bantu jawab jokowi jokowi menang jokowi a...</td>\n",
       "      <td>1</td>\n",
       "    </tr>\n",
       "    <tr>\n",
       "      <th>3</th>\n",
       "      <td>bantu subsidi umum bsu beri perintah besar idr...</td>\n",
       "      <td>1</td>\n",
       "    </tr>\n",
       "    <tr>\n",
       "      <th>4</th>\n",
       "      <td>dukung tni polri habis rizieq fpi begundal beg...</td>\n",
       "      <td>1</td>\n",
       "    </tr>\n",
       "    <tr>\n",
       "      <th>5</th>\n",
       "      <td>adlah pilih jokowi pilpres bahkan timses provi...</td>\n",
       "      <td>1</td>\n",
       "    </tr>\n",
       "    <tr>\n",
       "      <th>6</th>\n",
       "      <td>agustinus ulah kibar bendera panjat baliho sor...</td>\n",
       "      <td>1</td>\n",
       "    </tr>\n",
       "    <tr>\n",
       "      <th>7</th>\n",
       "      <td>ahy turun langsung medan perintah tegas kalah ...</td>\n",
       "      <td>1</td>\n",
       "    </tr>\n",
       "    <tr>\n",
       "      <th>8</th>\n",
       "      <td>ajar pimpin salim dulu bapak persiden nkri har...</td>\n",
       "      <td>1</td>\n",
       "    </tr>\n",
       "    <tr>\n",
       "      <th>9</th>\n",
       "      <td>datang masa indonesia importir lobster jokowi</td>\n",
       "      <td>1</td>\n",
       "    </tr>\n",
       "  </tbody>\n",
       "</table>\n",
       "</div>"
      ],
      "text/plain": [
       "                                                text  sentiment\n",
       "0  acara silaturahmi bareng keluarga besar sambil...          1\n",
       "1  teknologi maju indonesia maju indonesia maju j...          1\n",
       "2  bisa bantu jawab jokowi jokowi menang jokowi a...          1\n",
       "3  bantu subsidi umum bsu beri perintah besar idr...          1\n",
       "4  dukung tni polri habis rizieq fpi begundal beg...          1\n",
       "5  adlah pilih jokowi pilpres bahkan timses provi...          1\n",
       "6  agustinus ulah kibar bendera panjat baliho sor...          1\n",
       "7  ahy turun langsung medan perintah tegas kalah ...          1\n",
       "8  ajar pimpin salim dulu bapak persiden nkri har...          1\n",
       "9      datang masa indonesia importir lobster jokowi          1"
      ]
     },
     "execution_count": 17,
     "metadata": {},
     "output_type": "execute_result"
    }
   ],
   "source": [
    "du = pd.read_csv(\"D:/Raisha/TUGAS AKHIR/csv/dataterbaru.csv\", usecols=[\"sentiment\", \"text\"])\n",
    "du.head(10)"
   ]
  },
  {
   "cell_type": "code",
   "execution_count": 18,
   "metadata": {},
   "outputs": [],
   "source": [
    "positif = du.loc[du['sentiment'] == 1]\n",
    "\n",
    "negatif= du.loc[du['sentiment'] == 0]"
   ]
  },
  {
   "cell_type": "code",
   "execution_count": 19,
   "metadata": {},
   "outputs": [],
   "source": [
    "tokenized = pd.Series(positif['text']).apply(lambda x: x.split())"
   ]
  },
  {
   "cell_type": "code",
   "execution_count": 20,
   "metadata": {},
   "outputs": [],
   "source": [
    "import seaborn as sns\n",
    "import matplotlib.pyplot as plt\n",
    "def freq_words(x, terms = 10):\n",
    "    all_words = ' '.join([text for text in x])\n",
    "    all_words = all_words.split()\n",
    "\n",
    "    fdist = FreqDist(all_words)\n",
    "    words_df = pd.DataFrame({'word':list(fdist.keys()), 'count':list(fdist.values())})    \n",
    "    \n",
    "    d = words_df.nlargest(columns=\"count\", n = terms) \n",
    "    plt.figure(figsize=(9,6))\n",
    "    ax = sns.barplot(data=d, x= \"word\", y = \"count\")\n",
    "    ax.set(ylabel = 'Count')\n",
    "   "
   ]
  },
  {
   "cell_type": "code",
   "execution_count": 21,
   "metadata": {},
   "outputs": [
    {
     "data": {
      "image/png": "[encoded data removed]",
      "text/plain": [
       "<Figure size 648x432 with 1 Axes>"
      ]
     },
     "metadata": {
      "needs_background": "light"
     },
     "output_type": "display_data"
    }
   ],
   "source": [
    "from nltk import FreqDist\n",
    "freq_words(negatif['text'])\n",
    "plt.title('Top 10 Words Negative')\n",
    "plt.savefig(\"C:/xampp/xampp/htdocs/Campus/imagesnaive/graph_top_naive_negative.png\")\n",
    "plt.show()"
   ]
  },
  {
   "cell_type": "code",
   "execution_count": 22,
   "metadata": {},
   "outputs": [
    {
     "data": {
      "image/png": "[encoded data removed]",
      "text/plain": [
       "<Figure size 648x432 with 1 Axes>"
      ]
     },
     "metadata": {
      "needs_background": "light"
     },
     "output_type": "display_data"
    }
   ],
   "source": [
    "from nltk import FreqDist\n",
    "freq_words(positif['text'])\n",
    "plt.title('Top 10 Words Positive')\n",
    "plt.savefig(\"C:/xampp/xampp/htdocs/Campus/imagesnaive/graph_top_naive_positive.png\")\n",
    "plt.show()"
   ]
  },
  {
   "cell_type": "code",
   "execution_count": 23,
   "metadata": {},
   "outputs": [],
   "source": [
    "from gensim import corpora\n",
    "dictionary = corpora.Dictionary(tokenized)"
   ]
  },
  {
   "cell_type": "code",
   "execution_count": 24,
   "metadata": {
    "scrolled": true
   },
   "outputs": [
    {
     "name": "stdout",
     "output_type": "stream",
     "text": [
      "[[(0, 1), (1, 1), (2, 1), (3, 1), (4, 2), (5, 1), (6, 1), (7, 2), (8, 1), (9, 1), (10, 1), (11, 1), (12, 1), (13, 1), (14, 1), (15, 1), (16, 1), (17, 1), (18, 1), (19, 1), (20, 1)], [(9, 1), (21, 2), (22, 1), (23, 3), (24, 1), (25, 1)], [(9, 3), (21, 1), (26, 1), (27, 1), (28, 1), (29, 1), (30, 1), (31, 1)], [(3, 1), (9, 1), (21, 1), (22, 1), (25, 1), (27, 1), (32, 2), (33, 2), (34, 2), (35, 1), (36, 1), (37, 1), (38, 2), (39, 2), (40, 1), (41, 1), (42, 1), (43, 1), (44, 1), (45, 1), (46, 1), (47, 1)], [(9, 1), (21, 1), (48, 1), (49, 2), (50, 1), (51, 1), (52, 1), (53, 1), (54, 1), (55, 1), (56, 1), (57, 1), (58, 1), (59, 2), (60, 1), (61, 1), (62, 1)], [(3, 1), (9, 3), (21, 1), (32, 1), (63, 1), (64, 1), (65, 1), (66, 1), (67, 1), (68, 1), (69, 1), (70, 1), (71, 2), (72, 1), (73, 1), (74, 2), (75, 2), (76, 1), (77, 1), (78, 1), (79, 1), (80, 1), (81, 1), (82, 1), (83, 1), (84, 1), (85, 1)], [(9, 2), (86, 1), (87, 1), (88, 1), (89, 1), (90, 1), (91, 1), (92, 1), (93, 1), (94, 1), (95, 1), (96, 1), (97, 1), (98, 1)], [(9, 2), (43, 1), (99, 2), (100, 1), (101, 1), (102, 1), (103, 1), (104, 2), (105, 1), (106, 1), (107, 1), (108, 1)], [(9, 2), (21, 1), (109, 1), (110, 1), (111, 1), (112, 1), (113, 1), (114, 1), (115, 1), (116, 1), (117, 1), (118, 2), (119, 1), (120, 1)], [(9, 1), (21, 1), (121, 1), (122, 1), (123, 1), (124, 1)], [(9, 1), (125, 1), (126, 1), (127, 1), (128, 2), (129, 1), (130, 1), (131, 2), (132, 1), (133, 1), (134, 2), (135, 1), (136, 1), (137, 1)], [(9, 2), (21, 4), (58, 2), (113, 1), (115, 1), (116, 1), (117, 1), (125, 1), (138, 1), (139, 1), (140, 2), (141, 1), (142, 1), (143, 2), (144, 2), (145, 1), (146, 1), (147, 1), (148, 1), (149, 1)], [(9, 1), (21, 1), (74, 1), (150, 1), (151, 1), (152, 1), (153, 1), (154, 1), (155, 1), (156, 1), (157, 1), (158, 1), (159, 1)], [(9, 1), (32, 1), (151, 1), (160, 1), (161, 1), (162, 1), (163, 1), (164, 2), (165, 1), (166, 2), (167, 1), (168, 1), (169, 1), (170, 1), (171, 1), (172, 1), (173, 2), (174, 1), (175, 1), (176, 1)], [(9, 1), (21, 2), (161, 1), (169, 1), (177, 1), (178, 1), (179, 1), (180, 1), (181, 1), (182, 1), (183, 1), (184, 1), (185, 1), (186, 1)], [(9, 1), (21, 1), (23, 1), (161, 1), (181, 1), (187, 1), (188, 1), (189, 1), (190, 1)], [(9, 1), (21, 1), (23, 1), (177, 1), (191, 1), (192, 1), (193, 1), (194, 1), (195, 1), (196, 1), (197, 1), (198, 1), (199, 1), (200, 1), (201, 1)], [(9, 1), (15, 2), (178, 1), (202, 1), (203, 1), (204, 1), (205, 1), (206, 1), (207, 1), (208, 1), (209, 1), (210, 1)], [(9, 2), (134, 1), (144, 2), (211, 1), (212, 1), (213, 1), (214, 1), (215, 1), (216, 1), (217, 2), (218, 1), (219, 1), (220, 1)], [(9, 1), (11, 1), (20, 1), (59, 1), (221, 2), (222, 2), (223, 1), (224, 1), (225, 1), (226, 1), (227, 1), (228, 1)], [(9, 1), (21, 3), (23, 2), (155, 1), (181, 1), (188, 2), (189, 1), (229, 1), (230, 1), (231, 1), (232, 1), (233, 1)], [(9, 1), (21, 2), (23, 1), (181, 1), (187, 1), (188, 1), (189, 1), (229, 1), (230, 1), (234, 1), (235, 1), (236, 1), (237, 1), (238, 1), (239, 1), (240, 1), (241, 1), (242, 1), (243, 1)], [(9, 1), (21, 1), (229, 1), (244, 1), (245, 1), (246, 1)], [(9, 1), (21, 1), (28, 1), (35, 1), (150, 1), (247, 2), (248, 1), (249, 1), (250, 2), (251, 1), (252, 2), (253, 2), (254, 1), (255, 1), (256, 1), (257, 1), (258, 1), (259, 2), (260, 1), (261, 1), (262, 1), (263, 1), (264, 2)], [(9, 1), (126, 2), (131, 2), (133, 1), (265, 1), (266, 1), (267, 1), (268, 1), (269, 1)], [(9, 2), (21, 3), (116, 1), (142, 1), (270, 1), (271, 1), (272, 1), (273, 1), (274, 2), (275, 1), (276, 2), (277, 1), (278, 8), (279, 1), (280, 1), (281, 1), (282, 1), (283, 1)], [(9, 2), (106, 1), (201, 1), (284, 1), (285, 2), (286, 1), (287, 1), (288, 1), (289, 1), (290, 1)], [(3, 1), (9, 1), (15, 1), (21, 1), (71, 1), (128, 2), (132, 1), (134, 3), (291, 1), (292, 1), (293, 1), (294, 1), (295, 1), (296, 1), (297, 1), (298, 1)], [(8, 1), (9, 1), (44, 1), (134, 1), (271, 1), (291, 1), (299, 1), (300, 1), (301, 1), (302, 1), (303, 1), (304, 1), (305, 1), (306, 1), (307, 1)], [(9, 1), (20, 1), (240, 1), (279, 1), (308, 1), (309, 2), (310, 1), (311, 1), (312, 1), (313, 1), (314, 1), (315, 1), (316, 1), (317, 1), (318, 2), (319, 4), (320, 1), (321, 1)], [(9, 1), (292, 1), (322, 1), (323, 2), (324, 1), (325, 1), (326, 1), (327, 1), (328, 1), (329, 1), (330, 2), (331, 1), (332, 1)], [(9, 1), (113, 1), (205, 1), (209, 1), (333, 1), (334, 1), (335, 1), (336, 1), (337, 1), (338, 1), (339, 1), (340, 1), (341, 1), (342, 1), (343, 1), (344, 1), (345, 1), (346, 1), (347, 1), (348, 1), (349, 1), (350, 1), (351, 1), (352, 1), (353, 1), (354, 1), (355, 1), (356, 1), (357, 1), (358, 1)], [(9, 1), (21, 1), (23, 2), (27, 1), (36, 1), (43, 1), (45, 1), (292, 1), (359, 1), (360, 1), (361, 1), (362, 1), (363, 1), (364, 1), (365, 1), (366, 1)], [(9, 1), (21, 1), (23, 1), (43, 1), (130, 1), (197, 1), (344, 2), (360, 2), (367, 3), (368, 1), (369, 1), (370, 1), (371, 1), (372, 1), (373, 1), (374, 1), (375, 1), (376, 1), (377, 1), (378, 1), (379, 1), (380, 1), (381, 1), (382, 1), (383, 2), (384, 1), (385, 1), (386, 1)], [(9, 1), (71, 1), (134, 1), (387, 1), (388, 1), (389, 1), (390, 1), (391, 1), (392, 1), (393, 1), (394, 1)], [(9, 1), (74, 2), (104, 1), (292, 1), (335, 1), (387, 1), (395, 2), (396, 1), (397, 1), (398, 1), (399, 1), (400, 1), (401, 1)], [(9, 3), (21, 3), (23, 2), (26, 1), (151, 1), (402, 2), (403, 2), (404, 1), (405, 1), (406, 1), (407, 1)], [(9, 1), (270, 1), (344, 1), (369, 1), (408, 1), (409, 2), (410, 1), (411, 1), (412, 1), (413, 2), (414, 1), (415, 1), (416, 1), (417, 1), (418, 1), (419, 2), (420, 1), (421, 1), (422, 1)], [(9, 1), (43, 1), (130, 1), (306, 1), (359, 1), (408, 1), (423, 1), (424, 1), (425, 1), (426, 1), (427, 1), (428, 3), (429, 1), (430, 1), (431, 1), (432, 1), (433, 1), (434, 1), (435, 1), (436, 1), (437, 1), (438, 1), (439, 1), (440, 2), (441, 1), (442, 1), (443, 1), (444, 1), (445, 1)], [(9, 1), (41, 1), (89, 1), (158, 1), (188, 1), (270, 1), (365, 1), (446, 1), (447, 1), (448, 1), (449, 1), (450, 1), (451, 1), (452, 1), (453, 1), (454, 1), (455, 1)], [(9, 2), (15, 1), (21, 2), (54, 2), (142, 1), (437, 1), (456, 1), (457, 1), (458, 2), (459, 2), (460, 2)], [(9, 1), (68, 1), (76, 1), (77, 1), (187, 2), (191, 2), (274, 1), (355, 1), (401, 1), (461, 1), (462, 1), (463, 1), (464, 1), (465, 1), (466, 1), (467, 2), (468, 1)], [(9, 1), (21, 2), (230, 1), (469, 1), (470, 2), (471, 1), (472, 1), (473, 1), (474, 1), (475, 1), (476, 1), (477, 1)], [(9, 2), (15, 1), (71, 1), (132, 2), (234, 1), (286, 1), (391, 2), (478, 1), (479, 1), (480, 1), (481, 1), (482, 2), (483, 2), (484, 1), (485, 1), (486, 1)], [(9, 2), (21, 1), (234, 1), (258, 1), (483, 2), (487, 1), (488, 1), (489, 1), (490, 1), (491, 1), (492, 1), (493, 1), (494, 1), (495, 1)], [(9, 1), (21, 1), (23, 1), (151, 1), (331, 1), (496, 1), (497, 1), (498, 1), (499, 1), (500, 1), (501, 1)], [(9, 1), (22, 1), (25, 1), (27, 1), (45, 1), (141, 1), (299, 3), (307, 1), (366, 1), (502, 2), (503, 2), (504, 1), (505, 1), (506, 1), (507, 1), (508, 2), (509, 1), (510, 1), (511, 2), (512, 1)], [(9, 1), (11, 1), (21, 1), (27, 1), (277, 1), (407, 1), (513, 1), (514, 1), (515, 1), (516, 2), (517, 1), (518, 1), (519, 2), (520, 1), (521, 1), (522, 2), (523, 1), (524, 1), (525, 1), (526, 1), (527, 3)], [(9, 2), (15, 2), (102, 1), (186, 1), (304, 1), (336, 1), (355, 1), (371, 1), (528, 1), (529, 1), (530, 1), (531, 1), (532, 1), (533, 1), (534, 1), (535, 1), (536, 1)], [(9, 1), (15, 2), (22, 1), (25, 1), (110, 1), (124, 1), (537, 1), (538, 1), (539, 1), (540, 1), (541, 1), (542, 2), (543, 1), (544, 1)], [(9, 1), (21, 2), (23, 1), (545, 1), (546, 1), (547, 1), (548, 1)], [(9, 1), (21, 1), (23, 2), (28, 1), (71, 1), (132, 1), (298, 1), (364, 1), (478, 1), (545, 1), (549, 1)], [(9, 2), (15, 1), (140, 1), (149, 1), (155, 1), (208, 1), (274, 2), (456, 2), (465, 1), (535, 1), (545, 2), (550, 1), (551, 1), (552, 1), (553, 1), (554, 3), (555, 1), (556, 2), (557, 1), (558, 1)], [(8, 2), (9, 1), (112, 1), (140, 1), (149, 1), (246, 1), (518, 1), (559, 1), (560, 1), (561, 1), (562, 1), (563, 1), (564, 3), (565, 1), (566, 1)], [(9, 3), (71, 1), (128, 2), (130, 1), (134, 4), (246, 1), (258, 1), (298, 1), (360, 1), (486, 1), (567, 1), (568, 1)], [(9, 3), (26, 2), (134, 2), (157, 1), (246, 1), (569, 1), (570, 1), (571, 1), (572, 1)], [(9, 1), (21, 1), (140, 3), (149, 3), (246, 1), (250, 1), (356, 1), (543, 1), (573, 1), (574, 1), (575, 1), (576, 1), (577, 1), (578, 1), (579, 1), (580, 1), (581, 1), (582, 1), (583, 1), (584, 1), (585, 1)], [(9, 1), (21, 1), (23, 2), (50, 1), (55, 1), (181, 1), (188, 2), (586, 1), (587, 1)], [(9, 1), (21, 1), (23, 1), (43, 1), (55, 1), (157, 1), (188, 3), (200, 1), (365, 1), (381, 1), (389, 1), (586, 1), (588, 1), (589, 1), (590, 2), (591, 1), (592, 1), (593, 1), (594, 1), (595, 1), (596, 1)], [(9, 1), (21, 2), (23, 1), (47, 1), (358, 1), (437, 2), (465, 1), (597, 1), (598, 1), (599, 1), (600, 1), (601, 1)], [(9, 1), (21, 2), (23, 1), (515, 1), (522, 1), (555, 1), (602, 1), (603, 1), (604, 1), (605, 1), (606, 1), (607, 1), (608, 1), (609, 1), (610, 1), (611, 1), (612, 1)], [(8, 1), (9, 1), (15, 1), (21, 1), (23, 1), (62, 1), (69, 1), (107, 2), (144, 1), (155, 1), (489, 1), (599, 1), (613, 1), (614, 1), (615, 1), (616, 1), (617, 1), (618, 1), (619, 1), (620, 2)], [(9, 1), (21, 1), (23, 1), (71, 2), (358, 1), (391, 1), (451, 1), (621, 1), (622, 1), (623, 1), (624, 1), (625, 1), (626, 1)], [(9, 1), (32, 1), (244, 1), (531, 1), (627, 1), (628, 1), (629, 1), (630, 1), (631, 1), (632, 1), (633, 1), (634, 1), (635, 1), (636, 1), (637, 1), (638, 1), (639, 1)], [(9, 1), (32, 1), (179, 1), (191, 1), (244, 1), (518, 1), (629, 1), (630, 1), (633, 1), (638, 1), (640, 1), (641, 1), (642, 1), (643, 1), (644, 1), (645, 1), (646, 1)], [(9, 1), (32, 1), (166, 1), (191, 1), (244, 1), (627, 2), (628, 1), (629, 1), (630, 1), (632, 1), (633, 1), (635, 1), (637, 2), (638, 1), (646, 1), (647, 1), (648, 1), (649, 1), (650, 1), (651, 1)], [(9, 1), (32, 1), (41, 1), (68, 1), (166, 1), (169, 1), (179, 1), (447, 1), (627, 2), (628, 1), (632, 1), (633, 1), (635, 1), (637, 2), (646, 1), (648, 1), (651, 1), (652, 1), (653, 1), (654, 1)], [(9, 1), (21, 1), (23, 1), (32, 1), (43, 1), (55, 1), (67, 1), (188, 1), (189, 1), (365, 1), (369, 1), (467, 2), (524, 1), (590, 1), (613, 1), (624, 1), (638, 1), (655, 1), (656, 1), (657, 1), (658, 2), (659, 1), (660, 1), (661, 1), (662, 1), (663, 1), (664, 1), (665, 1)], [(9, 1), (68, 1), (187, 1), (299, 1), (335, 1), (452, 1), (666, 1), (667, 1), (668, 1)], [(9, 2), (21, 1), (55, 1), (84, 1), (140, 2), (149, 1), (236, 1), (307, 1), (509, 1), (669, 1), (670, 2), (671, 1), (672, 3), (673, 1), (674, 1), (675, 1), (676, 1)], [(9, 1), (159, 1), (169, 1), (182, 1), (191, 1), (425, 1), (513, 1), (545, 2), (609, 1), (677, 1), (678, 1), (679, 1), (680, 1), (681, 1)], [(9, 1), (15, 1), (22, 2), (25, 2), (32, 1), (35, 1), (36, 2), (41, 1), (107, 1), (175, 1), (325, 1), (326, 2), (365, 1), (372, 2), (389, 1), (407, 2), (418, 1), (682, 1), (683, 1), (684, 1), (685, 1), (686, 1)], [(9, 1), (22, 1), (25, 1), (39, 1), (67, 1), (183, 2), (208, 2), (243, 2), (598, 1), (687, 1), (688, 1), (689, 1), (690, 1), (691, 1), (692, 1), (693, 1), (694, 1), (695, 1)], [(9, 1), (68, 1), (104, 1), (696, 1), (697, 1), (698, 1), (699, 1), (700, 1), (701, 1), (702, 1), (703, 1), (704, 1), (705, 2), (706, 1), (707, 1), (708, 1), (709, 1), (710, 1), (711, 1), (712, 1), (713, 1), (714, 1)], [(9, 2), (43, 1), (62, 2), (144, 1), (616, 1), (715, 1), (716, 1), (717, 1), (718, 1)], [(0, 1), (9, 1), (30, 1), (160, 1), (166, 2), (167, 1), (169, 1), (182, 1), (239, 1), (244, 2), (344, 1), (457, 1), (525, 1), (629, 1), (630, 1), (638, 2), (639, 1), (648, 1), (654, 1), (656, 1), (719, 1), (720, 1), (721, 1), (722, 1)], [(9, 1), (229, 2), (457, 1), (535, 1), (627, 1), (630, 1), (632, 1), (635, 1), (637, 1), (648, 1), (652, 1), (723, 2)], [(9, 2), (15, 1), (55, 1), (130, 1), (457, 1), (535, 1), (645, 1), (724, 2)], [(9, 1), (27, 1), (32, 1), (43, 2), (64, 1), (67, 1), (152, 1), (155, 1), (228, 1), (336, 1), (524, 2), (547, 1), (725, 2), (726, 1), (727, 1), (728, 1), (729, 1), (730, 1), (731, 2), (732, 1)], [(9, 1), (71, 1), (358, 2), (461, 1), (607, 1), (622, 1), (679, 1), (733, 1), (734, 1), (735, 1), (736, 1), (737, 1), (738, 1), (739, 1), (740, 1)], [(9, 2), (21, 1), (23, 1), (130, 6), (336, 1), (535, 1), (555, 1), (601, 1), (613, 1), (622, 1), (726, 1), (741, 1), (742, 1), (743, 1), (744, 1), (745, 1), (746, 1), (747, 1), (748, 1), (749, 1)], [(9, 1), (132, 1), (155, 2), (178, 1), (260, 1), (750, 1), (751, 1), (752, 1), (753, 1), (754, 1), (755, 1), (756, 1)], [(9, 1), (21, 1), (23, 2), (188, 1), (209, 1), (322, 1), (757, 1), (758, 1), (759, 1), (760, 1), (761, 1)], [(9, 3), (22, 1), (25, 1), (319, 1), (401, 1), (457, 1), (762, 2), (763, 1), (764, 1), (765, 1), (766, 1), (767, 2), (768, 1), (769, 1), (770, 1), (771, 1), (772, 1)], [(9, 1), (21, 1), (23, 1), (32, 1), (149, 1), (193, 1), (230, 1), (389, 2), (578, 1), (585, 3), (607, 1), (609, 1), (613, 1), (685, 1), (773, 1), (774, 1), (775, 1), (776, 1), (777, 1), (778, 1), (779, 1)], [(9, 1), (11, 1), (15, 1), (43, 1), (55, 1), (68, 2), (208, 3), (213, 1), (285, 2), (336, 1), (443, 1), (466, 1), (550, 4), (554, 3), (780, 1), (781, 1), (782, 1), (783, 1), (784, 1), (785, 1), (786, 1), (787, 1)], [(9, 2), (36, 2), (43, 1), (130, 1), (363, 1), (609, 1), (788, 1), (789, 1), (790, 1), (791, 1), (792, 1), (793, 1), (794, 1)], [(9, 1), (230, 1), (439, 1), (453, 1), (627, 1), (795, 1), (796, 1), (797, 1)], [(9, 1), (21, 2), (23, 1), (140, 1), (141, 1), (545, 1), (580, 1), (581, 1), (627, 1), (777, 1), (798, 1), (799, 1), (800, 1), (801, 1), (802, 1)], [(9, 1), (39, 1), (89, 1), (130, 1), (243, 1), (356, 3), (780, 1), (803, 2), (804, 1), (805, 1), (806, 1), (807, 1)], [(9, 1), (87, 1), (91, 1), (157, 1), (187, 2), (808, 1), (809, 1), (810, 1), (811, 1), (812, 1), (813, 1), (814, 1)], [(9, 2), (22, 1), (25, 1), (69, 1), (152, 1), (482, 2), (815, 1), (816, 1), (817, 1), (818, 1), (819, 1), (820, 1), (821, 1), (822, 2)], [(9, 1), (15, 2), (21, 3), (28, 1), (107, 1), (130, 1), (250, 1), (270, 1), (425, 1), (426, 2), (434, 1), (440, 1), (457, 2), (461, 1), (530, 2), (659, 1), (746, 1), (823, 1), (824, 2), (825, 2), (826, 2)], [(9, 1), (21, 2), (23, 1), (54, 1), (142, 1), (230, 1), (358, 1), (370, 1), (395, 1), (726, 1), (827, 1), (828, 1), (829, 1), (830, 1), (831, 1), (832, 1), (833, 1), (834, 1), (835, 1), (836, 1), (837, 1), (838, 1), (839, 1), (840, 1), (841, 1), (842, 1), (843, 1)], [(9, 1), (21, 1), (68, 1), (140, 2), (188, 1), (191, 1), (508, 1), (587, 1), (604, 1), (660, 1), (844, 1), (845, 1), (846, 1), (847, 2), (848, 1), (849, 1), (850, 1), (851, 1)], [(9, 1), (15, 1), (21, 1), (22, 1), (23, 1), (25, 1), (726, 1), (830, 1), (838, 1), (839, 1)], [(9, 1), (15, 1), (21, 1), (23, 1), (191, 1), (365, 1), (587, 1), (665, 1), (666, 1), (690, 1), (852, 1), (853, 1), (854, 3), (855, 1), (856, 1), (857, 1)], [(9, 2), (15, 2), (130, 2), (155, 1), (178, 1), (188, 1), (191, 1), (233, 1), (299, 1), (365, 1), (425, 2), (443, 1), (448, 1), (452, 1), (658, 1), (660, 1), (666, 1), (858, 1), (859, 1), (860, 1), (861, 1)], [(9, 1), (15, 1), (191, 1), (365, 1), (578, 1), (589, 1), (658, 1), (862, 1)], [(9, 1), (15, 1), (21, 1), (23, 1), (28, 1), (32, 1), (78, 1), (152, 1), (191, 1), (208, 1), (365, 1), (578, 1), (585, 2), (663, 1), (665, 1), (683, 1), (774, 1), (826, 2), (863, 1), (864, 1), (865, 1), (866, 1)], [(9, 1), (21, 1), (23, 2), (50, 1), (205, 1), (207, 1), (335, 1), (364, 1), (375, 1), (867, 3), (868, 1), (869, 1), (870, 1)], [(9, 1), (21, 1), (23, 1), (50, 1), (375, 1), (377, 1), (665, 1), (867, 1), (868, 1), (869, 1), (871, 1), (872, 1), (873, 1), (874, 1)], [(9, 2), (36, 1), (39, 1), (45, 1), (369, 1), (793, 1), (803, 1), (804, 1), (875, 1), (876, 1), (877, 1), (878, 1), (879, 1)], [(9, 2), (21, 2), (22, 1), (23, 1), (25, 1), (28, 1), (77, 1), (108, 1), (181, 1), (314, 2), (369, 1), (880, 1), (881, 1), (882, 1), (883, 1)], [(9, 1), (58, 1), (59, 1), (221, 1), (222, 1), (224, 1), (225, 1), (270, 1), (369, 1), (392, 1), (884, 1), (885, 1), (886, 1), (887, 1), (888, 1), (889, 1), (890, 1), (891, 1), (892, 1), (893, 1)], [(9, 2), (21, 1), (23, 1), (27, 1), (36, 3), (132, 2), (243, 1), (314, 1), (363, 1), (369, 1), (371, 1), (383, 1), (418, 1), (516, 1), (894, 1), (895, 1), (896, 1), (897, 1), (898, 1), (899, 1), (900, 1), (901, 1), (902, 1), (903, 2), (904, 1)], [(9, 1), (22, 1), (25, 1), (239, 1), (270, 1), (335, 1), (360, 1), (369, 1), (522, 1), (588, 1), (687, 1), (688, 1), (699, 1), (712, 1), (905, 1), (906, 1), (907, 1), (908, 1), (909, 1), (910, 1), (911, 1), (912, 1), (913, 1), (914, 1), (915, 1), (916, 1), (917, 1), (918, 1), (919, 2), (920, 1), (921, 1)], [(9, 1), (43, 2), (707, 1), (763, 1), (777, 1), (862, 1), (922, 1), (923, 1), (924, 1), (925, 1), (926, 1), (927, 1), (928, 1), (929, 1), (930, 1), (931, 1)], [(9, 1), (166, 1), (244, 1), (344, 1), (545, 1), (638, 1), (652, 1), (923, 1), (932, 1), (933, 1), (934, 1), (935, 1)], [(9, 2), (22, 1), (25, 1), (51, 2), (298, 1), (479, 1), (482, 2), (599, 1), (701, 1), (936, 2), (937, 1), (938, 1)], [(9, 1), (230, 1), (499, 1), (939, 1)], [(9, 1), (15, 1), (383, 1), (486, 1), (932, 1), (939, 1), (940, 1), (941, 1), (942, 1), (943, 1)], [(9, 1), (21, 2), (23, 1), (151, 1), (157, 1), (166, 1), (168, 1), (769, 2), (791, 2), (878, 1), (927, 1), (935, 1), (944, 1), (945, 1), (946, 1), (947, 1), (948, 1), (949, 2), (950, 1), (951, 3), (952, 1), (953, 1), (954, 1)], [(9, 3), (21, 5), (23, 2), (670, 1), (675, 1), (949, 2), (955, 1), (956, 1), (957, 1), (958, 1)], [(9, 1), (21, 1), (23, 1), (124, 1), (151, 1), (157, 1), (230, 1), (690, 1), (777, 1), (862, 1), (955, 1), (959, 1)], [(9, 2), (15, 1), (123, 1), (128, 2), (134, 4), (243, 1), (267, 1), (269, 1), (303, 1), (304, 1), (960, 1)], [(9, 1), (21, 2), (22, 1), (23, 3), (25, 1), (188, 1), (961, 1)], [(9, 1), (21, 2), (23, 1), (962, 1), (963, 1), (964, 1)], [(9, 1), (21, 2), (23, 1), (587, 1), (589, 1), (684, 1), (862, 1), (925, 1), (965, 1)], [(9, 1), (130, 1), (132, 2), (314, 1), (478, 1), (754, 1), (853, 1), (959, 1), (966, 1), (967, 1), (968, 3), (969, 1), (970, 1), (971, 1), (972, 1), (973, 1), (974, 1)], [(9, 1), (21, 1), (23, 1), (132, 1), (619, 1), (862, 1), (896, 1)], [(9, 2), (21, 1), (23, 1), (126, 1), (128, 2), (131, 1), (133, 1), (134, 1), (205, 1), (230, 1), (293, 2), (294, 1), (314, 1), (975, 1), (976, 1)], [(9, 1), (21, 1), (23, 1), (467, 1), (641, 1), (977, 1), (978, 1), (979, 1), (980, 1), (981, 1), (982, 1), (983, 1), (984, 1)], [(9, 1), (21, 1), (23, 1), (188, 2), (192, 1), (193, 1), (195, 1), (196, 1), (198, 1), (365, 1), (624, 1), (641, 1), (663, 1), (773, 1), (978, 1), (985, 1), (986, 1), (987, 1), (988, 1), (989, 1)], [(9, 1), (21, 1), (23, 1), (188, 2), (192, 1), (193, 1), (195, 1), (196, 1), (198, 1), (365, 1), (624, 1), (663, 1), (773, 1), (978, 1), (985, 1), (986, 1), (987, 1), (988, 1), (989, 1), (990, 1), (991, 1)], [(9, 2), (15, 1), (89, 1), (221, 2), (222, 2), (356, 1), (992, 1), (993, 1), (994, 1), (995, 1), (996, 1), (997, 1)], [(9, 2), (15, 1), (24, 1), (365, 1), (389, 1), (923, 3), (998, 1), (999, 1), (1000, 1), (1001, 1), (1002, 1), (1003, 1)], [(9, 1), (166, 1), (467, 1), (611, 1), (629, 1), (630, 1), (647, 1), (761, 1), (1004, 1), (1005, 1), (1006, 1), (1007, 1), (1008, 1), (1009, 1), (1010, 1), (1011, 1), (1012, 1)], [(9, 1), (112, 1), (202, 1), (207, 1), (647, 1), (819, 1), (858, 1), (913, 1), (1013, 1), (1014, 1), (1015, 1), (1016, 1), (1017, 1)], [(9, 2), (178, 1), (450, 1), (660, 1), (1000, 1), (1018, 1), (1019, 1), (1020, 1)], [(9, 1), (21, 1), (23, 2), (230, 1), (364, 1), (370, 1), (395, 1), (830, 1), (1021, 1), (1022, 1)], [(9, 1), (21, 1), (140, 3), (149, 3), (196, 1), (198, 1), (250, 1), (325, 1), (356, 1), (389, 1), (543, 1), (573, 1), (574, 1), (575, 1), (576, 1), (577, 1), (578, 1), (582, 1), (584, 1), (1023, 1)], [(9, 1), (21, 2), (175, 1), (187, 1), (188, 1), (189, 1), (191, 1), (230, 1), (233, 1), (235, 1), (325, 1), (467, 1), (545, 1), (660, 2), (666, 1), (702, 1), (1024, 1), (1025, 1), (1026, 2), (1027, 1), (1028, 1), (1029, 1), (1030, 1), (1031, 1), (1032, 1), (1033, 1)], [(9, 2), (15, 1), (28, 2), (112, 1), (152, 1), (157, 1), (364, 1), (535, 1), (707, 1), (746, 2), (1034, 1), (1035, 1), (1036, 1), (1037, 1), (1038, 1), (1039, 1), (1040, 1), (1041, 1), (1042, 1), (1043, 1), (1044, 1)], [(9, 1), (15, 1), (25, 1), (26, 1), (59, 1), (67, 1), (69, 1), (116, 1), (121, 1), (146, 1), (224, 1), (524, 1), (675, 1), (1045, 1), (1046, 1), (1047, 1), (1048, 1), (1049, 1), (1050, 1), (1051, 1)], [(9, 1), (55, 1), (58, 1), (59, 1), (84, 1), (107, 1), (109, 1), (181, 2), (224, 1), (326, 2), (337, 1), (358, 1), (389, 3), (620, 1), (773, 1), (905, 2), (910, 2), (1052, 1), (1053, 1), (1054, 1), (1055, 1), (1056, 1), (1057, 1), (1058, 1), (1059, 1)], [(9, 1), (21, 2), (23, 1), (140, 1), (141, 1), (186, 1), (389, 1), (539, 1), (545, 1), (580, 1), (581, 1), (658, 1), (798, 1), (800, 1), (1060, 1), (1061, 1)], [(9, 1), (21, 1), (140, 3), (149, 3), (186, 1), (250, 1), (356, 1), (389, 1), (543, 1), (573, 1), (575, 1), (576, 1), (577, 1), (578, 1), (582, 1), (658, 1), (1060, 1), (1061, 1)], [(9, 2), (51, 2), (59, 2), (60, 2), (304, 1), (350, 1), (358, 1), (457, 1), (746, 1), (909, 1), (1058, 1), (1062, 1), (1063, 1), (1064, 1), (1065, 1)], [(9, 1), (21, 1), (23, 1), (197, 1), (326, 2), (1066, 1), (1067, 2), (1068, 1), (1069, 1), (1070, 1)], [(9, 1), (21, 1), (23, 1), (370, 1), (530, 1), (826, 1), (977, 1), (979, 1), (980, 1), (982, 1), (983, 1), (984, 1), (1071, 1), (1072, 1), (1073, 1), (1074, 3), (1075, 1), (1076, 1), (1077, 1), (1078, 1)], [(9, 2), (1079, 1), (1080, 1), (1081, 1), (1082, 1), (1083, 1), (1084, 2), (1085, 1), (1086, 1), (1087, 1), (1088, 1), (1089, 1)], [(9, 1), (21, 4), (22, 1), (25, 1), (91, 2), (113, 3), (115, 3), (116, 3), (154, 2), (182, 1), (292, 1), (663, 1), (787, 2), (1090, 1), (1091, 1), (1092, 1), (1093, 1), (1094, 1), (1095, 1)], [(9, 2), (290, 1), (365, 1), (544, 1), (638, 1), (950, 1), (951, 1), (1096, 1)], [(9, 2), (21, 1), (22, 1), (25, 1), (36, 1), (290, 1), (609, 1), (950, 1), (1096, 1), (1097, 1), (1098, 1), (1099, 1), (1100, 1)], [(9, 1), (21, 1), (23, 1), (197, 1), (364, 1), (400, 1), (514, 1), (1101, 1), (1102, 1), (1103, 1)], [(9, 1), (21, 3), (104, 1), (134, 1), (277, 1), (1104, 1), (1105, 1), (1106, 2)], [(9, 3), (15, 1), (62, 1), (233, 1), (467, 1), (524, 1), (530, 1), (550, 1), (638, 1), (910, 1), (939, 1), (1047, 1), (1107, 1), (1108, 2), (1109, 1), (1110, 1), (1111, 1), (1112, 1), (1113, 1), (1114, 1), (1115, 1)], [(9, 1), (67, 1), (167, 1), (229, 1), (244, 3), (396, 1), (629, 2), (638, 3), (650, 1), (686, 1), (722, 1), (1116, 1), (1117, 1), (1118, 1), (1119, 1), (1120, 1), (1121, 1), (1122, 1), (1123, 1), (1124, 2), (1125, 2), (1126, 1)], [(9, 2), (28, 1), (59, 2), (207, 1), (212, 1), (221, 3), (222, 1), (224, 2), (486, 1), (888, 3), (922, 1), (929, 1), (1127, 1), (1128, 3), (1129, 1), (1130, 1), (1131, 1), (1132, 1), (1133, 1), (1134, 1)], [(9, 1), (28, 1), (59, 1), (221, 3), (222, 1), (224, 1), (456, 1), (486, 1), (790, 1), (888, 3), (894, 1), (902, 1), (929, 1), (1127, 1), (1128, 2), (1129, 1), (1131, 1), (1135, 1)], [(9, 1), (187, 1), (188, 1), (230, 1), (231, 2), (233, 1), (660, 1), (1026, 2), (1136, 1)], [(9, 1), (21, 3), (23, 1), (77, 1), (140, 1), (141, 1), (545, 1), (580, 1), (581, 1), (585, 1), (694, 1), (798, 1), (800, 1), (905, 1), (1098, 1), (1137, 1)], [(9, 1), (21, 1), (181, 1), (187, 1), (188, 3), (189, 1), (229, 1), (230, 1), (235, 1), (237, 1), (240, 1), (241, 1), (242, 1), (243, 1), (254, 1), (447, 1), (556, 1), (677, 1), (916, 1), (1100, 1), (1138, 1), (1139, 1), (1140, 1), (1141, 1), (1142, 1), (1143, 1), (1144, 1), (1145, 1), (1146, 1)], [(9, 1), (21, 4), (434, 1), (440, 1), (1147, 1), (1148, 1), (1149, 1), (1150, 3), (1151, 1)], [(9, 3), (21, 1), (23, 1), (26, 1), (154, 1), (903, 1), (958, 1), (961, 1), (1152, 1), (1153, 1), (1154, 1)], [(9, 1), (21, 2), (23, 1), (624, 1), (1155, 1)], [(9, 1), (21, 1), (22, 1), (25, 1), (710, 1), (1156, 1), (1157, 1), (1158, 1), (1159, 1), (1160, 1), (1161, 1), (1162, 1), (1163, 1), (1164, 1), (1165, 2), (1166, 1), (1167, 1), (1168, 1), (1169, 1), (1170, 1), (1171, 1), (1172, 2), (1173, 1), (1174, 1), (1175, 1), (1176, 1), (1177, 4)], [(9, 1), (21, 1), (188, 1), (229, 1), (335, 1), (454, 1), (547, 1), (861, 1), (1178, 1)], [(9, 1), (15, 1), (21, 1), (95, 1), (140, 1), (141, 1), (149, 1), (157, 1), (175, 1), (253, 1), (313, 1), (430, 1), (524, 1), (726, 1), (802, 1), (995, 1), (1047, 3), (1064, 1), (1179, 1), (1180, 1), (1181, 1), (1182, 1), (1183, 1), (1184, 1), (1185, 1), (1186, 1), (1187, 1), (1188, 1), (1189, 1), (1190, 1), (1191, 1), (1192, 1), (1193, 1)], [(9, 1), (11, 1), (250, 1), (486, 1), (545, 1), (782, 1), (1194, 1), (1195, 1), (1196, 2), (1197, 1), (1198, 1), (1199, 3), (1200, 1)], [(9, 1), (21, 2), (22, 1), (23, 3), (25, 1), (641, 1)], [(9, 1), (15, 1), (28, 1), (243, 1), (270, 1), (319, 1), (337, 1), (344, 1), (375, 2), (379, 1), (400, 1), (449, 1), (466, 1), (535, 1), (652, 1), (663, 1), (665, 1), (1018, 1), (1100, 1), (1201, 1), (1202, 1), (1203, 1), (1204, 1), (1205, 1), (1206, 1)], [(9, 1), (21, 1), (23, 1), (54, 1), (109, 1), (827, 1), (836, 1), (1207, 1), (1208, 1), (1209, 1), (1210, 1), (1211, 1)], [(9, 1), (21, 1), (23, 1), (54, 1), (109, 1), (200, 1), (836, 1), (1212, 1), (1213, 1), (1214, 1), (1215, 1), (1216, 1)], [(9, 1), (59, 2), (91, 2), (93, 2), (95, 2), (221, 2), (222, 2), (224, 2), (258, 1), (741, 1), (873, 1), (1127, 1), (1203, 1), (1217, 1), (1218, 1), (1219, 1), (1220, 1), (1221, 1)], [(2, 1), (9, 1), (54, 1), (157, 1), (239, 1), (449, 1), (545, 1), (555, 1), (595, 1), (780, 1), (1222, 1), (1223, 1), (1224, 1)], [(9, 1), (46, 1), (130, 1), (181, 1), (235, 1), (389, 1), (401, 1), (691, 1), (1144, 1), (1225, 1), (1226, 1), (1227, 1), (1228, 1), (1229, 1), (1230, 1), (1231, 1), (1232, 1)], [(9, 1), (21, 2), (23, 1), (326, 1), (437, 1), (460, 1), (600, 1), (819, 1), (1233, 1), (1234, 1)], [(9, 1), (15, 1), (21, 2), (23, 1), (641, 1), (663, 1), (977, 1), (979, 1), (980, 1), (982, 1), (983, 1), (984, 1), (1073, 1), (1078, 1), (1201, 1), (1235, 1), (1236, 1), (1237, 1), (1238, 1)], [(9, 1), (21, 2), (23, 1), (114, 1), (140, 1), (141, 1), (193, 1), (545, 1), (580, 1), (581, 1), (798, 1), (800, 1), (1239, 1)], [(9, 1), (15, 1), (21, 1), (22, 1), (25, 1), (159, 1), (193, 1), (230, 1), (326, 1), (355, 1), (365, 1), (544, 1), (609, 1), (679, 1), (693, 1), (1240, 1)], [(9, 1), (21, 1), (23, 1), (151, 1), (193, 1), (400, 2), (447, 1), (659, 1), (983, 1), (1241, 1), (1242, 1), (1243, 1)], [(9, 1), (21, 2), (23, 2), (177, 1), (207, 1), (335, 1), (364, 1), (370, 1), (602, 1), (603, 1), (604, 1), (605, 2), (611, 1), (624, 1)], [(8, 1), (9, 1), (21, 1), (140, 3), (149, 3), (250, 1), (290, 1), (356, 1), (543, 1), (573, 1), (574, 1), (575, 1), (576, 1), (577, 1), (578, 1), (582, 1), (584, 1), (1244, 1), (1245, 1)], [(8, 1), (9, 2), (13, 1), (15, 1), (21, 1), (403, 1), (763, 1), (1246, 1), (1247, 1), (1248, 1), (1249, 1)], [(9, 1), (21, 1), (331, 1), (489, 1), (769, 1), (834, 1), (1250, 1), (1251, 1), (1252, 2), (1253, 1), (1254, 1), (1255, 1), (1256, 2), (1257, 1), (1258, 1), (1259, 1), (1260, 1), (1261, 1), (1262, 1), (1263, 2), (1264, 1)], [(9, 1), (21, 2), (23, 1), (91, 1), (517, 1), (519, 1), (919, 1), (1265, 1), (1266, 1), (1267, 1)], [(9, 2), (128, 2), (132, 1), (134, 1), (486, 1), (551, 1), (876, 1), (942, 1), (1268, 1), (1269, 1), (1270, 1), (1271, 1)], [(9, 1), (64, 1), (77, 1), (208, 1), (243, 1), (285, 1), (336, 1), (550, 1), (554, 1), (607, 1), (608, 1), (670, 1), (1033, 1), (1272, 1), (1273, 1), (1274, 1), (1275, 1), (1276, 1), (1277, 1)], [(9, 1), (21, 1), (23, 1), (208, 1), (233, 1), (321, 1), (377, 1), (545, 1), (639, 1), (694, 1), (785, 1), (1272, 1), (1278, 1)], [(9, 2), (22, 1), (25, 1), (106, 1), (277, 1), (304, 1), (1218, 1), (1272, 1), (1279, 1), (1280, 1)], [(9, 1), (21, 1), (23, 1), (208, 1), (589, 1), (862, 1), (925, 1), (1272, 1)], [(9, 2), (51, 2), (91, 1), (129, 1), (457, 2), (812, 1), (1281, 1), (1282, 1), (1283, 1), (1284, 1), (1285, 1), (1286, 1)], [(9, 1), (21, 2), (23, 1), (69, 1), (91, 1), (117, 1), (142, 1), (154, 1), (157, 1), (539, 1), (607, 1), (928, 1), (1211, 1), (1287, 1), (1288, 1), (1289, 1), (1290, 1), (1291, 1), (1292, 1), (1293, 1), (1294, 1), (1295, 1), (1296, 1), (1297, 1), (1298, 1)], [(9, 2), (28, 1), (282, 1), (290, 1), (878, 1), (1299, 1), (1300, 1), (1301, 1), (1302, 1), (1303, 1), (1304, 1)], [(9, 1), (15, 1), (31, 1), (43, 1), (69, 1), (130, 1), (203, 1), (244, 1), (336, 1), (464, 1), (467, 1), (522, 1), (1115, 1), (1305, 1), (1306, 1), (1307, 1)], [(9, 2), (208, 2), (285, 3), (288, 1), (550, 2), (554, 1), (670, 1)], [(9, 2), (11, 1), (208, 2), (285, 1), (304, 1), (486, 1), (550, 3), (554, 2), (556, 1), (1308, 1)], [(9, 2), (62, 2), (116, 1), (258, 1), (274, 1), (616, 1), (716, 2), (741, 1), (1217, 1), (1309, 1), (1310, 1), (1311, 1), (1312, 1), (1313, 1), (1314, 1)], [(9, 2), (59, 1), (87, 2), (89, 1), (91, 2), (107, 1), (270, 1), (291, 1), (356, 1), (812, 2), (1096, 1), (1127, 1), (1315, 1), (1316, 1), (1317, 1), (1318, 1), (1319, 1)], [(9, 2), (200, 1), (290, 1), (336, 1), (407, 1), (457, 1), (607, 1), (904, 1), (1320, 1), (1321, 1)], [(9, 2), (22, 1), (25, 1), (43, 1), (51, 1), (59, 1), (60, 1), (206, 1), (350, 1), (492, 1), (815, 1), (1322, 1), (1323, 1), (1324, 1), (1325, 1), (1326, 1), (1327, 1)], [(9, 2), (185, 1), (188, 1), (1328, 1), (1329, 1), (1330, 1), (1331, 1), (1332, 1), (1333, 1), (1334, 1)], [(9, 2), (128, 2), (132, 1), (134, 1), (137, 1), (298, 1), (430, 1), (457, 1), (1335, 1), (1336, 1), (1337, 1)], [(9, 2), (460, 1), (726, 1), (830, 2), (838, 1), (839, 1)], [(9, 2), (50, 1), (71, 1), (128, 1), (131, 1), (134, 1), (270, 1), (298, 1), (358, 1), (975, 1), (1338, 1), (1339, 1), (1340, 1), (1341, 1)], [(9, 1), (21, 1), (51, 1), (62, 1), (430, 1), (511, 1), (670, 1), (1342, 1), (1343, 1), (1344, 1), (1345, 1)], [(9, 1), (21, 2), (486, 1), (1346, 1), (1347, 1), (1348, 1), (1349, 1), (1350, 1), (1351, 1), (1352, 1), (1353, 1), (1354, 1)], [(9, 2), (76, 1), (187, 1), (226, 2), (462, 2), (467, 1), (845, 2), (1138, 1), (1355, 1), (1356, 1)], [(9, 2), (389, 1), (555, 1), (585, 1), (598, 1), (607, 1), (694, 1), (876, 1), (1357, 1)], [(9, 2), (107, 1), (613, 1), (627, 1), (658, 1), (855, 1), (861, 1), (890, 1), (1358, 1), (1359, 1), (1360, 1), (1361, 1)], [(9, 2), (51, 2), (59, 1), (155, 1), (259, 1), (535, 1), (1239, 1), (1318, 1), (1362, 1), (1363, 1), (1364, 1), (1365, 1), (1366, 1)], [(9, 3), (21, 1), (186, 1), (232, 1), (685, 1), (1367, 1), (1368, 1), (1369, 1), (1370, 1), (1371, 1)], [(9, 2), (130, 2), (155, 1), (455, 1), (532, 1), (1372, 1), (1373, 1)], [(9, 2), (41, 1), (140, 1), (149, 1), (187, 1), (218, 1), (499, 1), (545, 1), (550, 1), (845, 2), (1374, 1), (1375, 1), (1376, 1), (1377, 1), (1378, 2), (1379, 1)], [(9, 2), (11, 1), (15, 1), (125, 1), (157, 1), (270, 1), (358, 1), (486, 1), (526, 1), (532, 1), (716, 2), (717, 1), (1296, 1), (1380, 1), (1381, 1), (1382, 2)], [(9, 2), (107, 1), (125, 1), (270, 1), (526, 1), (532, 1), (716, 1), (1381, 1), (1382, 1)], [(9, 2), (344, 1), (532, 1), (547, 1), (620, 1), (638, 1), (716, 1), (717, 1), (761, 1), (916, 1), (1381, 1), (1383, 1), (1384, 1), (1385, 1)], [(9, 2), (32, 1), (144, 1), (286, 1), (304, 1), (532, 1), (716, 2), (717, 1), (718, 1), (1310, 1), (1313, 1), (1381, 1), (1386, 1), (1387, 1), (1388, 1)], [(9, 2), (277, 1), (344, 1), (620, 1), (638, 1), (716, 2), (761, 1), (1211, 1), (1218, 1), (1381, 1), (1389, 1), (1390, 2), (1391, 1)], [(9, 1), (41, 1), (755, 1), (1392, 1), (1393, 1), (1394, 1)], [(9, 2), (179, 1), (304, 1), (950, 1), (951, 1), (1395, 1), (1396, 1)], [(9, 2), (106, 1), (138, 1), (143, 1), (304, 1), (390, 1), (511, 1), (862, 1), (1133, 2), (1336, 1), (1397, 1)], [(9, 2), (140, 1), (149, 1), (277, 1), (290, 1), (304, 1), (604, 1), (619, 1), (844, 1), (846, 1), (848, 1), (1133, 1), (1134, 1), (1218, 1), (1355, 1), (1398, 1)], [(9, 2), (416, 1), (824, 1), (1240, 1), (1399, 1), (1400, 2), (1401, 2), (1402, 1), (1403, 1), (1404, 1), (1405, 1)], [(2, 1), (9, 2), (43, 1), (130, 1), (188, 1), (191, 1), (361, 1), (365, 1), (457, 1), (587, 1), (770, 1), (1356, 1)], [(9, 2), (15, 2), (128, 1), (131, 1), (134, 1), (299, 1), (752, 1), (1406, 1)], [(9, 1), (21, 1), (321, 1), (1012, 1), (1407, 1), (1408, 1), (1409, 1)], [(9, 2), (1329, 1), (1333, 1), (1410, 1), (1411, 1), (1412, 1), (1413, 1), (1414, 1)], [(9, 2), (21, 1), (77, 1), (140, 2), (149, 1), (453, 1), (530, 1), (747, 2), (796, 1), (845, 1), (874, 1), (1273, 1), (1338, 1), (1415, 1), (1416, 1), (1417, 1), (1418, 1)], [(9, 2), (36, 1), (208, 1), (660, 1), (690, 1), (944, 1), (1097, 1), (1419, 1), (1420, 1), (1421, 1)], [(9, 3), (15, 2), (22, 1), (25, 1), (389, 1), (437, 1), (660, 1), (726, 2), (830, 1), (838, 1), (880, 1), (1422, 1), (1423, 1), (1424, 1)], [(9, 2), (188, 1), (230, 1), (370, 1), (486, 1), (587, 1), (604, 1), (660, 1), (942, 1)], [(9, 2), (85, 1), (608, 1), (660, 1), (844, 1), (846, 1), (1127, 1), (1356, 1), (1398, 1), (1425, 1), (1426, 1)], [(9, 2), (21, 1), (142, 2), (232, 1), (544, 1), (726, 3), (828, 1), (830, 3), (838, 1), (839, 1), (1361, 2), (1427, 1), (1428, 1)], [(9, 2), (21, 1), (23, 1), (89, 1), (144, 2), (204, 1), (243, 1), (356, 2), (376, 1), (807, 1), (1429, 1), (1430, 1)], [(9, 2), (22, 1), (25, 1), (128, 4), (134, 4), (298, 1), (299, 1), (610, 1), (1431, 1), (1432, 1)], [(9, 2), (55, 1), (68, 1), (84, 1), (210, 2), (290, 1), (403, 1), (554, 1), (779, 1), (1128, 1), (1433, 1), (1434, 1)], [(9, 2), (11, 1), (123, 1), (126, 1), (128, 2), (131, 3), (133, 1), (134, 2), (136, 2), (205, 2), (391, 1), (688, 1), (858, 1), (1435, 1), (1436, 1)], [(9, 2), (21, 1), (188, 1), (335, 1), (365, 1), (452, 1), (453, 1), (461, 1), (875, 1), (988, 1), (1437, 1), (1438, 1), (1439, 1)], [(9, 3), (36, 2), (55, 1), (68, 3), (77, 1), (385, 1), (407, 1), (777, 1), (1393, 1), (1440, 1), (1441, 1), (1442, 1), (1443, 1), (1444, 1), (1445, 1)], [(9, 2), (140, 3), (201, 1), (326, 2), (465, 2), (585, 3), (612, 1), (1137, 1), (1446, 1)], [(9, 2), (140, 3), (201, 2), (505, 1), (550, 1), (585, 3), (863, 1), (1433, 1), (1447, 1)], [(9, 3), (405, 1), (1448, 1), (1449, 1)], [(9, 1), (43, 1), (115, 1), (152, 1), (207, 1), (208, 2), (371, 1), (524, 1), (545, 2), (716, 1), (785, 2), (787, 1), (863, 1), (865, 1), (1310, 1), (1313, 1), (1450, 2), (1451, 1), (1452, 1), (1453, 1), (1454, 1), (1455, 1), (1456, 1), (1457, 1), (1458, 2), (1459, 1), (1460, 1)], [(9, 1), (15, 1), (22, 2), (25, 2), (522, 1), (688, 1), (853, 1), (920, 1), (1461, 1), (1462, 1), (1463, 1), (1464, 1), (1465, 1), (1466, 1), (1467, 1), (1468, 2), (1469, 1), (1470, 1), (1471, 1), (1472, 1), (1473, 1), (1474, 1)], [(9, 1), (22, 1), (25, 1), (158, 1), (230, 1), (239, 1), (254, 1), (270, 1), (321, 1), (335, 1), (515, 1), (692, 2), (699, 1), (712, 1), (761, 1), (907, 1), (914, 1), (915, 1), (917, 1), (918, 1), (919, 1), (1012, 2), (1273, 1), (1475, 1), (1476, 1), (1477, 1)], [(9, 1), (21, 3), (39, 1), (68, 1), (154, 1), (161, 1), (189, 1), (254, 1), (547, 1), (556, 1), (1022, 1), (1478, 1), (1479, 1), (1480, 1), (1481, 1), (1482, 1), (1483, 1), (1484, 2), (1485, 1), (1486, 1)], [(9, 1), (21, 1), (23, 1), (36, 1), (43, 1), (130, 1), (292, 1), (343, 1), (363, 1), (609, 1), (789, 1), (791, 1), (792, 1), (913, 1), (1225, 1)], [(9, 1), (230, 1), (343, 1), (502, 1), (504, 1), (505, 1), (744, 1), (751, 1), (1487, 1), (1488, 1), (1489, 1), (1490, 1)], [(2, 1), (3, 1), (9, 1), (182, 1), (198, 1), (336, 1), (389, 1), (408, 1), (425, 1), (497, 1), (525, 1), (638, 1), (657, 1), (675, 1), (685, 1), (961, 2), (1100, 1), (1179, 1), (1491, 3), (1492, 1), (1493, 1), (1494, 1), (1495, 1), (1496, 1), (1497, 1), (1498, 1), (1499, 1), (1500, 1)], [(9, 1), (15, 1), (110, 1), (278, 1), (408, 1)], [(9, 1), (15, 1), (21, 1), (110, 1), (116, 1), (151, 2), (178, 1), (233, 1), (412, 3), (566, 1), (710, 1), (1399, 1), (1501, 1), (1502, 1), (1503, 1), (1504, 1)], [(9, 1), (28, 1), (50, 1), (67, 1), (154, 1), (197, 1), (243, 1), (358, 2), (454, 1), (514, 1), (535, 1), (880, 1), (975, 1), (1018, 1), (1218, 1), (1273, 1), (1505, 1), (1506, 1)], [(9, 1), (21, 1), (114, 1), (140, 3), (149, 3), (250, 1), (356, 1), (543, 1), (573, 1), (574, 1), (575, 1), (576, 1), (577, 1), (578, 1), (579, 1), (582, 1), (583, 1), (584, 1), (585, 1), (1507, 1), (1508, 1)], [(8, 1), (9, 1), (13, 1), (196, 1), (358, 1), (1047, 1), (1509, 1), (1510, 1), (1511, 1), (1512, 1), (1513, 1), (1514, 1), (1515, 1)], [(9, 1), (21, 2), (43, 1), (140, 2), (149, 1), (365, 2), (467, 1), (647, 1), (845, 1), (1064, 2), (1516, 1), (1517, 2), (1518, 1), (1519, 1), (1520, 1), (1521, 2), (1522, 1)], [(9, 2), (214, 3), (220, 3), (304, 1), (845, 2), (1064, 1), (1395, 1), (1523, 2), (1524, 1), (1525, 2)], [(9, 2), (22, 1), (25, 1), (277, 1), (304, 1), (604, 1), (844, 1), (845, 1), (846, 1), (848, 1), (1218, 1), (1398, 1), (1526, 1)], [(9, 1), (21, 1), (23, 1), (155, 1), (157, 1), (181, 3), (187, 1), (325, 1), (365, 1), (464, 1), (465, 1), (530, 1), (585, 1), (587, 1), (595, 1), (609, 1), (638, 1), (685, 3), (862, 1), (876, 1), (1024, 1), (1527, 1), (1528, 1), (1529, 1), (1530, 1), (1531, 1)], [(9, 1), (15, 2), (21, 1), (110, 2), (169, 2), (191, 1), (360, 1), (365, 1), (447, 1), (451, 1), (468, 1), (530, 1), (609, 1), (638, 1), (675, 1), (685, 1), (779, 1), (821, 1), (1048, 1), (1108, 1), (1367, 1), (1530, 1), (1532, 1), (1533, 1), (1534, 1), (1535, 1), (1536, 1)], [(9, 1), (21, 1), (23, 1), (237, 1), (585, 1), (684, 1)], [(9, 1), (15, 1), (130, 1), (188, 1), (191, 1), (209, 1), (243, 1), (361, 1), (425, 1), (448, 1), (452, 1), (454, 1), (666, 1), (679, 1), (694, 1), (1024, 1), (1200, 1), (1384, 1), (1404, 1), (1476, 1), (1537, 1), (1538, 1), (1539, 1), (1540, 1)], [(9, 1), (21, 1), (23, 1), (183, 1), (187, 1), (243, 1), (314, 1), (352, 1), (515, 2), (620, 1), (876, 1), (1029, 2), (1453, 1), (1541, 1), (1542, 1), (1543, 1), (1544, 1), (1545, 1), (1546, 2), (1547, 1)], [(9, 4), (21, 1), (22, 1), (25, 1), (50, 1), (244, 2), (245, 1), (460, 1), (659, 1), (751, 1), (958, 1), (1548, 1), (1549, 1), (1550, 1), (1551, 1)], [(7, 1), (9, 1), (21, 1), (267, 1), (269, 1), (546, 1), (751, 1), (968, 1), (1552, 1)], [(8, 2), (9, 2), (15, 1), (22, 1), (25, 1), (68, 1), (77, 2), (578, 1), (617, 1), (706, 1), (845, 1), (846, 1), (1338, 1), (1374, 1), (1445, 1), (1553, 1), (1554, 1), (1555, 1), (1556, 1), (1557, 2), (1558, 1)], [(9, 2), (43, 1), (89, 1), (132, 2), (356, 1), (552, 1), (752, 2), (1559, 1), (1560, 1), (1561, 1), (1562, 1), (1563, 1), (1564, 1), (1565, 1), (1566, 1), (1567, 1), (1568, 1)], [(9, 1), (182, 1), (359, 1), (376, 1), (455, 1), (489, 1), (685, 1), (1328, 1), (1569, 1), (1570, 1), (1571, 1), (1572, 1)], [(9, 2), (51, 2), (89, 1), (356, 1), (482, 2), (599, 1), (701, 1), (937, 1), (1573, 1), (1574, 1), (1575, 2), (1576, 1)], [(9, 2), (233, 1), (488, 1), (599, 1), (601, 1), (663, 1), (769, 1), (968, 1), (1577, 1), (1578, 3), (1579, 1), (1580, 1)], [(9, 2), (21, 1), (50, 1), (278, 3), (389, 2), (437, 1), (452, 1), (599, 1), (958, 1), (1581, 1), (1582, 2), (1583, 1), (1584, 1)], [(9, 2), (15, 1), (22, 1), (25, 1), (47, 1), (99, 1), (294, 1), (495, 1), (599, 1), (1585, 1), (1586, 1), (1587, 1), (1588, 1), (1589, 1), (1590, 1), (1591, 1), (1592, 1)], [(9, 1), (47, 1), (71, 1), (128, 2), (134, 4), (233, 1), (293, 2), (294, 1), (296, 1), (298, 1), (383, 1), (391, 2), (576, 1), (599, 1), (621, 1), (736, 1), (1270, 1), (1556, 1), (1593, 1), (1594, 1), (1595, 1), (1596, 1)], [(9, 2), (22, 1), (25, 1), (185, 1), (187, 1), (290, 1), (978, 1), (1195, 1), (1597, 1), (1598, 1), (1599, 1), (1600, 1), (1601, 1)], [(9, 1), (21, 2), (23, 1), (437, 1), (600, 1), (1022, 1), (1602, 1), (1603, 1), (1604, 1)], [(9, 1), (21, 1), (1155, 1), (1201, 1), (1605, 1), (1606, 1), (1607, 1), (1608, 1), (1609, 1)], [(9, 1), (15, 1), (21, 1), (22, 1), (23, 1), (25, 1), (370, 1), (391, 1), (430, 1), (621, 1), (1335, 1), (1336, 1), (1594, 1)], [(9, 1), (15, 1), (325, 2), (386, 1), (744, 1), (751, 1), (875, 1), (1296, 1), (1379, 1), (1556, 1), (1610, 1), (1611, 2), (1612, 2), (1613, 2), (1614, 2), (1615, 1), (1616, 1), (1617, 1), (1618, 1), (1619, 1)], [(9, 1), (50, 1), (101, 1), (403, 1), (834, 1), (1620, 1), (1621, 2), (1622, 1), (1623, 1), (1624, 1), (1625, 1)], [(9, 2), (21, 1), (108, 1), (115, 1), (140, 2), (141, 1), (146, 1), (149, 1), (193, 1), (196, 1), (198, 2), (619, 1), (777, 1), (845, 1), (986, 1), (1415, 1), (1626, 1), (1627, 1), (1628, 1), (1629, 1)], [(9, 1), (21, 1), (23, 1), (157, 1), (389, 1), (578, 1), (609, 1), (1382, 1)], [(9, 1), (62, 1), (1630, 1)], [(3, 1), (9, 1), (277, 1), (335, 1), (505, 1), (522, 1), (688, 1), (961, 1), (965, 1), (1461, 1), (1468, 1), (1470, 1), (1475, 1), (1476, 1), (1477, 1), (1539, 1), (1615, 1), (1631, 1)], [(9, 1), (28, 1), (158, 1), (198, 1), (269, 2), (391, 1), (541, 1), (674, 2), (736, 1), (755, 1), (773, 1), (968, 1), (1544, 1), (1632, 1), (1633, 1), (1634, 1), (1635, 1), (1636, 1), (1637, 1), (1638, 1)], [(9, 2), (15, 1), (89, 1), (128, 2), (134, 2), (258, 1), (298, 2), (356, 1), (1639, 1)], [(9, 1), (447, 1), (1640, 1), (1641, 1), (1642, 1), (1643, 1), (1644, 1), (1645, 1), (1646, 1), (1647, 1), (1648, 1)], [(9, 1), (21, 3), (23, 1), (68, 1), (77, 1), (134, 1), (169, 1), (179, 1), (225, 1), (233, 1), (270, 1), (624, 1), (774, 1), (1061, 1), (1098, 1), (1318, 1), (1336, 1), (1649, 1), (1650, 1), (1651, 1), (1652, 1)], [(9, 1), (21, 1), (23, 1), (608, 1), (639, 1), (769, 1), (913, 1), (1653, 1), (1654, 1)], [(9, 1), (21, 2), (43, 1), (71, 1), (430, 1), (1655, 1), (1656, 1), (1657, 1), (1658, 1), (1659, 1), (1660, 1), (1661, 1), (1662, 1), (1663, 1), (1664, 1), (1665, 1), (1666, 1), (1667, 1), (1668, 1), (1669, 1), (1670, 1), (1671, 3), (1672, 5), (1673, 1)], [(9, 2), (22, 1), (25, 1), (71, 2), (128, 2), (132, 1), (134, 2), (294, 1), (298, 1), (752, 1), (1674, 1), (1675, 1), (1676, 1)], [(9, 1), (68, 1), (130, 1), (1677, 1), (1678, 1)], [(9, 1), (15, 1), (39, 1), (130, 1), (188, 1), (191, 1), (286, 1), (301, 1), (448, 1), (660, 1), (666, 1), (770, 1), (792, 1), (1240, 1), (1679, 1), (1680, 1), (1681, 1), (1682, 1), (1683, 1), (1684, 1), (1685, 1), (1686, 1)], [(9, 1), (21, 1), (23, 1), (178, 2), (209, 1), (624, 1), (641, 1), (777, 1), (907, 1), (914, 1), (933, 1), (935, 2), (1687, 1), (1688, 1)], [(9, 1), (206, 1), (224, 1), (431, 1), (726, 1), (1689, 1), (1690, 1), (1691, 1), (1692, 1), (1693, 1)], [(9, 2), (15, 1), (167, 1), (181, 1), (1194, 1), (1329, 1), (1412, 1)], [(9, 1), (221, 1), (222, 1), (511, 2), (677, 1), (858, 1), (1694, 1), (1695, 1), (1696, 1)], [(9, 1), (21, 1), (43, 1), (55, 1), (181, 1), (188, 1), (586, 1), (587, 1), (619, 1), (663, 1), (985, 1), (1697, 1), (1698, 1)], [(9, 1), (104, 2), (106, 2), (258, 1), (615, 2), (660, 1), (685, 1), (768, 2), (771, 1), (777, 1), (1556, 1), (1572, 1), (1699, 1), (1700, 1), (1701, 1)], [(9, 1), (21, 2), (23, 1), (140, 1), (141, 1), (489, 1), (545, 1), (580, 1), (581, 1), (619, 1), (798, 1), (800, 1), (1627, 1), (1652, 1)], [(7, 1), (9, 1), (15, 1), (22, 2), (25, 2), (128, 2), (132, 1), (134, 2), (298, 1), (369, 1), (391, 1), (444, 1), (546, 1), (621, 1), (752, 1), (1594, 1), (1652, 1)], [(9, 2), (21, 3), (23, 1), (26, 1), (279, 2), (452, 1), (903, 1), (961, 1), (1702, 1)], [(9, 1), (518, 1), (564, 1), (565, 1), (815, 1), (1703, 1), (1704, 1)], [(9, 1), (21, 1), (36, 1), (230, 1), (244, 1), (270, 1), (1705, 1), (1706, 1), (1707, 1), (1708, 1), (1709, 1), (1710, 1), (1711, 1)], [(9, 1), (21, 1), (23, 1), (71, 1), (128, 1), (132, 1), (157, 1), (191, 1), (222, 1), (233, 1), (298, 1), (451, 1), (525, 1), (557, 1), (595, 1), (622, 1), (626, 1), (739, 1), (1712, 1)], [(9, 1), (140, 2), (149, 1), (208, 1), (209, 1), (212, 1), (511, 1), (550, 1), (554, 2), (556, 1), (873, 1), (1308, 1), (1713, 1), (1714, 1)], [(9, 2), (15, 1), (140, 1), (149, 1), (208, 1), (274, 1), (456, 1), (465, 1), (535, 1), (545, 1), (550, 1), (551, 1), (552, 1), (553, 1), (554, 3), (555, 1), (556, 2), (557, 1), (558, 1)], [(9, 1), (127, 1), (129, 1), (130, 2), (599, 1), (733, 1), (886, 1), (1715, 1), (1716, 1), (1717, 1), (1718, 1), (1719, 1), (1720, 1), (1721, 1), (1722, 1)], [(9, 1), (11, 1), (20, 1), (126, 1), (131, 2), (133, 1), (223, 1), (225, 1), (227, 1), (228, 1), (1385, 2), (1723, 1), (1724, 1), (1725, 1), (1726, 1), (1727, 1), (1728, 1)], [(9, 1), (465, 1), (1222, 1), (1729, 1)], [(9, 1), (21, 1), (23, 3), (158, 1), (233, 1), (375, 1), (404, 1), (867, 1), (868, 1), (869, 1), (874, 1), (1415, 1), (1730, 1)], [(9, 1), (21, 1), (23, 1), (141, 1), (167, 1), (237, 1), (369, 1), (585, 2), (624, 1), (684, 1), (831, 1), (876, 1), (1078, 1), (1731, 1)], [(9, 2), (21, 2), (22, 1), (23, 1), (25, 1), (182, 1), (230, 1), (260, 1), (336, 1), (369, 1), (412, 1), (607, 1), (609, 1), (624, 1), (710, 1), (1043, 1), (1296, 1), (1380, 1), (1732, 1), (1733, 1), (1734, 1), (1735, 1), (1736, 1), (1737, 1), (1738, 1), (1739, 1), (1740, 1), (1741, 1), (1742, 1)], [(9, 1), (546, 1), (677, 1), (772, 1), (916, 1), (1743, 1), (1744, 1), (1745, 1), (1746, 1)], [(9, 1), (169, 1), (335, 1), (663, 1), (694, 1), (917, 1), (1747, 1), (1748, 1), (1749, 1), (1750, 1)], [(9, 2), (28, 1), (188, 1), (243, 1), (336, 1), (663, 1), (740, 1), (744, 1), (1201, 1), (1334, 1), (1505, 1), (1605, 1), (1751, 1), (1752, 1), (1753, 1), (1754, 2), (1755, 1), (1756, 1)], [(9, 1), (15, 1), (69, 1), (124, 1), (357, 1), (740, 1), (1404, 1), (1757, 1), (1758, 1), (1759, 1), (1760, 1)], [(9, 3), (254, 2), (258, 2), (369, 2), (593, 2), (844, 2), (846, 2), (1177, 1), (1355, 2), (1761, 3), (1762, 1), (1763, 1), (1764, 1), (1765, 1)], [(9, 2), (134, 2), (225, 1), (243, 1), (1632, 1), (1745, 1), (1766, 1), (1767, 1)], [(9, 1), (20, 1), (27, 1), (157, 1), (166, 1), (346, 1), (512, 1), (514, 2), (826, 1), (1011, 1), (1768, 1), (1769, 1), (1770, 1), (1771, 1), (1772, 1), (1773, 1), (1774, 1), (1775, 1), (1776, 1), (1777, 1), (1778, 1), (1779, 1), (1780, 1), (1781, 1), (1782, 1), (1783, 1)], [(9, 1), (309, 1), (1784, 1), (1785, 1), (1786, 1), (1787, 2), (1788, 1), (1789, 1)], [(9, 1), (21, 2), (140, 3), (149, 3), (250, 1), (356, 1), (543, 1), (573, 1), (575, 1), (576, 1), (577, 1), (578, 1), (582, 1), (585, 1), (961, 1), (1324, 1), (1790, 1), (1791, 1)], [(9, 3), (208, 1), (313, 1), (499, 1), (543, 2), (658, 1), (1792, 1), (1793, 1), (1794, 2), (1795, 1), (1796, 1), (1797, 2), (1798, 1), (1799, 1), (1800, 1), (1801, 1), (1802, 1), (1803, 1), (1804, 1)], [(9, 2), (32, 1), (43, 1), (106, 1), (144, 2), (179, 1), (274, 1), (286, 1), (464, 1), (1805, 1), (1806, 1)], [(9, 1), (206, 1), (363, 1), (457, 1), (543, 1), (555, 1), (608, 1), (770, 1), (793, 1), (905, 1), (944, 1), (1217, 1), (1420, 1), (1807, 2), (1808, 1)], [(9, 1), (343, 1), (685, 1), (706, 1), (1375, 1), (1683, 1), (1809, 2), (1810, 1), (1811, 1), (1812, 1), (1813, 1), (1814, 1), (1815, 1)], [(9, 1), (21, 1), (314, 1), (335, 1), (516, 1), (547, 1), (781, 1), (784, 1), (954, 1), (1436, 2), (1457, 1), (1816, 2), (1817, 1), (1818, 2), (1819, 2), (1820, 1)], [(9, 1), (15, 1), (208, 1), (285, 1), (299, 1), (304, 1), (369, 1), (510, 1), (545, 1), (550, 1), (554, 1), (781, 1), (784, 1), (1075, 1), (1436, 1), (1819, 1), (1821, 1), (1822, 1), (1823, 1), (1824, 1)], [(9, 2), (22, 1), (25, 1), (71, 2), (123, 1), (128, 2), (132, 1), (134, 2), (298, 1), (430, 1), (1335, 1), (1336, 1)], [(9, 1), (21, 1), (23, 1), (71, 1), (132, 1), (293, 1), (751, 1), (752, 2), (754, 1), (968, 1), (1825, 1)], [(9, 2), (55, 1), (71, 1), (132, 1), (298, 1), (430, 1), (752, 1), (1335, 1), (1336, 1), (1826, 1)], [(3, 1), (9, 1), (15, 1), (21, 1), (27, 2), (39, 1), (132, 1), (243, 1), (383, 1), (535, 1), (555, 1), (638, 1), (658, 1), (660, 1), (778, 1), (826, 2), (1100, 1), (1361, 1), (1417, 1), (1684, 1), (1827, 1), (1828, 1), (1829, 1), (1830, 1), (1831, 1), (1832, 1), (1833, 1), (1834, 1)], [(9, 1), (21, 2), (22, 1), (25, 1), (132, 1), (175, 1), (181, 2), (208, 1), (467, 1), (524, 1), (675, 1), (777, 1), (848, 1), (916, 1), (1028, 1), (1701, 1), (1835, 1), (1836, 1), (1837, 1), (1838, 1), (1839, 1), (1840, 1), (1841, 1)], [(7, 1), (9, 2), (15, 1), (21, 1), (23, 1), (71, 1), (128, 1), (132, 2), (134, 2), (178, 1), (197, 1), (303, 1), (304, 1), (372, 1), (535, 1), (546, 1), (779, 1), (988, 1), (1574, 1)], [(9, 1), (27, 1), (46, 1), (130, 1), (132, 1), (213, 1), (233, 1), (524, 2), (658, 1), (725, 1), (1075, 1), (1120, 2), (1491, 1), (1626, 1), (1756, 1), (1766, 1), (1842, 1), (1843, 2), (1844, 2), (1845, 1), (1846, 2), (1847, 1), (1848, 1), (1849, 1), (1850, 1), (1851, 1), (1852, 1)], [(9, 1), (132, 1), (277, 1), (354, 1), (389, 1), (961, 1), (1518, 1), (1631, 1), (1684, 1), (1848, 1), (1853, 1), (1854, 1), (1855, 2), (1856, 1), (1857, 2), (1858, 1)], [(9, 2), (21, 1), (23, 1), (36, 3), (132, 1), (202, 1), (241, 1), (242, 1), (314, 1), (418, 1), (516, 1), (524, 2), (894, 1), (897, 1), (898, 1), (899, 2), (901, 2), (902, 1), (904, 2), (1859, 2), (1860, 1), (1861, 1), (1862, 1), (1863, 1), (1864, 1), (1865, 1)], [(9, 2), (15, 1), (119, 1), (961, 1), (1022, 1), (1392, 1), (1744, 1), (1866, 1), (1867, 1), (1868, 1), (1869, 1)], [(9, 1), (13, 1), (112, 1), (456, 1), (526, 1), (545, 1), (828, 1), (1012, 1), (1306, 1), (1367, 1), (1579, 1), (1754, 1), (1759, 1), (1870, 1), (1871, 2), (1872, 1), (1873, 1), (1874, 1), (1875, 1), (1876, 1), (1877, 1), (1878, 1), (1879, 1), (1880, 1)], [(9, 1), (21, 2), (23, 1), (151, 1), (420, 1), (437, 1), (597, 1), (600, 1), (1233, 1), (1234, 1), (1240, 1), (1881, 1), (1882, 1)], [(9, 1), (21, 2), (23, 1), (54, 1), (182, 1), (358, 1), (437, 1), (535, 1), (600, 1), (773, 1), (1022, 1), (1211, 1), (1233, 1), (1234, 1), (1377, 1), (1445, 1), (1883, 1), (1884, 1)], [(9, 1), (21, 2), (23, 1), (47, 1), (121, 1), (437, 2), (599, 1), (600, 1), (1233, 1), (1234, 1), (1885, 1), (1886, 1)], [(9, 1), (27, 1), (243, 1), (292, 2), (358, 1), (442, 1), (464, 1), (545, 1), (620, 2), (1029, 1), (1203, 2), (1296, 1), (1336, 1), (1459, 1), (1543, 2), (1545, 2), (1546, 2), (1556, 1), (1697, 2), (1887, 1)], [(9, 2), (32, 1), (106, 1), (144, 1), (155, 1), (274, 1), (304, 1), (372, 1), (453, 1), (463, 1), (464, 1), (617, 1), (777, 1), (844, 1), (1075, 1), (1115, 1), (1336, 1), (1806, 1)], [(9, 2), (21, 1), (89, 2), (356, 3), (437, 1), (460, 2), (726, 1), (807, 1), (830, 1), (838, 1), (839, 1), (1022, 1), (1233, 1), (1234, 1), (1888, 1), (1889, 1), (1890, 1), (1891, 1), (1892, 1)], [(9, 1), (21, 1), (23, 2), (43, 1), (124, 1), (164, 1), (364, 1), (365, 1), (826, 1), (961, 1), (1893, 1), (1894, 1)], [(9, 1), (169, 1), (208, 1), (596, 1), (863, 1), (885, 1), (1610, 1), (1895, 1), (1896, 1), (1897, 1)], [(9, 1), (21, 2), (23, 1), (28, 1), (151, 1), (169, 1), (409, 2), (516, 1), (659, 1), (686, 1), (717, 1), (1291, 1), (1297, 1), (1632, 1), (1898, 1), (1899, 1), (1900, 1), (1901, 1)], [(9, 1), (134, 1), (169, 1), (370, 1), (374, 1), (654, 1), (922, 1), (929, 1), (1902, 1), (1903, 1)], [(9, 1), (21, 1), (22, 1), (25, 1), (151, 1), (169, 1), (243, 1), (246, 1), (292, 1), (355, 1), (358, 1), (535, 2), (716, 1), (885, 1), (1211, 1), (1310, 1), (1313, 1), (1904, 1), (1905, 1), (1906, 1)], [(9, 1), (132, 1), (169, 1), (546, 1), (968, 1), (1217, 1), (1907, 1)], [(9, 1), (67, 1), (169, 1), (358, 1), (554, 1), (626, 1), (1275, 2), (1908, 1), (1909, 1), (1910, 1)], [(9, 2), (15, 1), (58, 1), (59, 2), (60, 1), (221, 1), (222, 1), (224, 1), (875, 1), (888, 1), (1033, 1), (1756, 1), (1911, 1), (1912, 1), (1913, 1), (1914, 1), (1915, 1), (1916, 1)], [(9, 1), (28, 1), (67, 1), (166, 2), (197, 1), (230, 1), (244, 1), (335, 1), (535, 1), (629, 1), (630, 1), (638, 1), (640, 1), (641, 1), (1024, 3), (1231, 1), (1260, 1), (1497, 1), (1917, 1), (1918, 1), (1919, 1)], [(9, 1), (82, 1), (166, 2), (193, 2), (197, 3), (206, 1), (244, 2), (335, 1), (355, 1), (535, 1), (629, 1), (630, 1), (638, 1), (639, 1), (641, 2), (656, 1), (773, 1), (779, 1), (1011, 1), (1024, 1), (1043, 1), (1231, 1), (1371, 1), (1747, 1), (1920, 1), (1921, 1)], [(9, 1), (21, 1), (110, 1), (130, 1), (150, 1), (199, 1), (465, 1), (489, 1), (497, 1), (607, 1), (619, 1), (751, 1), (955, 1), (1041, 1), (1630, 1), (1884, 2), (1922, 1), (1923, 1), (1924, 1), (1925, 1)], [(9, 1), (21, 2), (23, 1), (158, 1), (437, 2), (600, 1), (872, 1), (1233, 1), (1234, 1), (1926, 1)], [(9, 1), (21, 2), (23, 1), (178, 1), (437, 2), (600, 1), (658, 1), (1927, 1), (1928, 1)], [(9, 1), (21, 2), (23, 1), (157, 1), (191, 1), (437, 2), (525, 1), (600, 1), (683, 1), (1423, 1), (1929, 1), (1930, 1)], [(9, 3), (15, 1), (437, 2), (459, 1), (460, 1), (726, 1), (830, 2), (838, 1), (839, 1), (1931, 1), (1932, 1)], [(9, 1), (21, 2), (23, 2), (437, 2), (459, 1), (600, 1), (1022, 1), (1933, 1)], [(8, 1), (9, 2), (126, 1), (128, 2), (131, 1), (133, 1), (134, 1), (205, 1), (246, 1), (607, 1), (842, 1), (872, 1), (1327, 1), (1675, 1)], [(9, 2), (128, 2), (134, 4), (588, 1), (790, 1), (1356, 1), (1934, 1)], [(9, 1), (21, 1), (91, 1), (117, 1), (123, 1), (181, 1), (206, 1), (221, 1), (326, 2), (451, 1), (482, 1), (578, 1), (670, 1), (872, 1), (968, 1), (1384, 1), (1935, 1), (1936, 2), (1937, 1), (1938, 1), (1939, 1)], [(9, 1), (123, 1), (128, 1), (132, 2), (134, 1), (277, 1), (293, 1), (546, 1), (608, 1), (752, 2), (895, 1), (905, 1), (961, 1), (1416, 1), (1631, 1), (1940, 1), (1941, 2), (1942, 1), (1943, 1)], [(9, 1), (43, 1), (71, 2), (91, 1), (128, 2), (132, 1), (134, 2), (147, 1), (157, 1), (191, 1), (221, 1), (222, 2), (298, 1), (391, 1), (595, 1), (599, 1), (739, 2), (812, 2), (961, 1), (1014, 1), (1318, 1), (1364, 1), (1365, 1), (1366, 1), (1944, 1), (1945, 1), (1946, 1), (1947, 1)], [(9, 1), (23, 1), (222, 1), (663, 1), (739, 1), (1948, 1), (1949, 1), (1950, 1), (1951, 1)], [(9, 2), (71, 3), (128, 3), (130, 1), (132, 1), (134, 3), (137, 1), (298, 1), (486, 1), (555, 1), (567, 1), (752, 2), (1630, 1), (1674, 1), (1952, 1), (1953, 1)], [(9, 1), (21, 2), (23, 1), (140, 1), (141, 1), (545, 2), (580, 1), (581, 1), (677, 1), (798, 1), (800, 1), (1954, 1)], [(9, 1), (21, 1), (59, 1), (87, 1), (221, 1), (224, 1), (440, 2), (826, 1), (1955, 1), (1956, 1)], [(9, 1), (21, 2), (140, 3), (149, 3), (250, 1), (254, 1), (356, 1), (542, 1), (543, 1), (573, 1), (575, 1), (576, 1), (577, 1), (578, 1), (582, 1), (585, 1), (1433, 1), (1957, 1)], [(9, 1), (15, 2), (21, 1), (110, 2), (169, 2), (191, 1), (360, 1), (365, 1), (447, 1), (451, 1), (468, 1), (530, 1), (609, 1), (638, 1), (675, 1), (685, 1), (779, 1), (821, 1), (1048, 1), (1108, 1), (1367, 1), (1530, 1), (1532, 1), (1533, 1), (1534, 1), (1535, 1), (1536, 1)], [(9, 2), (132, 1), (449, 1), (622, 1), (752, 1), (1270, 1), (1958, 1)], [(9, 4), (15, 1), (21, 2), (23, 1), (31, 1), (130, 1), (146, 1), (230, 1), (246, 1), (335, 1), (453, 1), (547, 1), (777, 1), (909, 1), (1271, 1), (1959, 1), (1960, 1)], [(9, 1), (15, 1), (32, 1), (155, 1), (336, 1), (365, 1), (389, 1), (453, 1), (461, 1), (658, 1), (663, 1), (665, 1), (777, 1), (950, 1), (951, 1), (998, 1), (1003, 1), (1298, 1), (1395, 2), (1396, 1), (1961, 1), (1962, 1), (1963, 1), (1964, 1)], [(9, 1), (15, 1), (21, 1), (23, 1), (77, 1), (175, 1), (181, 1), (208, 1), (270, 1), (325, 1), (457, 1), (467, 1), (585, 1), (609, 1), (613, 1), (628, 1), (655, 1), (666, 1), (767, 1), (1028, 1), (1965, 1), (1966, 1), (1967, 1), (1968, 1)], [(9, 1), (15, 1), (389, 1), (607, 1), (690, 1), (834, 1), (928, 1), (1747, 1), (1748, 1), (1969, 1), (1970, 1), (1971, 1)], [(9, 2), (21, 1), (407, 1), (1000, 1), (1703, 1), (1972, 1), (1973, 1), (1974, 1), (1975, 1), (1976, 1), (1977, 1), (1978, 1), (1979, 1), (1980, 1), (1981, 1), (1982, 1)], [(9, 4), (15, 1), (31, 1), (116, 1), (132, 1), (158, 1), (230, 1), (294, 1), (314, 1), (453, 1), (622, 1), (726, 1), (1593, 1)], [(9, 1), (15, 1), (72, 1), (605, 1), (1306, 1), (1677, 1), (1983, 1), (1984, 1), (1985, 2), (1986, 1), (1987, 1)], [(9, 1), (41, 1), (53, 1), (497, 1), (816, 1), (831, 1), (1934, 1), (1970, 1), (1988, 1), (1989, 1), (1990, 1), (1991, 1), (1992, 1), (1993, 1), (1994, 1), (1995, 1)], [(9, 1), (15, 1), (22, 1), (25, 1), (36, 1), (43, 1), (130, 1), (243, 1), (292, 1), (369, 1), (420, 1), (789, 1), (791, 1), (804, 2), (878, 1), (879, 1), (1421, 1), (1923, 1), (1996, 1), (1997, 1)], [(9, 1), (21, 2), (23, 1), (140, 1), (141, 1), (157, 1), (196, 1), (198, 1), (545, 1), (580, 1), (581, 1), (613, 1), (679, 1), (798, 1), (800, 1), (802, 1)], [(9, 1), (21, 2), (140, 1), (141, 1), (196, 1), (198, 1), (543, 1), (545, 1), (580, 1), (581, 1), (798, 1), (800, 1), (997, 1), (1998, 1)], [(9, 1), (47, 1), (102, 1), (204, 1), (213, 1), (292, 1), (389, 1), (646, 1), (707, 1), (909, 1), (1828, 1), (1999, 1), (2000, 1), (2001, 1), (2002, 1), (2003, 1)], [(9, 3), (140, 1), (149, 1), (518, 1), (564, 1), (565, 1), (1481, 2), (1484, 2), (1509, 1), (1967, 2), (2004, 1), (2005, 2), (2006, 1)], [(9, 1), (21, 1), (89, 1), (188, 2), (356, 2), (2007, 1), (2008, 1), (2009, 2), (2010, 1)], [(9, 1), (21, 2), (22, 1), (23, 3), (25, 1), (991, 1)], [(9, 2), (26, 2), (77, 1), (293, 2), (294, 1), (303, 2), (304, 1), (447, 1), (1356, 1), (2011, 1), (2012, 1), (2013, 1)], [(9, 1), (21, 1), (23, 1), (191, 1), (192, 1), (193, 1), (195, 1), (196, 1), (198, 1), (201, 1), (288, 1), (365, 1), (986, 1), (1000, 1), (2014, 1)], [(9, 1), (21, 1), (134, 1), (178, 1), (181, 1), (186, 1), (230, 1), (1337, 1), (1404, 1), (2015, 1), (2016, 1), (2017, 1), (2018, 1), (2019, 1), (2020, 1), (2021, 1)], [(9, 2), (21, 2), (140, 2), (149, 1), (221, 1), (222, 1), (315, 1), (595, 1), (612, 1), (795, 1), (872, 1), (1320, 1), (1404, 1), (2022, 1), (2023, 1), (2024, 1)], [(9, 1), (15, 1), (68, 1), (121, 1), (124, 1), (188, 2), (191, 1), (355, 1), (448, 1), (463, 1), (550, 1), (666, 1), (789, 1), (792, 1), (842, 1), (953, 1), (1337, 1), (1679, 1), (2025, 1)], [(9, 1), (21, 1), (23, 1), (177, 1), (197, 1), (389, 1), (489, 1), (585, 1), (665, 1), (694, 1), (773, 1), (2026, 1), (2027, 1)], [(9, 1), (43, 1), (107, 1), (181, 1), (191, 1), (265, 1), (304, 1), (360, 1), (364, 1), (609, 1), (620, 1), (1645, 1), (1962, 1), (2028, 1)], [(9, 1), (21, 1), (23, 1), (43, 2), (50, 1), (71, 1), (181, 1), (298, 1), (391, 2), (430, 1), (447, 1), (621, 1), (627, 1), (663, 1), (665, 1), (845, 1), (861, 1), (1335, 1), (1336, 1), (1712, 1), (2029, 1)], [(9, 1), (21, 1), (23, 1), (32, 1), (41, 1), (43, 1), (67, 1), (164, 1), (365, 1), (370, 1), (658, 1), (664, 1), (826, 3), (1756, 1), (1893, 1)], [(9, 1), (21, 1), (23, 1), (43, 1), (67, 1), (197, 1), (358, 1), (658, 1), (716, 1), (1211, 1), (1309, 1), (2030, 1)], [(9, 1), (43, 1), (50, 1), (54, 1), (142, 1), (151, 1), (154, 1), (191, 1), (358, 1), (437, 1), (489, 1), (628, 1), (828, 1), (830, 1), (831, 1), (832, 1), (834, 1), (835, 1), (837, 1), (843, 1), (1043, 1), (1260, 1), (1398, 1), (1901, 1), (1905, 1), (2031, 1), (2032, 1), (2033, 1), (2034, 1), (2035, 1)], [(9, 2), (43, 1), (270, 1), (374, 1), (408, 1), (663, 1), (890, 1), (1137, 1), (1236, 1), (1996, 1), (2036, 1), (2037, 1), (2038, 1), (2039, 1), (2040, 1), (2041, 1)], [(9, 1), (36, 2), (43, 1), (45, 1), (169, 1), (270, 2), (359, 1), (361, 1), (363, 2), (365, 1), (366, 1), (535, 1), (659, 1), (1747, 1), (1969, 1), (2042, 1), (2043, 1)], [(9, 2), (21, 1), (43, 1), (50, 1), (71, 1), (107, 1), (298, 1), (391, 1), (508, 1), (546, 1), (621, 1), (627, 1), (849, 1), (861, 1), (2044, 1), (2045, 1), (2046, 1)], [(9, 1), (21, 1), (23, 1), (43, 1), (532, 1), (535, 1), (617, 1), (658, 2), (716, 1), (1309, 1), (1381, 1), (2030, 1), (2047, 1)], [(9, 1), (43, 1), (152, 1), (166, 1), (169, 1), (335, 2), (641, 1), (663, 1), (726, 1), (769, 1), (1747, 1), (1748, 1)], [(9, 1), (21, 1), (23, 1), (181, 1), (193, 1), (585, 2), (622, 1), (685, 1), (773, 1), (778, 1), (779, 1), (1018, 1)], [(9, 1), (155, 1), (292, 1), (499, 1), (526, 1), (677, 1), (907, 2), (914, 2), (916, 1), (934, 1), (1306, 1), (1748, 1), (2048, 1), (2049, 1), (2050, 1)], [(9, 1), (41, 1), (149, 1), (161, 1), (177, 1), (187, 1), (244, 5), (300, 1), (358, 1), (385, 1), (460, 1), (466, 1), (543, 1), (597, 1), (658, 1), (876, 1), (959, 1), (961, 1), (1043, 1), (1128, 1), (1260, 1), (1496, 1), (2051, 1), (2052, 1)], [(9, 1), (21, 1), (140, 3), (149, 3), (175, 1), (177, 1), (250, 1), (356, 1), (389, 1), (407, 1), (543, 1), (573, 1), (575, 1), (576, 1), (577, 1), (578, 1), (582, 1), (585, 1), (684, 1), (961, 1), (2053, 1)], [(9, 1), (15, 1), (21, 1), (23, 1), (110, 1), (1445, 1)], [(9, 1), (21, 1), (23, 2), (188, 1), (1607, 1), (1870, 1)], [(9, 2), (15, 1), (22, 1), (25, 1), (355, 1), (447, 1), (460, 1), (1602, 1), (1890, 1), (2054, 1)], [(9, 1), (11, 1), (126, 1), (131, 2), (132, 1), (133, 1), (136, 1), (178, 1), (752, 1), (824, 1), (1218, 1), (1436, 1), (1697, 1), (2055, 1), (2056, 1), (2057, 1), (2058, 1), (2059, 1), (2060, 1), (2061, 1)], [(9, 1), (21, 1), (23, 1), (55, 1), (68, 1), (106, 1), (178, 1), (554, 1), (779, 1), (1433, 1), (2062, 1), (2063, 1)], [(9, 1), (21, 1), (23, 1), (46, 1), (50, 1), (55, 1), (270, 1), (338, 1), (354, 1), (375, 1), (377, 1), (379, 2), (628, 1), (1791, 1), (2064, 1), (2065, 1), (2066, 1), (2067, 1), (2068, 1), (2069, 1)], [(9, 1), (21, 2), (23, 1), (181, 1), (188, 3), (189, 1), (229, 1), (230, 1), (235, 1), (243, 1), (2070, 1), (2071, 1), (2072, 1)], [(9, 2), (43, 1), (134, 2), (331, 2), (370, 1), (586, 1), (622, 1), (1727, 1), (2073, 1), (2074, 1), (2075, 1)], [(9, 1), (21, 1), (23, 1), (130, 2), (233, 1), (336, 1), (354, 1), (381, 1), (545, 1), (770, 1), (1962, 1), (2069, 1), (2076, 1), (2077, 1), (2078, 1)], [(9, 1), (15, 2), (21, 1), (23, 1), (67, 1), (71, 2), (130, 1), (430, 1), (457, 1), (976, 1), (1144, 1), (1335, 1), (1336, 1), (1953, 1), (2079, 1)], [(9, 1), (15, 1), (21, 1), (23, 1), (359, 1), (437, 1), (628, 1), (651, 1), (1022, 1), (1096, 1), (2080, 1), (2081, 1)], [(9, 2), (15, 2), (22, 1), (25, 1), (2082, 1), (2083, 2), (2084, 1), (2085, 1), (2086, 1), (2087, 1)], [(9, 1), (15, 1), (21, 1), (23, 1), (181, 1), (404, 1), (977, 1), (1329, 1), (1412, 1), (1413, 1), (2088, 1)], [(9, 1), (15, 1), (21, 1), (27, 1), (155, 1), (191, 1), (544, 1), (2089, 1), (2090, 1)], [(9, 1), (15, 1), (21, 1), (43, 1), (50, 1), (155, 1), (200, 1), (391, 1), (607, 1), (621, 1), (627, 1), (658, 1), (663, 1), (779, 1), (861, 1), (872, 1), (1296, 1), (1380, 1), (1399, 1), (1415, 1), (2091, 1), (2092, 1)], [(9, 1), (10, 1), (15, 1), (21, 1), (130, 1), (157, 1), (191, 1), (233, 2), (412, 1), (607, 1), (1061, 1), (1553, 1), (2091, 2), (2093, 1), (2094, 1), (2095, 1), (2096, 1), (2097, 1), (2098, 1), (2099, 1)], [(9, 1), (15, 1), (21, 1), (23, 1), (389, 1), (685, 1), (773, 1), (1280, 1), (1355, 1), (1572, 1), (1923, 1), (2100, 1), (2101, 1)], [(9, 1), (15, 1), (21, 1), (23, 1), (182, 1), (389, 1), (404, 1), (627, 1), (658, 1), (665, 1), (685, 1), (802, 1), (1355, 1), (1572, 1), (2101, 1), (2102, 1)], [(9, 1), (15, 1), (21, 1), (23, 1), (32, 1), (186, 1), (188, 1), (286, 1), (368, 1), (372, 1), (551, 1), (587, 1), (604, 1), (619, 1), (659, 1), (665, 2), (679, 1), (744, 1), (769, 1), (844, 2), (846, 1), (848, 1), (851, 1), (1128, 1), (1355, 1), (1398, 1), (2103, 1)], [(3, 1), (9, 1), (15, 1), (21, 1), (23, 1), (32, 1), (197, 1), (270, 1), (335, 1), (389, 1), (526, 1), (844, 1), (875, 1), (907, 1), (914, 1), (1747, 1)], [(3, 1), (9, 1), (15, 1), (22, 1), (25, 1), (125, 1), (189, 1), (365, 1), (395, 1), (451, 1), (453, 1), (988, 1), (1298, 1), (2104, 1), (2105, 1), (2106, 1)], [(3, 2), (9, 1), (15, 1), (22, 1), (25, 1), (28, 1), (41, 1), (125, 1), (292, 1), (365, 1), (395, 1), (530, 1), (613, 2), (658, 1), (860, 1), (2106, 1), (2107, 1), (2108, 1)], [(9, 1), (15, 1), (22, 1), (25, 1), (298, 1), (638, 1), (658, 1), (716, 2), (761, 1), (1309, 1), (1310, 1), (1313, 1), (1388, 1), (2109, 1), (2110, 1), (2111, 1)], [(9, 2), (15, 1), (22, 1), (25, 1), (193, 1), (545, 1), (913, 1), (939, 1), (1240, 1), (1586, 1), (1759, 1), (2112, 1)], [(9, 1), (15, 1), (22, 1), (25, 1), (43, 1), (77, 1), (181, 1), (191, 1), (360, 1), (372, 1), (376, 1), (532, 1), (1381, 1), (2113, 1), (2114, 1), (2115, 1)], [(9, 1), (15, 1), (22, 2), (25, 2), (32, 1), (36, 2), (55, 1), (77, 1), (191, 1), (365, 1), (371, 1), (372, 1), (382, 1), (383, 1), (412, 1), (535, 1), (638, 2), (663, 1), (950, 1), (953, 1), (1096, 1), (1260, 1), (1355, 1), (1383, 1), (1967, 1), (2116, 1)], [(9, 1), (15, 3), (22, 1), (25, 1), (55, 1), (191, 1), (208, 1), (325, 1), (1329, 2), (1406, 1), (1412, 2), (1444, 1), (1596, 1), (1923, 1), (2077, 1), (2117, 1), (2118, 1), (2119, 1), (2120, 1), (2121, 1)], [(9, 1), (15, 1), (22, 1), (25, 1), (258, 1), (617, 1), (978, 1), (1128, 1), (1355, 1), (1598, 1)], [(7, 1), (9, 2), (15, 1), (22, 1), (25, 1), (71, 1), (128, 2), (132, 1), (134, 2), (265, 1), (391, 1), (430, 1), (546, 1), (736, 1), (1595, 1), (1596, 1), (2122, 1), (2123, 1), (2124, 1)], [(9, 2), (15, 1), (22, 2), (25, 2), (181, 1), (191, 1), (369, 2), (586, 2), (589, 1), (773, 1), (844, 1), (1000, 1), (1355, 1), (1360, 1), (1761, 2), (2125, 2), (2126, 1), (2127, 1)], [(9, 2), (15, 2), (22, 1), (25, 1), (166, 1), (179, 1), (181, 1), (299, 1), (382, 1), (443, 1), (452, 1), (531, 1), (806, 1), (844, 1), (858, 1), (1024, 1), (1194, 2), (1218, 1), (1761, 1), (2128, 1), (2129, 2), (2130, 2)], [(9, 1), (15, 2), (22, 1), (25, 1), (181, 2), (208, 1), (751, 1), (1329, 1), (1412, 2), (1697, 1), (1923, 1), (2077, 1), (2078, 1), (2119, 1)], [(9, 1), (15, 1), (22, 1), (25, 1), (358, 1), (513, 1), (530, 1), (532, 1), (547, 1), (607, 1), (620, 1), (638, 1), (716, 1), (761, 1), (850, 1), (916, 1), (925, 1), (1115, 1), (1381, 1), (1383, 1)], [(9, 1), (15, 1), (22, 1), (25, 1), (32, 1), (74, 1), (106, 1), (144, 1), (254, 1), (274, 1), (304, 1), (372, 1), (464, 1), (617, 1), (619, 1), (844, 2), (846, 1), (1336, 1), (1360, 1), (1806, 1), (2063, 1)], [(9, 1), (15, 1), (22, 1), (25, 1), (132, 1), (140, 1), (191, 2), (304, 1), (325, 1), (486, 1), (585, 1), (604, 1), (619, 1), (675, 1), (773, 1), (844, 1), (846, 1), (848, 1), (1355, 1), (1398, 1)], [(9, 1), (15, 1), (22, 1), (25, 1), (181, 1), (208, 1), (304, 1), (505, 1), (586, 2), (593, 1), (690, 1), (744, 1), (863, 1), (1100, 1), (1360, 1), (1761, 1), (2131, 1)], [(3, 1), (9, 1), (15, 1), (22, 1), (25, 1), (107, 1), (130, 1), (191, 1), (336, 1), (451, 1), (457, 1), (461, 1), (525, 1), (690, 1), (770, 1), (921, 1), (2132, 1), (2133, 1)], [(9, 1), (15, 1), (22, 2), (25, 2), (107, 1), (125, 1), (270, 1), (425, 1), (620, 1), (716, 1), (717, 2), (1211, 1), (1310, 1), (1313, 1), (1382, 1), (2134, 1), (2135, 1)], [(9, 1), (15, 1), (22, 1), (25, 1), (55, 1), (68, 2), (106, 1), (178, 1), (403, 1), (554, 1), (779, 1), (1433, 1), (2136, 1)], [(9, 1), (15, 2), (22, 1), (25, 1), (67, 1), (188, 1), (522, 2), (688, 2), (1240, 1), (1468, 1), (1470, 1), (1472, 1), (1474, 1), (1619, 3), (2137, 1)], [(9, 1), (15, 1), (191, 1), (335, 1), (359, 1), (437, 1), (651, 1), (1022, 1), (1096, 1), (2138, 1)], [(9, 3), (15, 1), (32, 1), (68, 1), (208, 2), (274, 1), (284, 1), (304, 1), (550, 2), (554, 3), (556, 1), (777, 1), (1075, 1), (1556, 1)], [(9, 2), (15, 1), (32, 1), (140, 3), (149, 1), (274, 1), (304, 1), (358, 1), (372, 1), (609, 1), (617, 1), (619, 2), (779, 1), (939, 1), (1128, 1), (1445, 1), (1556, 1), (1601, 1), (2139, 1), (2140, 1)], [(9, 2), (15, 1), (132, 1), (181, 1), (208, 1), (1257, 1), (1329, 1), (1412, 1), (2077, 1), (2078, 1), (2119, 1)], [(9, 2), (15, 1), (132, 1), (167, 1), (181, 2), (751, 1), (777, 1), (1257, 1), (1329, 2), (1396, 1), (1412, 2), (1556, 1), (2137, 1), (2141, 1)], [(9, 2), (15, 1), (132, 1), (790, 1), (1194, 1), (1257, 1), (1329, 1), (1412, 1), (2142, 1)], [(9, 1), (15, 1), (71, 1), (370, 1), (430, 1), (638, 1), (1335, 1), (1336, 1)], [(9, 3), (15, 2), (22, 1), (25, 1), (68, 1), (167, 1), (187, 1), (666, 1), (2143, 1), (2144, 1), (2145, 1), (2146, 1), (2147, 1), (2148, 1)], [(9, 2), (11, 1), (15, 1), (136, 1), (167, 1), (191, 1), (243, 1), (284, 1), (286, 1), (365, 1), (467, 1), (619, 1), (660, 1), (663, 1), (773, 1), (909, 1), (943, 2), (978, 1), (1358, 1), (1598, 1), (1600, 2)], [(9, 1), (15, 1), (22, 1), (25, 1), (344, 1), (1192, 2), (1414, 1), (2083, 3), (2149, 1), (2150, 1), (2151, 2), (2152, 1), (2153, 1)], [(9, 2), (11, 1), (15, 1), (55, 1), (136, 1), (179, 1), (188, 1), (197, 1), (226, 1), (233, 1), (299, 1), (361, 1), (365, 1), (443, 1), (447, 1), (619, 1), (647, 1), (777, 1), (845, 1), (858, 1), (978, 1), (1598, 1), (1600, 1), (1755, 1), (2154, 1), (2155, 1)], [(9, 2), (11, 1), (15, 1), (486, 1), (638, 1), (658, 1), (761, 1), (858, 1), (940, 1), (942, 1), (1381, 1), (1386, 1)], [(9, 2), (15, 1), (106, 1), (124, 1), (144, 1), (200, 1), (304, 1), (372, 1), (403, 1), (550, 1), (685, 1), (768, 1), (777, 1), (1280, 1), (1572, 1), (1806, 1), (1923, 1), (2100, 1)], [(9, 3), (15, 1), (21, 1), (77, 1), (119, 1), (140, 3), (201, 1), (258, 1), (304, 1), (357, 1), (585, 2), (645, 1), (1029, 1), (1383, 1), (1404, 1), (1785, 1), (2156, 1), (2157, 1)], [(9, 2), (15, 1), (32, 1), (106, 1), (144, 1), (188, 1), (274, 1), (286, 1), (304, 1), (358, 1), (464, 1), (587, 1), (619, 1), (773, 1), (777, 1), (1241, 1), (1806, 1)], [(9, 2), (15, 1), (28, 2), (101, 1), (150, 1), (311, 1), (328, 1), (389, 1), (545, 1), (608, 1), (619, 1), (769, 1), (906, 1), (968, 1), (1177, 1), (1415, 1), (2158, 1), (2159, 1), (2160, 1), (2161, 1), (2162, 1), (2163, 1)], [(9, 2), (15, 2), (181, 1), (191, 1), (208, 1), (525, 1), (612, 1), (747, 2), (777, 1), (1257, 1), (1329, 2), (1396, 1), (1412, 4), (1414, 1), (1701, 1), (1923, 2), (1957, 1), (2119, 1), (2164, 1)], [(9, 2), (15, 1), (55, 1), (354, 2), (1415, 1), (1416, 1), (1600, 1), (1684, 1), (2077, 2), (2078, 1)], [(9, 1), (21, 1), (23, 1), (43, 1), (191, 1), (447, 1), (585, 1), (1384, 1), (2165, 1)], [(9, 2), (15, 1), (89, 1), (128, 2), (131, 2), (132, 1), (134, 2), (136, 1), (205, 1), (356, 1), (752, 1), (2056, 1)], [(9, 1), (15, 1), (71, 1), (1953, 1), (2166, 1)], [(3, 1), (9, 2), (15, 1), (116, 1), (157, 1), (274, 1), (292, 1), (405, 1), (654, 1), (1120, 2), (2093, 2), (2167, 1)], [(9, 1), (15, 1), (21, 1), (23, 1), (43, 1), (50, 1), (155, 1), (182, 1), (391, 1), (455, 1), (461, 1), (621, 1), (861, 1), (1528, 1), (2044, 1), (2168, 1)], [(9, 1), (15, 1), (21, 1), (23, 1), (155, 1), (157, 1), (181, 1), (325, 1), (365, 1), (464, 1), (465, 1), (530, 1), (585, 1), (587, 1), (595, 1), (609, 1), (638, 1), (685, 3), (862, 1), (1024, 1), (1527, 1), (1528, 1), (1529, 1), (1530, 1)], [(9, 1), (15, 1), (28, 1), (155, 1), (1395, 1), (2169, 1), (2170, 2)], [(9, 1), (15, 1), (21, 1), (23, 1), (55, 1), (155, 1), (188, 1), (191, 1), (365, 1), (389, 1), (420, 1), (587, 1), (619, 1), (658, 1), (978, 1), (1598, 1), (2171, 1)], [(9, 1), (15, 1), (21, 1), (191, 1), (449, 1), (874, 1), (1317, 1), (2165, 1), (2172, 1), (2173, 1), (2174, 1)], [(9, 1), (15, 2), (27, 2), (361, 1), (383, 1), (613, 1), (664, 4), (803, 1), (1421, 1), (1674, 1), (1827, 3), (2042, 1), (2175, 1)], [(9, 1), (15, 2), (21, 1), (23, 1), (107, 1), (157, 1), (270, 1), (344, 1), (461, 1), (526, 1), (532, 1), (547, 1), (620, 2), (638, 1), (660, 1), (716, 1), (717, 1), (761, 1), (916, 1), (1296, 1), (1380, 1), (1381, 1), (1382, 1), (1383, 1)], [(9, 1), (15, 1), (21, 1), (23, 1), (182, 1), (389, 1), (404, 1), (627, 1), (658, 1), (665, 1), (685, 1), (802, 1), (1572, 1), (2101, 1), (2102, 1), (2176, 1)], [(9, 1), (15, 1), (22, 1), (25, 1), (32, 1), (106, 1), (274, 1), (304, 1), (464, 1)], [(9, 1), (15, 1), (21, 1), (23, 1), (71, 1), (185, 1), (370, 2), (389, 1), (391, 1), (430, 1), (461, 1), (555, 1), (621, 1), (628, 1), (638, 1), (1335, 1), (1336, 1)], [(9, 1), (15, 1), (21, 1), (23, 1), (43, 1), (128, 1), (132, 1), (134, 1), (243, 1), (370, 1), (389, 1), (391, 1), (430, 1), (447, 1), (461, 1), (555, 1), (638, 1), (779, 1), (845, 1), (970, 1), (1335, 1), (1336, 1), (1574, 1)], [(9, 1), (15, 1), (21, 1), (23, 1), (71, 2), (128, 1), (130, 1), (132, 1), (134, 1), (298, 1), (430, 1), (535, 1), (555, 1), (658, 1), (845, 1), (1335, 1), (1336, 1), (2177, 1), (2178, 1)], [(9, 1), (15, 1), (208, 1), (550, 1), (554, 1), (627, 1), (781, 1), (784, 1), (802, 1), (1436, 1), (1478, 1), (1819, 1), (2100, 1), (2179, 1), (2180, 1), (2181, 1)], [(9, 1), (15, 1), (21, 1), (22, 1), (23, 1), (25, 1), (43, 2), (71, 2), (181, 1), (370, 1), (391, 1), (430, 2), (447, 1), (621, 1), (638, 1), (1335, 2), (1336, 2), (1594, 1), (2029, 1)], [(9, 1), (15, 1), (21, 1), (23, 1), (55, 1), (119, 1), (188, 1), (289, 1), (331, 1), (456, 1), (467, 1), (524, 1), (587, 1), (590, 1), (619, 1), (655, 1), (657, 1), (662, 1), (664, 1), (744, 1), (872, 1), (1029, 1), (2140, 1)], [(9, 1), (15, 1), (21, 1), (23, 1), (55, 1), (77, 1), (141, 1), (188, 1), (453, 1), (530, 1), (587, 1), (619, 1), (628, 1), (645, 1), (845, 2), (1029, 1), (1296, 1), (1338, 2), (1380, 1), (1383, 1), (1418, 1), (1626, 1), (1957, 1), (2140, 1)], [(9, 1), (15, 1), (21, 1), (23, 1), (182, 1), (615, 1), (627, 1), (665, 1), (685, 1), (773, 1), (779, 1), (978, 1), (1355, 1), (1359, 1), (1385, 1), (1572, 1), (1598, 1), (1683, 1), (2171, 1)], [(9, 1), (15, 1), (21, 1), (23, 1), (55, 1), (155, 1), (182, 1), (188, 1), (191, 1), (365, 1), (420, 1), (587, 1), (619, 1), (658, 1), (978, 1), (1598, 1), (2182, 1)], [(9, 1), (15, 1), (21, 3), (23, 1), (43, 1), (50, 1), (54, 2), (151, 1), (154, 1), (191, 2), (437, 1), (458, 1), (460, 1), (544, 1), (726, 1), (829, 1), (830, 1), (838, 1), (839, 1), (1398, 1), (1901, 1), (1905, 1), (2031, 1), (2032, 1), (2034, 1), (2035, 1)], [(8, 1), (9, 1), (15, 1), (77, 2), (365, 1), (863, 1), (978, 1), (1195, 1), (1598, 1), (1600, 1), (1923, 1), (2139, 2), (2183, 1), (2184, 1), (2185, 1), (2186, 1), (2187, 1), (2188, 1), (2189, 1)], [(9, 1), (15, 1), (106, 1), (107, 1), (179, 1), (191, 1), (206, 1), (447, 1), (461, 1), (464, 1), (613, 1), (615, 1), (620, 1), (627, 1), (647, 2), (665, 1), (685, 2), (773, 1), (855, 1), (890, 1), (1223, 1), (1280, 1), (1572, 2), (2063, 1), (2127, 1), (2190, 1)], [(9, 1), (15, 1), (21, 2), (23, 1), (107, 1), (188, 1), (335, 1), (449, 1), (452, 1), (1438, 1)], [(9, 1), (15, 1), (21, 1), (23, 1), (77, 1), (107, 1), (175, 1), (185, 1), (186, 1), (243, 1), (407, 2), (430, 1), (679, 1), (844, 1), (846, 1), (961, 1)], [(9, 1), (15, 1), (21, 1), (68, 1), (187, 1), (188, 2), (191, 1), (233, 1), (335, 2), (365, 1), (448, 1), (452, 1), (453, 1), (666, 1), (695, 1), (875, 1), (1298, 1), (1437, 1), (1445, 1), (2191, 1), (2192, 1), (2193, 1)], [(9, 1), (15, 1), (21, 1), (23, 1), (130, 1), (233, 1), (336, 1), (354, 1), (381, 1), (545, 1), (665, 1), (770, 1), (1493, 1), (1962, 1), (2069, 1), (2077, 1), (2194, 1)], [(9, 1), (15, 1), (21, 1), (23, 1), (55, 1), (179, 1), (201, 1), (233, 1), (613, 1), (1120, 1), (1404, 1), (2156, 1)], [(9, 1), (15, 2), (21, 2), (23, 1), (230, 1), (240, 1), (304, 1), (383, 1), (453, 1), (530, 1), (777, 1), (779, 1), (845, 1), (913, 1), (1338, 1), (1360, 1), (1601, 1), (1626, 3), (1657, 1), (1957, 1), (2195, 1)], [(9, 1), (15, 1), (21, 1), (23, 1), (50, 1), (71, 1), (391, 1), (452, 1), (455, 1), (621, 1), (623, 1), (625, 1), (779, 1), (2196, 1)], [(9, 1), (15, 1), (522, 1), (687, 1), (688, 1), (1161, 1), (1461, 1), (1474, 1), (2173, 1), (2197, 1)], [(9, 1), (15, 1), (21, 1), (23, 1), (337, 1), (344, 1), (522, 1), (526, 1), (652, 1), (660, 1), (688, 1), (692, 1), (777, 1), (910, 1), (1461, 1), (1465, 1), (1468, 2), (1470, 2), (1472, 1), (1474, 1), (1957, 1), (2198, 1)], [(9, 5), (15, 2), (26, 1), (134, 2), (958, 1), (1903, 1), (2199, 1), (2200, 2), (2201, 1), (2202, 1), (2203, 1), (2204, 1)], [(9, 1), (21, 2), (23, 3), (187, 1), (188, 2), (189, 1), (230, 1), (237, 1), (364, 1), (365, 1), (530, 1), (638, 1), (1535, 1), (2205, 1)], [(9, 1), (21, 2), (23, 1), (437, 1), (600, 1), (1022, 1), (2206, 1), (2207, 1), (2208, 1), (2209, 1)], [(9, 1), (21, 1), (23, 1), (28, 1), (141, 2), (169, 1), (365, 1), (609, 1), (751, 1), (1697, 2), (1962, 1), (2210, 1), (2211, 1)], [(9, 1), (21, 2), (23, 1), (32, 1), (46, 1), (197, 1), (200, 1), (383, 1), (585, 2), (665, 1), (684, 3), (685, 1), (876, 1), (2212, 1)], [(9, 1), (21, 2), (23, 1), (191, 1), (365, 1), (619, 1), (684, 1)], [(9, 1), (21, 1), (23, 1), (27, 1), (35, 2), (36, 1), (43, 1), (45, 2), (46, 1), (270, 1), (359, 1), (363, 1), (366, 2), (383, 1), (693, 1), (878, 1), (1120, 1), (1257, 1), (2213, 1), (2214, 1)], [(9, 3), (15, 2), (178, 1), (181, 2), (187, 1), (243, 1), (286, 1), (478, 1), (543, 1), (1271, 1), (1329, 2), (1412, 2), (2215, 1)], [(9, 1), (21, 1), (23, 1), (335, 1), (360, 1), (522, 1), (687, 1), (688, 1), (1461, 1), (2216, 1)], [(9, 1), (197, 1), (207, 1), (270, 1), (335, 1), (346, 1), (360, 2), (522, 1), (525, 1), (660, 1), (688, 2), (826, 1), (869, 1), (874, 2), (1222, 1), (1529, 1), (1881, 1), (2217, 1), (2218, 1), (2219, 1), (2220, 1), (2221, 4)], [(9, 1), (229, 1), (244, 2), (629, 1), (638, 2), (1118, 1), (1119, 1), (1121, 1), (1125, 1), (1126, 1), (2222, 1), (2223, 1), (2224, 1), (2225, 1)], [(9, 1), (21, 2), (104, 1), (412, 1), (961, 1), (2104, 1), (2211, 1), (2226, 1), (2227, 1), (2228, 1), (2229, 1), (2230, 1), (2231, 1), (2232, 1), (2233, 1)], [(9, 1), (82, 1), (166, 1), (244, 2), (456, 1), (629, 1), (638, 1), (645, 1), (1024, 1), (1832, 1), (1962, 1), (2234, 1)], [(0, 1), (9, 1), (160, 1), (169, 1), (207, 1), (370, 1), (535, 1), (630, 1), (632, 1), (635, 1), (645, 1), (654, 1), (694, 1), (1018, 1), (1119, 1), (1126, 1), (2235, 1)], [(9, 2), (15, 1), (71, 2), (128, 3), (132, 2), (134, 3), (233, 1), (298, 1), (391, 1), (486, 1), (567, 1), (752, 3), (1952, 1), (2236, 1)], [(9, 1), (21, 2), (22, 1), (23, 2), (25, 1), (209, 1), (1395, 1), (1396, 1)], [(9, 2), (21, 2), (22, 1), (23, 1), (25, 1), (121, 1), (278, 1), (2200, 1), (2237, 1), (2238, 1), (2239, 1), (2240, 1), (2241, 1), (2242, 1)], [(21, 1), (188, 1), (189, 1), (230, 1)], [(9, 1), (46, 1), (104, 1), (130, 1), (140, 1), (193, 1), (240, 1), (279, 1), (389, 1), (412, 1), (685, 1), (779, 1), (1115, 1), (1181, 1), (1591, 1), (2212, 1), (2243, 1), (2244, 1), (2245, 1), (2246, 1), (2247, 1)], [(9, 2), (59, 2), (60, 1), (107, 1), (149, 1), (258, 1), (290, 1), (350, 1), (608, 1), (909, 1), (1058, 1), (1185, 1), (1306, 1), (2109, 1), (2248, 1), (2249, 1)], [(9, 1), (130, 2), (236, 1), (277, 1), (389, 1), (425, 1), (426, 1), (434, 1), (440, 1), (524, 1), (608, 1), (824, 1), (961, 1), (1631, 1), (2250, 1), (2251, 1), (2252, 1), (2253, 1), (2254, 1), (2255, 1)], [(9, 1), (22, 1), (25, 1), (197, 1), (270, 1), (346, 1), (360, 1), (612, 1), (613, 1), (688, 2), (869, 1), (874, 2), (920, 1), (1619, 1), (2036, 1), (2218, 1), (2219, 1), (2221, 3), (2256, 1)], [(9, 1), (22, 1), (25, 1), (158, 1), (551, 1), (687, 1), (688, 1), (694, 1), (920, 1), (1048, 1), (1137, 1), (1296, 1), (1475, 1), (1610, 1), (1614, 1), (1617, 1), (1619, 1)], [(9, 1), (117, 1), (148, 3), (325, 1), (577, 1), (582, 2), (1923, 1), (1936, 1), (2192, 1), (2257, 1), (2258, 1), (2259, 2), (2260, 1), (2261, 1), (2262, 1), (2263, 2), (2264, 1), (2265, 1)], [(9, 2), (21, 1), (23, 1), (26, 1), (43, 1), (116, 1), (117, 1), (130, 2), (151, 1), (154, 1), (181, 1), (191, 1), (225, 1), (307, 1), (314, 1), (425, 1), (434, 1), (440, 1), (451, 1), (511, 1), (544, 1), (545, 1), (578, 1), (1858, 1), (1924, 1), (1936, 1), (2011, 1), (2263, 1), (2266, 1), (2267, 1)], [(9, 1), (117, 1), (205, 1), (358, 1), (1936, 2), (2263, 1), (2264, 1), (2268, 1), (2269, 1)], [(9, 1), (117, 1), (148, 3), (577, 1), (582, 2), (2257, 1), (2258, 1), (2259, 2), (2260, 1), (2261, 1), (2262, 1), (2263, 1), (2264, 1), (2265, 1)], [(9, 1), (15, 1), (21, 2), (23, 1), (75, 1), (134, 1), (142, 1), (569, 1), (886, 1), (2204, 1), (2270, 1), (2271, 1), (2272, 1), (2273, 1), (2274, 1), (2275, 1), (2276, 1)], [(2, 1), (9, 1), (12, 2), (157, 1), (364, 1), (546, 1), (595, 1), (639, 1), (1393, 1), (1746, 1), (1760, 1), (2277, 1), (2278, 1), (2279, 1), (2280, 1), (2281, 1), (2282, 1), (2283, 1)], [(9, 1), (21, 2), (23, 2), (154, 1), (157, 1), (166, 1), (188, 3), (230, 2), (370, 1), (453, 1), (595, 1), (624, 1), (641, 1), (663, 1), (779, 1), (961, 2), (1600, 1), (1934, 1), (2080, 1)], [(9, 1), (21, 1), (22, 1), (23, 1), (25, 1), (50, 1), (140, 1), (188, 1), (578, 1), (587, 1)], [(9, 1), (21, 1), (23, 1), (556, 1), (772, 1), (917, 1), (1749, 1), (2284, 1), (2285, 1), (2286, 1), (2287, 1), (2288, 1)], [(9, 1), (193, 1), (1476, 1), (2289, 1), (2290, 1), (2291, 1), (2292, 1), (2293, 1)], [(9, 2), (55, 1), (267, 1), (269, 1), (355, 1), (408, 1), (468, 1), (543, 1), (546, 1), (752, 1), (1355, 1), (1756, 1), (2069, 1), (2294, 1), (2295, 1), (2296, 1), (2297, 1)], [(9, 1), (15, 1), (22, 2), (24, 1), (25, 2), (36, 2), (41, 1), (55, 1), (77, 1), (109, 2), (157, 1), (191, 1), (325, 1), (331, 1), (365, 1), (418, 1), (461, 1), (534, 1), (613, 1), (683, 1), (773, 1), (779, 1), (950, 1), (1000, 1), (1298, 1), (1328, 1), (1373, 1), (1845, 1), (1962, 1), (2298, 1)], [(9, 1), (47, 1), (156, 1), (157, 1), (197, 1), (270, 1), (454, 1), (504, 1), (627, 1), (630, 1), (1100, 1), (1361, 1), (1929, 1), (2299, 1), (2300, 1), (2301, 1), (2302, 1), (2303, 1), (2304, 1), (2305, 2)], [(9, 1), (21, 1), (166, 2), (191, 1), (335, 1), (412, 1), (452, 1), (675, 1), (744, 1), (1415, 1), (2127, 1), (2306, 1), (2307, 1), (2308, 1), (2309, 1), (2310, 1), (2311, 1)], [(9, 1), (21, 5), (28, 1), (43, 1), (116, 1), (117, 1), (130, 1), (140, 1), (148, 1), (149, 1), (232, 1), (555, 1), (578, 1), (685, 1), (1936, 1), (2002, 1), (2258, 1), (2263, 1), (2312, 1), (2313, 1), (2314, 1), (2315, 1), (2316, 1)], [(9, 1), (21, 5), (28, 1), (43, 1), (116, 1), (117, 1), (130, 2), (140, 1), (149, 1), (232, 1), (425, 1), (434, 1), (440, 1), (555, 1), (578, 1), (685, 1), (2002, 1), (2263, 1), (2312, 1), (2313, 1), (2314, 1), (2315, 1), (2317, 1)], [(9, 1), (21, 1), (22, 1), (23, 1), (25, 1), (185, 1), (186, 1), (407, 1), (679, 1), (844, 1), (846, 1)], [(9, 2), (15, 1), (34, 1), (191, 1), (358, 2), (365, 1), (518, 1), (564, 1), (565, 1), (726, 1), (772, 1), (773, 1), (961, 1), (1043, 1), (1514, 1), (1569, 1), (1776, 1), (2049, 1), (2089, 1), (2251, 1), (2297, 1), (2318, 1), (2319, 1), (2320, 1), (2321, 1), (2322, 1), (2323, 1)], [(9, 1), (21, 1), (107, 1), (142, 1), (181, 2), (243, 1), (325, 1), (389, 2), (447, 1), (620, 1), (716, 1), (1310, 1), (1313, 1), (1382, 1), (1385, 1), (1450, 1), (1506, 1), (2314, 2), (2324, 1), (2325, 1), (2326, 1)], [(3, 1), (9, 1), (22, 1), (25, 1), (27, 1), (29, 1), (36, 2), (230, 1), (363, 1), (535, 1), (903, 1), (904, 1), (906, 1), (1077, 1), (1383, 1), (2327, 1)], [(9, 1), (21, 1), (23, 1), (28, 1), (43, 1), (67, 1), (80, 1), (175, 1), (209, 1), (365, 1), (369, 1), (585, 1), (658, 1), (659, 1), (826, 1), (861, 1), (991, 1), (1518, 1), (1652, 1), (2132, 1), (2328, 1), (2329, 1)], [(9, 1), (21, 2), (175, 1), (187, 1), (188, 1), (189, 1), (230, 1), (233, 1), (235, 1), (241, 1), (242, 1), (467, 1), (660, 1), (666, 1), (1026, 2), (1028, 1), (1032, 1)], [(9, 1), (21, 1), (23, 1), (124, 1), (360, 1), (365, 1), (407, 1), (909, 1), (1237, 1), (1756, 1), (2330, 1)], [(9, 1), (91, 1), (169, 1), (197, 1), (292, 1), (321, 1), (374, 1), (407, 2), (609, 1), (639, 1), (1000, 1), (2038, 1)], [(9, 3), (15, 1), (110, 1), (121, 1), (155, 1), (371, 1), (376, 1), (407, 1), (904, 1), (939, 1), (1012, 1), (1041, 1), (1335, 1), (2331, 1), (2332, 1), (2333, 1), (2334, 2), (2335, 1), (2336, 1), (2337, 1), (2338, 1)], [(9, 1), (21, 1), (23, 1), (68, 1), (407, 1), (951, 1), (2339, 1)], [(9, 1), (15, 1), (110, 1), (130, 1), (407, 1), (1041, 1), (1670, 1), (2098, 1), (2340, 1), (2341, 1)], [(9, 3), (21, 1), (26, 1), (130, 1), (407, 1), (452, 1), (2342, 2), (2343, 1), (2344, 2), (2345, 1), (2346, 1)], [(9, 1), (21, 1), (407, 1), (699, 1), (712, 1), (2157, 1), (2347, 1), (2348, 1), (2349, 1), (2350, 1), (2351, 1), (2352, 1), (2353, 1), (2354, 1), (2355, 1)], [(9, 1), (21, 1), (23, 1), (230, 1), (407, 1), (409, 2), (544, 1), (607, 1), (701, 1), (1972, 4), (2157, 1), (2356, 1), (2357, 1), (2358, 1), (2359, 1), (2360, 1), (2361, 1), (2362, 1), (2363, 1)], [(9, 1), (21, 1), (23, 1), (179, 1), (206, 1), (209, 1), (407, 1), (555, 1), (658, 1), (858, 1), (1225, 1), (1279, 1), (1730, 1), (1923, 1), (2100, 1), (2101, 1), (2157, 1), (2364, 1), (2365, 1), (2366, 1), (2367, 1)], [(9, 2), (15, 1), (21, 1), (407, 1)], [(9, 1), (15, 2), (21, 1), (26, 1), (119, 1), (169, 1), (210, 1), (360, 1), (407, 1), (654, 1), (675, 1), (954, 1), (1271, 1), (2073, 1), (2200, 1), (2368, 1), (2369, 1)], [(9, 2), (15, 1), (110, 1), (208, 2), (407, 1), (853, 3), (1059, 2), (1948, 1), (2342, 1), (2344, 1), (2346, 2), (2370, 1), (2371, 1), (2372, 1), (2373, 1), (2374, 1), (2375, 1), (2376, 1), (2377, 1), (2378, 1), (2379, 1), (2380, 1), (2381, 1), (2382, 1), (2383, 1), (2384, 1), (2385, 1), (2386, 1), (2387, 1)], [(9, 2), (15, 1), (21, 1), (22, 1), (23, 1), (25, 1), (32, 1), (110, 1), (130, 1), (169, 1), (191, 2), (208, 1), (314, 1), (370, 1), (407, 1), (685, 1), (686, 1), (958, 1), (1059, 1), (1383, 1), (1516, 1), (2073, 1)], [(9, 1), (21, 1), (23, 1), (230, 1), (370, 1), (395, 1), (544, 1), (726, 1), (830, 2), (838, 1), (839, 1), (1021, 1), (1022, 1)], [(9, 1), (15, 1), (20, 1), (54, 1), (230, 1), (370, 1), (395, 1), (437, 1), (457, 1), (459, 1), (544, 1), (726, 1), (772, 1), (777, 1), (827, 1), (830, 2), (836, 1), (838, 1), (839, 1), (840, 1), (841, 1), (842, 1), (1021, 1), (1022, 1), (1028, 1), (1697, 1), (2062, 1), (2388, 1), (2389, 1)], [(9, 1), (54, 1), (544, 1), (726, 1), (838, 1), (839, 1)], [(9, 1), (15, 1), (21, 1), (23, 1), (337, 1), (522, 1), (544, 1), (688, 1), (777, 1), (910, 1), (1461, 1), (1465, 2), (1468, 1), (1470, 1), (1472, 1), (1474, 1), (2157, 1), (2390, 1)], [(9, 1), (21, 2), (624, 1), (685, 1), (1518, 1), (2391, 1), (2392, 1), (2393, 1), (2394, 1), (2395, 1), (2396, 1)], [(9, 1), (18, 1), (26, 1), (104, 3), (167, 1), (239, 1), (294, 1), (322, 1), (471, 1), (1018, 1), (2397, 2), (2398, 1), (2399, 1)], [(9, 1), (15, 1), (23, 1), (40, 1), (162, 1), (169, 1), (185, 1), (453, 1), (628, 2), (663, 1), (694, 1), (836, 1), (1418, 1), (1530, 1), (2330, 1), (2400, 1), (2401, 1), (2402, 1), (2403, 1), (2404, 1), (2405, 1), (2406, 2), (2407, 1), (2408, 1), (2409, 1), (2410, 1), (2411, 1), (2412, 1)], [(9, 1), (21, 1), (23, 1), (335, 1), (370, 1), (377, 1), (478, 1), (606, 1), (639, 1), (694, 1), (769, 1), (979, 1), (1502, 1), (1653, 1), (1934, 1), (2284, 1), (2413, 1), (2414, 1), (2415, 1), (2416, 2), (2417, 1), (2418, 1), (2419, 1)], [(9, 1), (21, 1), (23, 1), (377, 1), (639, 1), (694, 1), (769, 1), (979, 1), (1502, 1), (1653, 1), (1934, 1), (2415, 1), (2416, 2), (2417, 1), (2418, 1)], [(9, 1), (15, 2), (694, 1), (2420, 1), (2421, 1)], [(9, 1), (22, 1), (25, 1), (132, 1), (451, 1), (624, 1), (789, 1), (880, 1), (1217, 1), (1355, 1), (1565, 1), (1884, 2), (2422, 1), (2423, 1)], [(9, 1), (21, 1), (23, 1), (157, 1), (752, 1), (970, 1), (2029, 1), (2424, 1), (2425, 1), (2426, 1), (2427, 1), (2428, 1), (2429, 1), (2430, 1), (2431, 1)], [(9, 2), (15, 1), (144, 1), (204, 1), (258, 1), (508, 1), (608, 1), (1043, 1), (1218, 1), (2432, 1)], [(9, 1), (21, 1), (43, 1), (130, 1), (140, 2), (149, 1), (193, 1), (225, 6), (250, 2), (258, 1), (268, 1), (426, 1), (434, 1), (440, 1), (741, 1), (986, 1), (2255, 1), (2433, 1), (2434, 1), (2435, 1), (2436, 1), (2437, 1), (2438, 1), (2439, 1), (2440, 1), (2441, 1), (2442, 1)], [(9, 1), (21, 2), (23, 1), (437, 1), (600, 1), (976, 1), (1602, 1), (1886, 1), (2443, 1)], [(9, 1), (21, 2), (23, 1), (437, 1), (600, 1), (1602, 1), (1886, 1), (2297, 1)], [(9, 1), (21, 2), (23, 1), (119, 1), (437, 2), (600, 1), (934, 1), (1602, 1), (1886, 1)], [(9, 1), (21, 2), (22, 1), (23, 3), (25, 1), (2444, 1)], [(9, 2), (55, 1), (59, 1), (60, 1), (62, 1), (282, 1), (304, 1), (350, 1), (596, 1), (2445, 1), (2446, 1), (2447, 1)], [(9, 1), (21, 1), (23, 1), (188, 1), (622, 1), (685, 1), (978, 1), (1141, 1), (1237, 1), (1598, 1), (1600, 1), (2171, 1), (2448, 1)], [(9, 1), (21, 1), (23, 1), (43, 1), (197, 1), (243, 1), (270, 1), (428, 1), (461, 1), (535, 1), (1404, 1), (2449, 1), (2450, 1)], [(9, 1), (43, 1), (230, 1), (1739, 1), (1870, 1), (2451, 1)], [(9, 2), (13, 1), (119, 1), (401, 1), (547, 1), (608, 1), (2363, 1), (2452, 1), (2453, 1), (2454, 2)], [(9, 1), (21, 3), (23, 1), (151, 1), (178, 1), (187, 1), (188, 2), (189, 1), (208, 1), (229, 1), (230, 1), (233, 1), (235, 1), (389, 1), (530, 1), (542, 1), (593, 1), (638, 1), (779, 1), (1140, 1), (1146, 1), (1237, 1), (2195, 1), (2455, 1)], [(3, 2), (9, 1), (21, 1), (43, 1), (130, 1), (141, 2), (152, 1), (191, 1), (208, 1), (286, 1), (389, 2), (453, 1), (522, 1), (578, 1), (609, 1), (727, 1), (768, 1), (844, 1), (961, 1), (1078, 1), (1897, 1), (1901, 2), (2106, 1), (2456, 1), (2457, 1), (2458, 1)], [(8, 1), (9, 1), (77, 1), (158, 1), (298, 1), (325, 1), (1754, 1), (2459, 1), (2460, 1), (2461, 1)], [(7, 1), (9, 1), (21, 1), (23, 1), (71, 4), (128, 1), (132, 1), (134, 1), (292, 1), (293, 1), (294, 2), (298, 1), (322, 1), (358, 1), (451, 1), (457, 1), (535, 1), (546, 1), (623, 1), (624, 1), (625, 1), (626, 1), (751, 1), (792, 1), (1561, 1), (1568, 1)], [(9, 2), (71, 1), (128, 1), (134, 1), (298, 1), (360, 1), (391, 1), (535, 1), (1594, 1), (2462, 2), (2463, 1)], [(9, 2), (71, 2), (128, 2), (134, 3), (286, 1), (293, 1), (294, 1), (296, 1), (298, 1), (303, 1), (304, 1), (372, 1), (1108, 1), (2292, 1), (2464, 1)], [(9, 2), (71, 1), (132, 2), (298, 1), (430, 1), (752, 2), (1335, 1), (1336, 1)], [(9, 2), (15, 2), (43, 1), (124, 1), (132, 1), (246, 1), (298, 1), (391, 1), (430, 1), (515, 1), (545, 1), (621, 1), (623, 1), (624, 1), (625, 1), (628, 1), (718, 1), (752, 1), (2029, 1), (2465, 1), (2466, 1), (2467, 1)], [(9, 1), (21, 1), (23, 1), (192, 1), (193, 1), (195, 1), (196, 1), (198, 1), (365, 1), (550, 1), (596, 1), (685, 1), (773, 1), (986, 1), (1280, 1), (1572, 1), (1923, 1)], [(9, 1), (21, 1), (23, 1), (28, 1), (107, 1), (175, 1), (186, 1), (407, 1), (430, 1), (679, 1), (773, 1), (844, 1), (846, 1), (961, 1)], [(9, 1), (23, 1), (43, 1), (69, 1), (107, 1), (130, 1), (179, 1), (185, 1), (207, 1), (233, 1), (358, 1), (389, 1), (455, 1), (694, 2), (779, 1), (842, 1), (1861, 1), (2164, 1), (2468, 3), (2469, 2), (2470, 1), (2471, 1), (2472, 1), (2473, 1), (2474, 1)], [(9, 1), (21, 1), (23, 1), (107, 1), (185, 1), (186, 1), (407, 1), (679, 1), (844, 1), (2475, 1)], [(9, 1), (21, 1), (23, 1), (24, 2), (47, 1), (663, 3), (798, 1), (868, 1), (874, 2), (2444, 1)], [(9, 2), (15, 1), (22, 1), (25, 1), (41, 1), (191, 1), (233, 1), (335, 1), (377, 1), (535, 1), (550, 1), (831, 1), (979, 2), (980, 2), (1078, 1), (1317, 1), (1336, 1), (1414, 1), (1697, 1), (2476, 1), (2477, 1), (2478, 1)], [(9, 1), (21, 2), (23, 1), (46, 1), (685, 1), (694, 1), (2479, 1)], [(9, 1), (21, 1), (23, 2), (197, 1), (254, 1), (292, 1), (319, 1), (690, 1), (851, 1), (916, 1), (1115, 1), (1204, 1), (2468, 1), (2480, 1), (2481, 1)], [(9, 1), (22, 1), (25, 1), (71, 1), (134, 1), (371, 1), (383, 1), (392, 1), (2482, 1), (2483, 1), (2484, 1)], [(9, 1), (29, 1), (50, 1), (53, 1), (110, 1), (326, 1), (371, 1), (383, 1), (601, 1), (608, 1), (742, 1), (961, 1), (1404, 1), (2110, 1), (2111, 1), (2166, 1), (2482, 1), (2485, 1), (2486, 1)], [(9, 2), (21, 1), (23, 1), (119, 1), (181, 1), (185, 1), (191, 2), (200, 1), (371, 1), (383, 1), (624, 1), (654, 1), (1935, 1), (2487, 1)], [(9, 1), (58, 1), (62, 1), (116, 1), (117, 3), (359, 2), (371, 1), (383, 1), (460, 1), (1734, 1), (1936, 1), (2261, 4), (2326, 1), (2488, 1), (2489, 1), (2490, 3), (2491, 1), (2492, 1), (2493, 1)], [(9, 1), (21, 1), (23, 1), (177, 1), (239, 1), (370, 1), (568, 1), (605, 2), (686, 1), (873, 1), (986, 1), (1078, 1), (1962, 3), (2444, 1), (2494, 1), (2495, 1), (2496, 1), (2497, 1), (2498, 1)], [(9, 1), (21, 1), (28, 1), (43, 1), (113, 1), (154, 1), (169, 1), (180, 1), (253, 1), (404, 1), (557, 1), (609, 2), (895, 1), (904, 2), (921, 1), (1073, 1), (1972, 1), (2499, 2), (2500, 1), (2501, 1), (2502, 1), (2503, 1), (2504, 2)], [(9, 1), (28, 1), (55, 1), (68, 1), (74, 2), (119, 1), (130, 1), (230, 1), (554, 1), (779, 1), (890, 1), (903, 1), (1000, 1), (1124, 1), (1433, 1), (2017, 1), (2307, 1), (2505, 1)], [(9, 1), (59, 1), (113, 1), (115, 1), (116, 1), (169, 1), (224, 1), (336, 1), (369, 1), (609, 1), (675, 1), (773, 1), (834, 1), (858, 1), (959, 1), (1023, 1), (2127, 1), (2307, 1), (2363, 1), (2506, 1), (2507, 1), (2508, 1), (2509, 1), (2510, 1), (2511, 1), (2512, 1), (2513, 1), (2514, 1)], [(9, 1), (21, 1), (23, 1), (50, 1), (556, 1), (917, 1), (1749, 1), (2284, 1), (2285, 1), (2286, 1), (2287, 1), (2515, 1)], [(9, 2), (28, 1), (39, 1), (335, 1), (508, 1), (522, 1), (688, 1), (1461, 1), (1474, 1), (1475, 1), (2516, 1)], [(9, 1), (50, 1), (62, 1), (116, 1), (207, 1), (212, 1), (244, 1), (286, 1), (321, 3), (370, 1), (554, 1), (639, 2), (694, 1), (1043, 1), (1278, 2), (1978, 1), (2118, 1), (2517, 1), (2518, 1), (2519, 2), (2520, 1), (2521, 1)], [(9, 1), (59, 1), (71, 1), (128, 1), (132, 1), (134, 1), (224, 1), (298, 1), (752, 1), (754, 1), (2522, 1), (2523, 1), (2524, 1)]]\n"
     ]
    }
   ],
   "source": [
    "doc_term_matrix = [dictionary.doc2bow(rev) for rev in tokenized]\n",
    "print(doc_term_matrix)"
   ]
  },
  {
   "cell_type": "code",
   "execution_count": 25,
   "metadata": {},
   "outputs": [],
   "source": [
    "import gensim\n",
    "from gensim import corpora\n",
    "import pyLDAvis.gensim\n",
    "LDA = gensim.models.ldamodel.LdaModel\n",
    "NUM_TOPICS=2\n",
    "lda_model = LDA(corpus=doc_term_matrix, id2word=dictionary, num_topics=NUM_TOPICS,alpha=1,eta=1,iterations=10)"
   ]
  },
  {
   "cell_type": "code",
   "execution_count": 26,
   "metadata": {},
   "outputs": [
    {
     "name": "stdout",
     "output_type": "stream",
     "text": [
      "(0, '0.067*\"jokowi\" + 0.018*\"indonesia\" + 0.014*\"maju\" + 0.010*\"presiden\" + 0.005*\"joko\" + 0.005*\"widodo\" + 0.003*\"prabowo\" + 0.003*\"kerja\" + 0.003*\"corona\" + 0.003*\"perintah\"')\n",
      "\n",
      "(1, '0.021*\"jokowi\" + 0.013*\"indonesia\" + 0.008*\"presiden\" + 0.007*\"maju\" + 0.005*\"widodo\" + 0.005*\"ekonomi\" + 0.004*\"corona\" + 0.004*\"joko\" + 0.003*\"prabowo\" + 0.003*\"kpk\"')\n",
      "\n",
      "(2, '0.032*\"jokowi\" + 0.020*\"indonesia\" + 0.010*\"presiden\" + 0.009*\"maju\" + 0.005*\"prabowo\" + 0.005*\"corona\" + 0.004*\"widodo\" + 0.004*\"perintah\" + 0.003*\"edhy\" + 0.003*\"ekonomi\"')\n",
      "\n",
      "(3, '0.033*\"jokowi\" + 0.024*\"indonesia\" + 0.012*\"maju\" + 0.009*\"presiden\" + 0.005*\"joko\" + 0.005*\"prabowo\" + 0.005*\"edhy\" + 0.004*\"widodo\" + 0.004*\"menteri\" + 0.004*\"corona\"')\n",
      "\n"
     ]
    }
   ],
   "source": [
    "topics = lda_model.show_topics()\n",
    "for topic in topics:\n",
    "    print(topic)\n",
    "    print()"
   ]
  },
  {
   "cell_type": "code",
   "execution_count": 27,
   "metadata": {},
   "outputs": [],
   "source": [
    "word_dict = {}\n",
    "for i in range(NUM_TOPICS):\n",
    "    words = lda_model.show_topic(i, topn = 10)\n",
    "    word_dict[\"Topic # \" + \"{}\".format(i)] = [i[0] for i in words]"
   ]
  },
  {
   "cell_type": "code",
   "execution_count": null,
   "metadata": {},
   "outputs": [],
   "source": [
    "pd.DataFrame(word_dict)"
   ]
  },
  {
   "cell_type": "code",
   "execution_count": 28,
   "metadata": {},
   "outputs": [
    {
     "name": "stdout",
     "output_type": "stream",
     "text": [
      "perplexity=  7.390437049701567\n"
     ]
    }
   ],
   "source": [
    "from gensim.models import CoherenceModel\n",
    "print('perplexity= ',-lda_model.log_perplexity(doc_term_matrix))"
   ]
  },
  {
   "cell_type": "code",
   "execution_count": 29,
   "metadata": {
    "scrolled": false
   },
   "outputs": [
    {
     "data": {
      "text/html": [
       "\n",
       "<link rel=\"stylesheet\" type=\"text/css\" href=\"https://cdn.rawgit.com/bmabey/pyLDAvis/files/ldavis.v1.0.0.css\">\n",
       "\n",
       "\n",
       "<div id=\"ldavis_el384420384900697047020234429\"></div>\n",
       "<script type=\"text/javascript\">\n",
       "\n",
       "var ldavis_el384420384900697047020234429_data = {\"mdsDat\": {\"x\": [0.006703221162840147, -0.00011475538621491379, -0.0009754584671065233, -0.005613007309518709], \"y\": [-0.0007483309656155473, 0.002713547755695369, -0.0012297776724439417, -0.0007354391176358786], \"topics\": [1, 2, 3, 4], \"cluster\": [1, 1, 1, 1], \"Freq\": [33.69443130493164, 24.98822593688965, 22.762718200683594, 18.554630279541016]}, \"tinfo\": {\"Term\": [\"jokowi\", \"indonesia\", \"ekonomi\", \"corona\", \"edhy\", \"prabowo\", \"kpk\", \"presiden\", \"perintah\", \"hari\", \"baik\", \"sehat\", \"papua\", \"virus\", \"widodo\", \"menteri\", \"tetap\", \"joko\", \"pandemi\", \"libur\", \"tahun\", \"bukan\", \"akhir\", \"vaksin\", \"harus\", \"jaya\", \"desa\", \"info\", \"tengah\", \"tumbuh\", \"jokowi\", \"besar\", \"tni\", \"oleh\", \"kembang\", \"baru\", \"amin\", \"gerindra\", \"istana\", \"pres\", \"menang\", \"bus\", \"bantu\", \"kelola\", \"satu\", \"laksana\", \"maju\", \"kendali\", \"damri\", \"umat\", \"kutuk\", \"manusia\", \"rumpin\", \"sigi\", \"strategi\", \"kepala\", \"dukung\", \"listrik\", \"hasil\", \"telah\", \"sudah\", \"laku\", \"harus\", \"joko\", \"presiden\", \"indonesia\", \"widodo\", \"masyarakat\", \"kerja\", \"tidak\", \"minta\", \"beri\", \"kasus\", \"dalam\", \"nasional\", \"perintah\", \"guru\", \"tahun\", \"ekonomi\", \"prabowo\", \"pandemi\", \"negara\", \"baik\", \"corona\", \"menteri\", \"kpk\", \"virus\", \"edhy\", \"tengah\", \"papua\", \"edhy\", \"rakyat\", \"bukan\", \"agama\", \"bahwa\", \"sumatera\", \"anies\", \"hubung\", \"lalu\", \"nahdhatululama\", \"bila\", \"damai\", \"menteri\", \"lagu\", \"ruwet\", \"dekat\", \"mui\", \"tangkap\", \"pemerintah\", \"kini\", \"angka\", \"nanti\", \"ganti\", \"wisata\", \"lobster\", \"reaksi\", \"warna\", \"panjaitan\", \"mendagri\", \"indonesia\", \"prabowo\", \"covid\", \"habib\", \"joko\", \"kerja\", \"bangun\", \"dapat\", \"maju\", \"sehat\", \"tetap\", \"khusus\", \"siap\", \"presiden\", \"jokowi\", \"tidak\", \"negara\", \"dalam\", \"corona\", \"widodo\", \"kpk\", \"pandemi\", \"tengah\", \"ekonomi\", \"virus\", \"perintah\", \"baik\", \"tahun\", \"beri\", \"harus\", \"kec\", \"desa\", \"wakil\", \"pancasila\", \"unk\", \"situasi\", \"fokus\", \"terima\", \"suara\", \"info\", \"casting\", \"gerak\", \"harus\", \"perintah\", \"ingat\", \"semua\", \"buru\", \"anggar\", \"idham\", \"tengah\", \"ruu\", \"ciptaker\", \"vaksin\", \"konsumsi\", \"masyarakat\", \"camat\", \"coblos\", \"kembali\", \"kawal\", \"virus\", \"corona\", \"selamat\", \"moga\", \"prabowo\", \"jaga\", \"hal\", \"indonesia\", \"presiden\", \"bapak\", \"hari\", \"sehat\", \"kpk\", \"jokowi\", \"maju\", \"widodo\", \"edhy\", \"menteri\", \"bagi\", \"dalam\", \"ekonomi\", \"negara\", \"kerja\", \"nasional\", \"joko\", \"pandemi\", \"tahun\", \"baru\", \"viral\", \"tumbuh\", \"pangdam\", \"hijau\", \"universitas\", \"ekonomi\", \"megawati\", \"tolak\", \"kelompok\", \"togel\", \"kualanamu\", \"pakdhe\", \"arief\", \"gorontalo\", \"jaya\", \"krisis\", \"sebut\", \"seperti\", \"rapat\", \"rang\", \"hari\", \"lawanintoleransi\", \"forum\", \"hanya\", \"akhir\", \"sydney\", \"zaman\", \"knp\", \"baik\", \"caleg\", \"libur\", \"ketua\", \"kuat\", \"panjang\", \"dakwah\", \"tahun\", \"bisa\", \"corona\", \"pandemi\", \"kpk\", \"widodo\", \"aceh\", \"presiden\", \"dalam\", \"minta\", \"hukum\", \"indonesia\", \"joko\", \"perintah\", \"jokowi\", \"virus\", \"sehat\", \"maju\", \"prabowo\", \"negara\", \"vaksin\", \"korupsi\", \"oleh\", \"menteri\", \"guru\", \"kerja\", \"edhy\"], \"Freq\": [438.0, 199.0, 33.0, 38.0, 31.0, 42.0, 27.0, 100.0, 31.0, 14.0, 20.0, 17.0, 8.0, 24.0, 45.0, 28.0, 12.0, 45.0, 24.0, 15.0, 21.0, 12.0, 14.0, 19.0, 23.0, 8.0, 12.0, 8.0, 20.0, 8.0, 234.52569580078125, 5.122663974761963, 3.9341249465942383, 7.586093425750732, 3.4642999172210693, 9.074913024902344, 4.3504252433776855, 3.5585672855377197, 3.0711543560028076, 2.543930768966675, 1.8415398597717285, 2.0674967765808105, 4.778450012207031, 2.054213762283325, 7.008097171783447, 3.6090352535247803, 49.0688591003418, 2.6828694343566895, 1.7894262075424194, 3.540074110031128, 3.073417901992798, 3.039942979812622, 2.39760160446167, 5.459859371185303, 2.5912601947784424, 3.6567986011505127, 5.371601581573486, 2.356210708618164, 2.341157913208008, 6.125007629394531, 6.207236289978027, 6.558852195739746, 9.123139381408691, 17.214675903320312, 35.516082763671875, 64.9295883178711, 16.090438842773438, 5.14890718460083, 11.123531341552734, 6.348575115203857, 6.360278129577637, 6.209484100341797, 4.691854953765869, 10.107731819152832, 6.107131481170654, 10.277717590332031, 6.179360389709473, 7.280731678009033, 10.010172843933105, 11.738133430480957, 7.920080661773682, 7.846731662750244, 7.092862129211426, 10.4281587600708, 8.466752052307129, 7.734724044799805, 7.27581787109375, 7.9743828773498535, 6.3413310050964355, 4.077371597290039, 12.538370132446289, 5.001613616943359, 4.595215797424316, 2.3350958824157715, 3.032736301422119, 2.1133875846862793, 4.027747631072998, 1.5431885719299316, 2.259099006652832, 3.088449716567993, 1.1898599863052368, 2.3906331062316895, 9.550614356994629, 1.003297209739685, 1.1737236976623535, 1.5183100700378418, 6.213375091552734, 5.5685601234436035, 2.6287758350372314, 1.6615968942642212, 1.6459269523620605, 2.314880132675171, 2.1359262466430664, 1.3069121837615967, 1.6300256252288818, 1.1359097957611084, 0.8055565357208252, 1.7912204265594482, 1.447661280632019, 63.07448959350586, 13.422460556030273, 3.5555307865142822, 2.8852853775024414, 13.733457565307617, 9.25913143157959, 4.9675188064575195, 3.6456549167633057, 29.985088348388672, 5.358772277832031, 3.804766893386841, 3.0342531204223633, 3.2682292461395264, 24.320104598999023, 85.558349609375, 4.822573184967041, 6.496513843536377, 7.570960998535156, 9.282159805297852, 10.399103164672852, 6.821826934814453, 6.187354564666748, 5.377789497375488, 7.446914196014404, 5.908811569213867, 6.448887825012207, 4.985173225402832, 4.980241775512695, 4.353981018066406, 4.315774917602539, 2.44846248626709, 4.216134548187256, 1.3241382837295532, 2.72676944732666, 3.2854018211364746, 1.3855372667312622, 1.997559666633606, 2.946014165878296, 1.0764604806900024, 2.7179079055786133, 0.9065330624580383, 1.2020002603530884, 7.0032172203063965, 9.52070140838623, 2.7011468410491943, 3.920041084289551, 0.8874737620353699, 1.6233609914779663, 1.013122797012329, 6.077203273773193, 1.5951664447784424, 1.3151915073394775, 5.550037384033203, 1.0107786655426025, 3.736346960067749, 1.3334641456604004, 1.595948338508606, 2.1827588081359863, 0.8604111671447754, 7.069608688354492, 10.887271881103516, 4.439825057983398, 4.4281392097473145, 11.400629043579102, 2.998990058898926, 2.679161310195923, 46.60118103027344, 24.499359130859375, 2.7076637744903564, 3.942491292953491, 4.756007194519043, 6.979059219360352, 76.67837524414062, 21.932703018188477, 9.866981506347656, 7.227406024932861, 6.501986503601074, 4.023904323577881, 6.561618804931641, 7.100024223327637, 5.388364315032959, 6.311526298522949, 4.013971328735352, 6.921982765197754, 4.817085266113281, 4.1891655921936035, 3.9759390354156494, 1.6818408966064453, 2.3440396785736084, 1.3634523153305054, 1.3241448402404785, 0.9247176051139832, 8.785139083862305, 1.6891300678253174, 1.5465936660766602, 1.1672359704971313, 1.1568251848220825, 0.7719228863716125, 1.0313502550125122, 0.8849723935127258, 1.147713541984558, 2.2432949542999268, 0.7514746785163879, 2.9154679775238037, 1.6290721893310547, 1.2552917003631592, 0.743303120136261, 3.5976784229278564, 0.6170666217803955, 0.7375033497810364, 1.4657646417617798, 3.4659900665283203, 0.8599355220794678, 0.6114274859428406, 0.6091949939727783, 5.04497766494751, 0.7270879745483398, 3.6501359939575195, 1.8070324659347534, 1.8015894889831543, 1.806960105895996, 2.589951276779175, 4.775100231170654, 3.7506234645843506, 8.256543159484863, 5.2993059158325195, 5.939331531524658, 8.903536796569824, 3.33005952835083, 16.351831436157227, 5.713233947753906, 3.4312098026275635, 2.6623592376708984, 24.927778244018555, 7.52026891708374, 5.603113651275635, 41.58022689819336, 4.414238452911377, 3.456028461456299, 12.847805976867676, 6.388330459594727, 4.16373872756958, 3.4839653968811035, 2.847438335418701, 3.026519298553467, 3.9975337982177734, 3.049349069595337, 3.8152358531951904, 3.739830732345581], \"Total\": [438.0, 199.0, 33.0, 38.0, 31.0, 42.0, 27.0, 100.0, 31.0, 14.0, 20.0, 17.0, 8.0, 24.0, 45.0, 28.0, 12.0, 45.0, 24.0, 15.0, 21.0, 12.0, 14.0, 19.0, 23.0, 8.0, 12.0, 8.0, 20.0, 8.0, 438.3426513671875, 10.507708549499512, 8.363601684570312, 16.151901245117188, 7.386436462402344, 19.429838180541992, 9.431693077087402, 7.857544422149658, 6.790091514587402, 5.752748966217041, 4.177832126617432, 4.698939323425293, 10.918530464172363, 4.694108963012695, 16.05487060546875, 8.342535972595215, 113.83445739746094, 6.228585720062256, 4.170805931091309, 8.32791805267334, 7.254568576812744, 7.217160224914551, 5.713222980499268, 13.018746376037598, 6.198277950286865, 8.801468849182129, 12.93555736541748, 5.681427955627441, 5.6937479972839355, 14.911022186279297, 15.501523971557617, 16.480161666870117, 23.26197052001953, 45.390384674072266, 100.6873779296875, 199.5330352783203, 45.26005935668945, 12.950090408325195, 30.50942611694336, 16.519062042236328, 16.848865509033203, 16.51108169555664, 11.868335723876953, 29.95354461669922, 16.410024642944336, 31.850419998168945, 16.87674903869629, 21.225238800048828, 33.342247009277344, 42.949554443359375, 24.223827362060547, 23.895347595214844, 20.67241859436035, 38.85413360595703, 28.51688575744629, 27.47494125366211, 24.668476104736328, 31.47998809814453, 20.807580947875977, 8.664579391479492, 31.47998809814453, 13.73398494720459, 12.641337394714355, 6.574958324432373, 8.618977546691895, 6.074161052703857, 11.624557495117188, 4.533990383148193, 6.639774799346924, 9.164949417114258, 3.535201072692871, 7.109786510467529, 28.51688575744629, 3.0255603790283203, 3.549846649169922, 4.600833892822266, 18.872331619262695, 16.91839599609375, 8.007314682006836, 5.068790435791016, 5.066150665283203, 7.1344099044799805, 6.614468097686768, 4.055675029754639, 5.065052032470703, 3.5361294746398926, 2.5189859867095947, 5.644638538360596, 4.566126346588135, 199.5330352783203, 42.949554443359375, 11.229851722717285, 9.105934143066406, 45.390384674072266, 30.50942611694336, 16.150636672973633, 11.749210357666016, 113.83445739746094, 17.94895362854004, 12.385984420776367, 9.740593910217285, 10.584802627563477, 100.6873779296875, 438.3426513671875, 16.519062042236328, 23.895347595214844, 29.95354461669922, 38.85413360595703, 45.26005935668945, 27.47494125366211, 24.223827362060547, 20.807580947875977, 33.342247009277344, 24.668476104736328, 31.850419998168945, 20.67241859436035, 21.225238800048828, 16.51108169555664, 23.26197052001953, 6.995025157928467, 12.194201469421387, 3.9927470684051514, 8.507120132446289, 10.320425987243652, 4.484940528869629, 6.494426250457764, 9.611371994018555, 3.5198705196380615, 8.91823959350586, 3.001985549926758, 3.990628242492676, 23.26197052001953, 31.850419998168945, 9.122833251953125, 13.298809051513672, 3.035332441329956, 5.553099632263184, 3.466334342956543, 20.807580947875977, 5.481124401092529, 4.524643421173096, 19.156970977783203, 3.498422145843506, 12.950090408325195, 4.623836040496826, 5.549105167388916, 7.604736328125, 3.0011918544769287, 24.668476104736328, 38.85413360595703, 15.84217357635498, 15.879830360412598, 42.949554443359375, 10.715055465698242, 9.547630310058594, 199.5330352783203, 100.6873779296875, 9.679728507995605, 14.509785652160645, 17.94895362854004, 27.47494125366211, 438.3426513671875, 113.83445739746094, 45.26005935668945, 31.47998809814453, 28.51688575744629, 15.797249794006348, 29.95354461669922, 33.342247009277344, 23.895347595214844, 30.50942611694336, 16.410024642944336, 45.390384674072266, 24.223827362060547, 21.225238800048828, 19.429838180541992, 5.956665992736816, 8.457467079162598, 4.934475898742676, 4.934338092803955, 3.5031206607818604, 33.342247009277344, 6.4489946365356445, 5.9413628578186035, 4.5070929527282715, 4.4840006828308105, 2.993067502975464, 4.030206680297852, 3.4884889125823975, 4.562060832977295, 8.928417205810547, 2.9983808994293213, 11.64051342010498, 6.52606201171875, 5.052267551422119, 2.9933998584747314, 14.509785652160645, 2.490795612335205, 2.989250659942627, 5.953470230102539, 14.092850685119629, 3.5008184909820557, 2.493374824523926, 2.49381160736084, 20.67241859436035, 2.994810104370117, 15.08470344543457, 7.479395389556885, 7.534926891326904, 7.5584492683410645, 11.065361976623535, 21.225238800048828, 16.721755981445312, 38.85413360595703, 24.223827362060547, 27.47494125366211, 45.26005935668945, 15.618595123291016, 100.6873779296875, 29.95354461669922, 16.848865509033203, 12.473217964172363, 199.5330352783203, 45.390384674072266, 31.850419998168945, 438.3426513671875, 24.668476104736328, 17.94895362854004, 113.83445739746094, 42.949554443359375, 23.895347595214844, 19.156970977783203, 14.114248275756836, 16.151901245117188, 28.51688575744629, 16.87674903869629, 30.50942611694336, 31.47998809814453], \"Category\": [\"Default\", \"Default\", \"Default\", \"Default\", \"Default\", \"Default\", \"Default\", \"Default\", \"Default\", \"Default\", \"Default\", \"Default\", \"Default\", \"Default\", \"Default\", \"Default\", \"Default\", \"Default\", \"Default\", \"Default\", \"Default\", \"Default\", \"Default\", \"Default\", \"Default\", \"Default\", \"Default\", \"Default\", \"Default\", \"Default\", \"Topic1\", \"Topic1\", \"Topic1\", \"Topic1\", \"Topic1\", \"Topic1\", \"Topic1\", \"Topic1\", \"Topic1\", \"Topic1\", \"Topic1\", \"Topic1\", \"Topic1\", \"Topic1\", \"Topic1\", \"Topic1\", \"Topic1\", \"Topic1\", \"Topic1\", \"Topic1\", \"Topic1\", \"Topic1\", \"Topic1\", \"Topic1\", \"Topic1\", \"Topic1\", \"Topic1\", \"Topic1\", \"Topic1\", \"Topic1\", \"Topic1\", \"Topic1\", \"Topic1\", \"Topic1\", \"Topic1\", \"Topic1\", \"Topic1\", \"Topic1\", \"Topic1\", \"Topic1\", \"Topic1\", \"Topic1\", \"Topic1\", \"Topic1\", \"Topic1\", \"Topic1\", \"Topic1\", \"Topic1\", \"Topic1\", \"Topic1\", \"Topic1\", \"Topic1\", \"Topic1\", \"Topic1\", \"Topic1\", \"Topic1\", \"Topic1\", \"Topic1\", \"Topic1\", \"Topic2\", \"Topic2\", \"Topic2\", \"Topic2\", \"Topic2\", \"Topic2\", \"Topic2\", \"Topic2\", \"Topic2\", \"Topic2\", \"Topic2\", \"Topic2\", \"Topic2\", \"Topic2\", \"Topic2\", \"Topic2\", \"Topic2\", \"Topic2\", \"Topic2\", \"Topic2\", \"Topic2\", \"Topic2\", \"Topic2\", \"Topic2\", \"Topic2\", \"Topic2\", \"Topic2\", \"Topic2\", \"Topic2\", \"Topic2\", \"Topic2\", \"Topic2\", \"Topic2\", \"Topic2\", \"Topic2\", \"Topic2\", \"Topic2\", \"Topic2\", \"Topic2\", \"Topic2\", \"Topic2\", \"Topic2\", \"Topic2\", \"Topic2\", \"Topic2\", \"Topic2\", \"Topic2\", \"Topic2\", \"Topic2\", \"Topic2\", \"Topic2\", \"Topic2\", \"Topic2\", \"Topic2\", \"Topic2\", \"Topic2\", \"Topic2\", \"Topic2\", \"Topic2\", \"Topic2\", \"Topic3\", \"Topic3\", \"Topic3\", \"Topic3\", \"Topic3\", \"Topic3\", \"Topic3\", \"Topic3\", \"Topic3\", \"Topic3\", \"Topic3\", \"Topic3\", \"Topic3\", \"Topic3\", \"Topic3\", \"Topic3\", \"Topic3\", \"Topic3\", \"Topic3\", \"Topic3\", \"Topic3\", \"Topic3\", \"Topic3\", \"Topic3\", \"Topic3\", \"Topic3\", \"Topic3\", \"Topic3\", \"Topic3\", \"Topic3\", \"Topic3\", \"Topic3\", \"Topic3\", \"Topic3\", \"Topic3\", \"Topic3\", \"Topic3\", \"Topic3\", \"Topic3\", \"Topic3\", \"Topic3\", \"Topic3\", \"Topic3\", \"Topic3\", \"Topic3\", \"Topic3\", \"Topic3\", \"Topic3\", \"Topic3\", \"Topic3\", \"Topic3\", \"Topic3\", \"Topic3\", \"Topic3\", \"Topic3\", \"Topic3\", \"Topic3\", \"Topic4\", \"Topic4\", \"Topic4\", \"Topic4\", \"Topic4\", \"Topic4\", \"Topic4\", \"Topic4\", \"Topic4\", \"Topic4\", \"Topic4\", \"Topic4\", \"Topic4\", \"Topic4\", \"Topic4\", \"Topic4\", \"Topic4\", \"Topic4\", \"Topic4\", \"Topic4\", \"Topic4\", \"Topic4\", \"Topic4\", \"Topic4\", \"Topic4\", \"Topic4\", \"Topic4\", \"Topic4\", \"Topic4\", \"Topic4\", \"Topic4\", \"Topic4\", \"Topic4\", \"Topic4\", \"Topic4\", \"Topic4\", \"Topic4\", \"Topic4\", \"Topic4\", \"Topic4\", \"Topic4\", \"Topic4\", \"Topic4\", \"Topic4\", \"Topic4\", \"Topic4\", \"Topic4\", \"Topic4\", \"Topic4\", \"Topic4\", \"Topic4\", \"Topic4\", \"Topic4\", \"Topic4\", \"Topic4\", \"Topic4\", \"Topic4\", \"Topic4\", \"Topic4\", \"Topic4\", \"Topic4\", \"Topic4\"], \"logprob\": [30.0, 29.0, 28.0, 27.0, 26.0, 25.0, 24.0, 23.0, 22.0, 21.0, 20.0, 19.0, 18.0, 17.0, 16.0, 15.0, 14.0, 13.0, 12.0, 11.0, 10.0, 9.0, 8.0, 7.0, 6.0, 5.0, 4.0, 3.0, 2.0, 1.0, -2.7070000171661377, -6.530900001525879, -6.794899940490723, -6.138299942016602, -6.922100067138672, -5.959099769592285, -6.694300174713135, -6.895199775695801, -7.042600154876709, -7.230899810791016, -7.553999900817871, -7.438300132751465, -6.600500106811523, -7.444699764251709, -6.21750020980835, -6.881199836730957, -4.271399974822998, -7.177700042724609, -7.582699775695801, -6.9004998207092285, -7.041800022125244, -7.052800178527832, -7.29010009765625, -6.467199802398682, -7.212500095367432, -6.868000030517578, -6.483500003814697, -7.307499885559082, -7.314000129699707, -6.352200031280518, -6.338900089263916, -6.28380012512207, -5.953800201416016, -5.31879997253418, -4.594600200653076, -3.991300106048584, -5.38640022277832, -6.5258002281188965, -5.755499839782715, -6.316400051116943, -6.314499855041504, -6.338500022888184, -6.618800163269043, -5.85129976272583, -6.355100154876709, -5.83459997177124, -6.343400001525879, -6.1793999671936035, -5.861000061035156, -5.7017998695373535, -6.095200061798096, -6.104499816894531, -6.20550012588501, -5.820099830627441, -6.028500080108643, -6.118899822235107, -6.179999828338623, -6.088399887084961, -6.317500114440918, -6.46019983291626, -5.336900234222412, -6.255899906158447, -6.340700149536133, -7.017600059509277, -6.756199836730957, -7.117400169372559, -6.472499847412109, -7.43179988861084, -7.0507001876831055, -6.73799991607666, -7.691800117492676, -6.994100093841553, -5.609099864959717, -7.862400054931641, -7.70550012588501, -7.4481000900268555, -6.039000034332275, -6.148499965667725, -6.899199962615967, -7.357900142669678, -7.367400169372559, -7.026299953460693, -7.106800079345703, -7.5980000495910645, -7.377099990844727, -7.7382001876831055, -8.081899642944336, -7.282800197601318, -7.495699882507324, -3.721400022506714, -5.268700122833252, -6.5971999168396, -6.806099891662598, -5.245800018310547, -5.640100002288818, -6.262800216674805, -6.5721001625061035, -4.465000152587891, -6.1869001388549805, -6.529399871826172, -6.75570011138916, -6.681399822235107, -4.6743998527526855, -3.4165000915527344, -6.292399883270264, -5.9944000244140625, -5.841400146484375, -5.637599945068359, -5.52400016784668, -5.945499897003174, -6.0432000160217285, -6.1834001541137695, -5.857900142669678, -6.089200019836426, -6.001800060272217, -6.259200096130371, -6.260200023651123, -6.394599914550781, -6.40339994430542, -6.8769001960754395, -6.333499908447266, -7.491600036621094, -6.7692999839782715, -6.582900047302246, -7.446300029754639, -7.08050012588501, -6.69189977645874, -7.698699951171875, -6.772500038146973, -7.870500087738037, -7.588399887084961, -5.826000213623047, -5.518899917602539, -6.77869987487793, -6.406300067901611, -7.8917999267578125, -7.287899971008301, -7.759399890899658, -5.967899799346924, -7.3053998947143555, -7.4984002113342285, -6.058599948883057, -7.76170015335083, -6.4542999267578125, -7.484600067138672, -7.304900169372559, -6.991799831390381, -7.922699928283691, -5.8165998458862305, -5.384799957275391, -6.281799793243408, -6.28439998626709, -5.338699817657471, -6.674099922180176, -6.786900043487549, -3.930799961090088, -4.573699951171875, -6.776299953460693, -6.400599956512451, -6.2129998207092285, -5.829500198364258, -3.432800054550171, -4.6844000816345215, -5.4832000732421875, -5.79449987411499, -5.900300025939941, -6.380099773406982, -5.891200065612793, -5.812300205230713, -6.088200092315674, -5.929999828338623, -6.382599830627441, -5.837699890136719, -6.200200080871582, -6.339900016784668, -6.392099857330322, -7.048099994659424, -6.716100215911865, -7.257999897003174, -7.287199974060059, -7.646299839019775, -5.394899845123291, -7.043799877166748, -7.131899833679199, -7.413400173187256, -7.422299861907959, -7.826900005340576, -7.537099838256836, -7.690199851989746, -7.430200099945068, -6.760000228881836, -7.853700160980225, -6.498000144958496, -7.079999923706055, -7.34060001373291, -7.86460018157959, -6.287700176239014, -8.050800323486328, -7.872499942779541, -7.1855998039245605, -6.324999809265137, -7.718900203704834, -8.059900283813477, -8.063599586486816, -5.9496002197265625, -7.88670015335083, -6.273200035095215, -6.97629976272583, -6.979300022125244, -6.97629976272583, -6.616399765014648, -6.0046000480651855, -6.246099948883057, -5.456999778747559, -5.900400161743164, -5.786399841308594, -5.381499767303467, -6.364999771118164, -4.77370023727417, -5.825200080871582, -6.335100173950195, -6.588799953460693, -4.3520002365112305, -5.5503997802734375, -5.844699859619141, -3.840399980545044, -6.083199977874756, -6.327899932861328, -5.014800071716309, -5.713500022888184, -6.141600131988525, -6.319799900054932, -6.521599769592285, -6.460599899291992, -6.182300090789795, -6.453100204467773, -6.229000091552734, -6.249000072479248], \"loglift\": [30.0, 29.0, 28.0, 27.0, 26.0, 25.0, 24.0, 23.0, 22.0, 21.0, 20.0, 19.0, 18.0, 17.0, 16.0, 15.0, 14.0, 13.0, 12.0, 11.0, 10.0, 9.0, 8.0, 7.0, 6.0, 5.0, 4.0, 3.0, 2.0, 1.0, 0.46239998936653137, 0.3693999946117401, 0.3336000144481659, 0.3321000039577484, 0.33070001006126404, 0.3264999985694885, 0.3140000104904175, 0.2957000136375427, 0.29440000653266907, 0.2718999981880188, 0.2685999870300293, 0.2667999863624573, 0.2615000009536743, 0.2614000141620636, 0.258899986743927, 0.2498999983072281, 0.24629999697208405, 0.24560000002384186, 0.24160000681877136, 0.23240000009536743, 0.2290000021457672, 0.2231999933719635, 0.21950000524520874, 0.21889999508857727, 0.21570000052452087, 0.2094999998807907, 0.20900000631809235, 0.2076999992132187, 0.19910000264644623, 0.1981000006198883, 0.17260000109672546, 0.1665000021457672, 0.1518000066280365, 0.11829999834299088, 0.04580000042915344, -0.03480000048875809, 0.053599998354911804, 0.1655000001192093, 0.07890000194311142, 0.1316000074148178, 0.1136000007390976, 0.10989999771118164, 0.1597999930381775, 0.001500000013038516, 0.09939999878406525, -0.04320000112056732, 0.08309999853372574, 0.017899999395012856, -0.11540000140666962, -0.2092999964952469, -0.03009999915957451, -0.025699999183416367, 0.01810000091791153, -0.22750000655651093, -0.1264999955892563, -0.17970000207424164, -0.1331000030040741, -0.28529998660087585, -0.10040000081062317, 0.6330000162124634, 0.46619999408721924, 0.3767000138759613, 0.3747999966144562, 0.3515999913215637, 0.3422999978065491, 0.3310000002384186, 0.32690000534057617, 0.3089999854564667, 0.30869999527931213, 0.29899999499320984, 0.2978000044822693, 0.2969000041484833, 0.2928999960422516, 0.28299999237060547, 0.2800000011920929, 0.27810001373291016, 0.2757999897003174, 0.27549999952316284, 0.2728999853134155, 0.27140000462532043, 0.26249998807907104, 0.2612000107765198, 0.2563999891281128, 0.25429999828338623, 0.2529999911785126, 0.25119999051094055, 0.2467000037431717, 0.23899999260902405, 0.23800000548362732, 0.23510000109672546, 0.22370000183582306, 0.23669999837875366, 0.23749999701976776, 0.19130000472068787, 0.19429999589920044, 0.2076999992132187, 0.21649999916553497, 0.05270000174641609, 0.17800000309944153, 0.20649999380111694, 0.22040000557899475, 0.21160000562667847, -0.03400000184774399, -0.24699999392032623, 0.15559999644756317, 0.08429999649524689, 0.01140000019222498, -0.04500000178813934, -0.08389999717473984, -0.006399999838322401, 0.021900000050663948, 0.03370000049471855, -0.11230000108480453, -0.04230000078678131, -0.21040000021457672, -0.035599999129772186, -0.06289999932050705, 0.05380000174045563, -0.2978000044822693, 0.4302999973297119, 0.4180000126361847, 0.37630000710487366, 0.3422999978065491, 0.3353999853134155, 0.305400013923645, 0.3009999990463257, 0.29760000109672546, 0.2953000068664551, 0.29179999232292175, 0.2825999855995178, 0.2800999879837036, 0.27959999442100525, 0.27250000834465027, 0.2628999948501587, 0.25850000977516174, 0.25029999017715454, 0.2502000033855438, 0.25, 0.2493000030517578, 0.24570000171661377, 0.24449999630451202, 0.24120000004768372, 0.23849999904632568, 0.2371000051498413, 0.23659999668598175, 0.23389999568462372, 0.23190000653266907, 0.23070000112056732, 0.23029999434947968, 0.2078000009059906, 0.20800000429153442, 0.2029999941587448, 0.15369999408721924, 0.20669999718666077, 0.2092999964952469, 0.025699999183416367, 0.06669999659061432, 0.2061000019311905, 0.1770000010728836, 0.15189999341964722, 0.10970000177621841, -0.26330000162124634, -0.16670000553131104, -0.04320000112056732, 0.00860000029206276, 0.0017000000225380063, 0.11249999701976776, -0.03840000182390213, -0.06669999659061432, -0.009399999864399433, -0.09560000151395798, 0.07190000265836716, -0.40059998631477356, -0.13510000705718994, -0.14259999990463257, -0.10649999976158142, 0.4198000133037567, 0.40130001306533813, 0.39820000529289246, 0.36899998784065247, 0.35249999165534973, 0.3506999909877777, 0.34470000863075256, 0.3386000096797943, 0.33340001106262207, 0.3296000063419342, 0.3292999863624573, 0.3215000033378601, 0.31279999017715454, 0.3043999969959259, 0.30320000648498535, 0.30070000886917114, 0.30000001192092896, 0.29670000076293945, 0.2919999957084656, 0.2913999855518341, 0.289900004863739, 0.2890999913215637, 0.2849000096321106, 0.28290000557899475, 0.2818000018596649, 0.28060001134872437, 0.27889999747276306, 0.2750000059604645, 0.27399998903274536, 0.2689000070095062, 0.265500009059906, 0.2639999985694885, 0.25360000133514404, 0.2533999979496002, 0.23229999840259552, 0.19269999861717224, 0.18970000743865967, 0.1356000006198883, 0.1647000014781952, 0.15279999375343323, 0.05849999934434891, 0.13899999856948853, -0.133200004696846, 0.02759999968111515, 0.09309999644756317, 0.14010000228881836, -0.3955000042915344, -0.11320000141859055, -0.053300000727176666, -0.6708999872207642, -0.03620000183582306, 0.03700000047683716, -0.49709999561309814, -0.22110000252723694, -0.06279999762773514, -0.019999999552965164, 0.08370000123977661, 0.009800000116229057, -0.28040000796318054, -0.026599999517202377, -0.3946000039577484, -0.44589999318122864]}, \"token.table\": {\"Topic\": [1, 2, 3, 4, 1, 2, 3, 4, 1, 2, 3, 4, 1, 2, 3, 4, 1, 2, 3, 4, 1, 2, 3, 4, 1, 2, 3, 4, 1, 2, 3, 4, 1, 2, 3, 4, 1, 2, 3, 4, 1, 2, 3, 4, 1, 2, 3, 4, 1, 2, 3, 4, 1, 2, 3, 4, 1, 2, 3, 4, 1, 2, 3, 4, 1, 2, 3, 4, 1, 2, 3, 4, 1, 2, 3, 4, 1, 2, 3, 4, 1, 2, 3, 4, 1, 2, 3, 4, 1, 2, 3, 4, 1, 2, 3, 4, 1, 2, 3, 4, 1, 2, 3, 4, 1, 2, 3, 4, 1, 2, 3, 4, 1, 2, 3, 4, 1, 2, 3, 4, 1, 2, 3, 4, 1, 2, 3, 4, 1, 2, 3, 4, 1, 2, 3, 4, 1, 2, 3, 4, 1, 2, 3, 4, 1, 2, 3, 4, 1, 2, 3, 4, 1, 2, 3, 4, 1, 2, 3, 4, 1, 2, 3, 4, 1, 2, 3, 4, 1, 2, 3, 4, 1, 2, 3, 4, 1, 2, 3, 4, 1, 2, 3, 4, 1, 2, 3, 4, 1, 2, 3, 4, 1, 2, 3, 4, 1, 2, 3, 4, 1, 2, 3, 4, 1, 2, 3, 4, 1, 2, 3, 4, 1, 2, 3, 4, 1, 2, 3, 4, 1, 2, 3, 4, 1, 2, 3, 4, 1, 2, 3, 4, 1, 2, 3, 4, 1, 2, 3, 4, 1, 2, 3, 4, 1, 2, 3, 4, 1, 2, 3, 4, 1, 2, 3, 4, 1, 2, 3, 4, 1, 2, 3, 4, 1, 2, 3, 4, 1, 2, 3, 4, 1, 2, 3, 4, 1, 2, 3, 4, 1, 2, 3, 4, 1, 2, 3, 4, 1, 2, 3, 4, 1, 2, 3, 4, 1, 2, 3, 4, 1, 2, 3, 4, 1, 2, 3, 4, 1, 2, 3, 4, 1, 2, 3, 4, 1, 2, 3, 4, 1, 2, 3, 4, 1, 2, 3, 4, 1, 2, 3, 4, 1, 2, 3, 4, 1, 2, 3, 4, 1, 2, 3, 4, 1, 2, 3, 4, 1, 2, 3, 4, 1, 2, 3, 4, 1, 2, 3, 4, 1, 2, 3, 4, 1, 2, 3, 4, 1, 2, 3, 4, 1, 2, 3, 4, 1, 2, 3, 4, 1, 2, 3, 4, 1, 2, 3, 4, 1, 2, 3, 4, 1, 2, 3, 4, 1, 2, 3, 4, 1, 2, 3, 4, 1, 2, 3, 4, 1, 2, 3, 4, 1, 2, 3, 4, 1, 2, 3, 4, 1, 2, 3, 4, 1, 2, 3, 4, 1, 2, 3, 4, 1, 2, 3, 4, 1, 2, 3, 4, 1, 2, 3, 4, 1, 2, 3, 4, 1, 2, 3, 4, 1, 2, 3, 4, 1, 2, 3, 4, 1, 2, 3, 4, 1, 2, 3, 4, 1, 2, 3, 4, 1, 2, 3, 4, 1, 2, 3, 4, 1, 2, 3, 4, 1, 2, 3, 4, 1, 2, 3, 4, 1, 2, 3, 4, 1, 2, 3, 4, 1, 2, 3, 4, 1, 2, 3, 4, 1, 2, 3, 4, 1, 2, 3, 4, 1, 2, 3, 4, 1, 2, 3, 4, 1, 2, 3, 4, 1, 2, 3, 4, 1, 2, 3, 4, 1, 2, 3, 4, 1, 2, 3, 4, 1, 2, 3, 4, 1, 2, 3, 4, 1, 2, 3, 4, 1, 2, 3, 4, 1, 2, 3, 4, 1, 2, 3, 4, 1, 2, 3, 4, 1, 2, 3, 4, 1, 2, 3, 4, 1, 2, 3, 4, 1, 2, 3, 4, 1, 2, 3, 4, 1, 2, 3, 4, 1, 2, 3, 4, 1, 2, 3, 4, 1, 2, 3, 4, 1, 2, 3, 4, 1, 2, 3, 4, 1, 2, 3, 4, 1, 2, 3, 4, 1, 2, 3, 4, 1, 2, 3, 4, 1, 2, 3, 4, 1, 2, 3, 1, 2, 3, 4, 1, 2, 3, 4, 1, 2, 3, 4], \"Freq\": [0.32013121247291565, 0.19207873940467834, 0.256104975938797, 0.19207873940467834, 0.3041844367980957, 0.3041844367980957, 0.3041844367980957, 0.15209221839904785, 0.3547898232936859, 0.2128738909959793, 0.2128738909959793, 0.2128738909959793, 0.4241020083427429, 0.21205100417137146, 0.21205100417137146, 0.10602550208568573, 0.3601592183113098, 0.1800796091556549, 0.3601592183113098, 0.1800796091556549, 0.3947770595550537, 0.3947770595550537, 0.19738852977752686, 0.19738852977752686, 0.2580743432044983, 0.34409913420677185, 0.17204956710338593, 0.17204956710338593, 0.28665706515312195, 0.28665706515312195, 0.28665706515312195, 0.28665706515312195, 0.37981295585632324, 0.18990647792816162, 0.25320863723754883, 0.18990647792816162, 0.23204608261585236, 0.34806913137435913, 0.23204608261585236, 0.11602304130792618, 0.33861544728279114, 0.24186816811561584, 0.1934945285320282, 0.24186816811561584, 0.3095853328704834, 0.3095853328704834, 0.24766825139522552, 0.18575118482112885, 0.457937091588974, 0.18317483365535736, 0.18317483365535736, 0.18317483365535736, 0.30992603302001953, 0.20661737024784088, 0.30992603302001953, 0.20661737024784088, 0.46320509910583496, 0.2058689296245575, 0.2058689296245575, 0.15440170466899872, 0.36339229345321655, 0.24226152896881104, 0.24226152896881104, 0.12113076448440552, 0.47584113478660583, 0.1903364509344101, 0.1903364509344101, 0.1903364509344101, 0.2828693389892578, 0.2828693389892578, 0.2828693389892578, 0.2828693389892578, 0.358814001083374, 0.179407000541687, 0.23920932412147522, 0.23920932412147522, 0.3164222240447998, 0.39552778005599976, 0.1582111120223999, 0.1582111120223999, 0.3294532001018524, 0.3294532001018524, 0.3294532001018524, 0.3294532001018524, 0.4256279766559601, 0.21281398832798004, 0.21281398832798004, 0.21281398832798004, 0.3339110016822815, 0.3339110016822815, 0.3339110016822815, 0.3339110016822815, 0.43254128098487854, 0.21627064049243927, 0.21627064049243927, 0.21627064049243927, 0.3331128656864166, 0.3331128656864166, 0.3331128656864166, 0.3331128656864166, 0.22101189196109772, 0.22101189196109772, 0.22101189196109772, 0.22101189196109772, 0.3604184687137604, 0.1802092343568802, 0.3604184687137604, 0.1802092343568802, 0.2573728859424591, 0.23163558542728424, 0.2831101715564728, 0.20589829981327057, 0.356193482875824, 0.356193482875824, 0.178096741437912, 0.178096741437912, 0.361488401889801, 0.2711162865161896, 0.1807442009449005, 0.2711162865161896, 0.33385029435157776, 0.26708024740219116, 0.23369520902633667, 0.20031018555164337, 0.28130239248275757, 0.28130239248275757, 0.14065119624137878, 0.14065119624137878, 0.479523628950119, 0.2397618144750595, 0.2397618144750595, 0.2397618144750595, 0.34044840931892395, 0.34044840931892395, 0.25533631443977356, 0.17022420465946198, 0.4347037971019745, 0.4347037971019745, 0.21735189855098724, 0.21735189855098724, 0.3280247449874878, 0.1640123724937439, 0.3280247449874878, 0.1640123724937439, 0.3865314722061157, 0.23191888630390167, 0.23191888630390167, 0.15461258590221405, 0.25412970781326294, 0.4129607677459717, 0.22236348688602448, 0.12706485390663147, 0.2999197840690613, 0.20994386076927185, 0.20994386076927185, 0.26992782950401306, 0.30795636773109436, 0.30795636773109436, 0.30795636773109436, 0.15397818386554718, 0.3345319926738739, 0.3345319926738739, 0.3345319926738739, 0.3345319926738739, 0.3023674786090851, 0.3023674786090851, 0.15118373930454254, 0.15118373930454254, 0.2505871057510376, 0.2505871057510376, 0.2505871057510376, 0.2505871057510376, 0.5090649127960205, 0.25453245639801025, 0.12726622819900513, 0.12726622819900513, 0.4383983612060547, 0.21919918060302734, 0.21919918060302734, 0.21919918060302734, 0.3555186986923218, 0.23701247572898865, 0.23701247572898865, 0.1777593493461609, 0.32945549488067627, 0.32945549488067627, 0.21963699162006378, 0.10981849581003189, 0.3142140805721283, 0.3142140805721283, 0.3142140805721283, 0.2094760686159134, 0.3359385132789612, 0.1679692566394806, 0.1679692566394806, 0.1679692566394806, 0.3445950150489807, 0.13783800601959229, 0.27567601203918457, 0.27567601203918457, 0.38689756393432617, 0.17195448279380798, 0.3009203374385834, 0.1289658546447754, 0.35126248002052307, 0.17563124001026154, 0.17563124001026154, 0.17563124001026154, 0.2026614248752594, 0.2026614248752594, 0.2026614248752594, 0.2026614248752594, 0.22055627405643463, 0.44111254811286926, 0.22055627405643463, 0.22055627405643463, 0.2405153214931488, 0.2405153214931488, 0.2405153214931488, 0.2405153214931488, 0.2884891927242279, 0.2884891927242279, 0.2884891927242279, 0.2884891927242279, 0.3257606029510498, 0.31573718786239624, 0.23554997146129608, 0.12529253959655762, 0.22425951063632965, 0.3363892436027527, 0.3363892436027527, 0.22425951063632965, 0.32884520292282104, 0.21923014521598816, 0.32884520292282104, 0.10961507260799408, 0.44182026386260986, 0.14727342128753662, 0.14727342128753662, 0.14727342128753662, 0.3733065128326416, 0.1866532564163208, 0.2799798846244812, 0.1866532564163208, 0.3360058069229126, 0.224003866314888, 0.224003866314888, 0.224003866314888, 0.3745286464691162, 0.3084353804588318, 0.1542176902294159, 0.17624878883361816, 0.5361102819442749, 0.19619354605674744, 0.17566166818141937, 0.09581544995307922, 0.4212890565395355, 0.2527734339237213, 0.1685156226158142, 0.1685156226158142, 0.33320096135139465, 0.33320096135139465, 0.33320096135139465, 0.33320096135139465, 0.2859174907207489, 0.14295874536037445, 0.2859174907207489, 0.14295874536037445, 0.42606595158576965, 0.21303297579288483, 0.21303297579288483, 0.21303297579288483, 0.2218725085258484, 0.2218725085258484, 0.2218725085258484, 0.2218725085258484, 0.2629939913749695, 0.2629939913749695, 0.2629939913749695, 0.13149699568748474, 0.40614983439445496, 0.27076655626296997, 0.13538327813148499, 0.13538327813148499, 0.4816502630710602, 0.1605500876903534, 0.1605500876903534, 0.1605500876903534, 0.45446959137916565, 0.22723479568958282, 0.22723479568958282, 0.11361739784479141, 0.3605443239212036, 0.29499080777168274, 0.19666053354740143, 0.13110701739788055, 0.2674013078212738, 0.2674013078212738, 0.1337006539106369, 0.2674013078212738, 0.3079894483089447, 0.3079894483089447, 0.20532628893852234, 0.20532628893852234, 0.394571453332901, 0.394571453332901, 0.1972857266664505, 0.1972857266664505, 0.40099260210990906, 0.40099260210990906, 0.40099260210990906, 0.40099260210990906, 0.2858431339263916, 0.2858431339263916, 0.2858431339263916, 0.2858431339263916, 0.2834015488624573, 0.21255117654800415, 0.21255117654800415, 0.21255117654800415, 0.29117441177368164, 0.25477761030197144, 0.25477761030197144, 0.21838080883026123, 0.3335133194923401, 0.3335133194923401, 0.3335133194923401, 0.3335133194923401, 0.33410540223121643, 0.33410540223121643, 0.33410540223121643, 0.33410540223121643, 0.398145854473114, 0.13271528482437134, 0.2654305696487427, 0.2654305696487427, 0.4135325253009796, 0.2756883502006531, 0.13784417510032654, 0.13784417510032654, 0.3305172920227051, 0.3305172920227051, 0.3305172920227051, 0.3305172920227051, 0.47947052121162415, 0.23973526060581207, 0.23973526060581207, 0.11986763030290604, 0.4247531294822693, 0.24271605908870697, 0.18203705549240112, 0.18203705549240112, 0.3012150228023529, 0.3012150228023529, 0.15060751140117645, 0.15060751140117645, 0.4014781415462494, 0.4014781415462494, 0.4014781415462494, 0.4014781415462494, 0.3314616084098816, 0.19887696206569672, 0.19887696206569672, 0.26516929268836975, 0.3520241677761078, 0.1760120838880539, 0.1760120838880539, 0.1760120838880539, 0.39486268162727356, 0.39486268162727356, 0.19743134081363678, 0.19743134081363678, 0.43044963479042053, 0.2635405957698822, 0.19326309859752655, 0.11420091986656189, 0.41567596793174744, 0.13855865597724915, 0.13855865597724915, 0.13855865597724915, 0.3860976994037628, 0.23165860772132874, 0.3088781535625458, 0.1544390767812729, 0.31012585759162903, 0.31012585759162903, 0.15506292879581451, 0.31012585759162903, 0.478717178106308, 0.239358589053154, 0.239358589053154, 0.239358589053154, 0.21900402009487152, 0.21900402009487152, 0.21900402009487152, 0.21900402009487152, 0.2805355489253998, 0.35066941380500793, 0.2454686015844345, 0.1402677744626999, 0.35610705614089966, 0.2374047040939331, 0.17805352807044983, 0.17805352807044983, 0.3148648142814636, 0.2518918514251709, 0.2518918514251709, 0.12594592571258545, 0.31792575120925903, 0.31792575120925903, 0.21195049583911896, 0.15896287560462952, 0.32733404636383057, 0.32733404636383057, 0.2182226926088333, 0.2182226926088333, 0.2803315222263336, 0.2803315222263336, 0.2803315222263336, 0.1401657611131668, 0.3656301498413086, 0.24375344812870026, 0.24375344812870026, 0.1828150749206543, 0.33479321002960205, 0.25109490752220154, 0.20924575626850128, 0.16739660501480103, 0.49529772996902466, 0.18573664128780365, 0.18573664128780365, 0.18573664128780365, 0.24812623858451843, 0.24812623858451843, 0.24812623858451843, 0.24812623858451843, 0.23509718477725983, 0.23509718477725983, 0.35264578461647034, 0.23509718477725983, 0.33025333285331726, 0.24769000709056854, 0.2064083367586136, 0.2064083367586136, 0.20265576243400574, 0.20265576243400574, 0.20265576243400574, 0.20265576243400574, 0.3543185293674469, 0.3543185293674469, 0.17715926468372345, 0.17715926468372345, 0.3969068229198456, 0.13230226933956146, 0.2646045386791229, 0.2646045386791229, 0.23082482814788818, 0.46164965629577637, 0.23082482814788818, 0.11541241407394409, 0.2497716248035431, 0.37465745210647583, 0.2497716248035431, 0.12488581240177155, 0.31396761536598206, 0.18838055431842804, 0.31396761536598206, 0.18838055431842804, 0.27939754724502563, 0.3026806712150574, 0.2561144232749939, 0.13969877362251282, 0.5214897990226746, 0.17382994294166565, 0.17382994294166565, 0.17382994294166565, 0.35754233598709106, 0.23836155235767365, 0.23836155235767365, 0.1589076966047287, 0.2912483215332031, 0.3640604019165039, 0.21843624114990234, 0.14562416076660156, 0.33406829833984375, 0.33406829833984375, 0.33406829833984375, 0.33406829833984375, 0.3958618640899658, 0.1979309320449829, 0.1979309320449829, 0.1979309320449829, 0.2827950716018677, 0.2827950716018677, 0.2827950716018677, 0.2827950716018677, 0.35006511211395264, 0.17503255605697632, 0.17503255605697632, 0.17503255605697632, 0.36488863825798035, 0.18244431912899017, 0.36488863825798035, 0.18244431912899017, 0.28170230984687805, 0.28170230984687805, 0.28170230984687805, 0.28170230984687805, 0.43600475788116455, 0.18685917556285858, 0.18685917556285858, 0.18685917556285858, 0.3436274528503418, 0.1718137264251709, 0.1718137264251709, 0.25772058963775635, 0.22285421192646027, 0.27856776118278503, 0.27856776118278503, 0.1671406626701355, 0.3156132698059082, 0.2524906098842621, 0.2524906098842621, 0.12624530494213104, 0.37597352266311646, 0.22558410465717316, 0.3007788062095642, 0.1503894031047821, 0.3064635396003723, 0.15323176980018616, 0.15323176980018616, 0.3064635396003723, 0.2834252119064331, 0.2834252119064331, 0.2834252119064331, 0.18895015120506287, 0.3840615451335907, 0.23043693602085114, 0.23043693602085114, 0.15362462401390076, 0.22296839952468872, 0.22296839952468872, 0.22296839952468872, 0.22296839952468872, 0.4840053915977478, 0.16133514046669006, 0.16133514046669006, 0.16133514046669006, 0.28410136699676514, 0.28410136699676514, 0.28410136699676514, 0.28410136699676514, 0.38705870509147644, 0.2580391466617584, 0.19352935254573822, 0.19352935254573822, 0.3292635679244995, 0.3292635679244995, 0.16463178396224976, 0.16463178396224976, 0.2856474816799164, 0.2856474816799164, 0.2856474816799164, 0.2856474816799164, 0.32979604601860046, 0.23556861281394958, 0.18845488131046295, 0.23556861281394958, 0.3546435534954071, 0.3546435534954071, 0.17732177674770355, 0.17732177674770355, 0.4023869037628174, 0.2011934518814087, 0.2011934518814087, 0.2011934518814087, 0.2883564531803131, 0.24029703438282013, 0.2883564531803131, 0.14417822659015656, 0.31213024258613586, 0.20808683335781097, 0.31213024258613586, 0.10404341667890549, 0.24220925569534302, 0.32294565439224243, 0.24220925569534302, 0.24220925569534302, 0.363216757774353, 0.3026806116104126, 0.1816083788871765, 0.1816083788871765, 0.47826284170150757, 0.23913142085075378, 0.11956571042537689, 0.11956571042537689, 0.22301512956619263, 0.22301512956619263, 0.22301512956619263, 0.22301512956619263, 0.33662310242652893, 0.16831155121326447, 0.16831155121326447, 0.33662310242652893, 0.35471612215042114, 0.23647741973400116, 0.23647741973400116, 0.23647741973400116, 0.4803121089935303, 0.24015605449676514, 0.24015605449676514, 0.12007802724838257, 0.2854597568511963, 0.2854597568511963, 0.2854597568511963, 0.2854597568511963, 0.38758090138435364, 0.19379045069217682, 0.2906856834888458, 0.09689522534608841, 0.313201904296875, 0.20880126953125, 0.313201904296875, 0.1566009521484375, 0.3357582986354828, 0.1678791493177414, 0.1678791493177414, 0.3357582986354828, 0.28376296162605286, 0.24322539567947388, 0.28376296162605286, 0.16215026378631592, 0.2504541277885437, 0.2504541277885437, 0.2504541277885437, 0.2504541277885437, 0.39698514342308044, 0.39698514342308044, 0.39698514342308044, 0.35351258516311646, 0.2209453582763672, 0.2209453582763672, 0.1988508254289627, 0.24656808376312256, 0.24656808376312256, 0.24656808376312256, 0.24656808376312256, 0.40106284618377686, 0.40106284618377686, 0.40106284618377686, 0.40106284618377686], \"Term\": [\"aceh\", \"aceh\", \"aceh\", \"aceh\", \"agama\", \"agama\", \"agama\", \"agama\", \"akhir\", \"akhir\", \"akhir\", \"akhir\", \"amin\", \"amin\", \"amin\", \"amin\", \"anggar\", \"anggar\", \"anggar\", \"anggar\", \"angka\", \"angka\", \"angka\", \"angka\", \"anies\", \"anies\", \"anies\", \"anies\", \"arief\", \"arief\", \"arief\", \"arief\", \"bagi\", \"bagi\", \"bagi\", \"bagi\", \"bahwa\", \"bahwa\", \"bahwa\", \"bahwa\", \"baik\", \"baik\", \"baik\", \"baik\", \"bangun\", \"bangun\", \"bangun\", \"bangun\", \"bantu\", \"bantu\", \"bantu\", \"bantu\", \"bapak\", \"bapak\", \"bapak\", \"bapak\", \"baru\", \"baru\", \"baru\", \"baru\", \"beri\", \"beri\", \"beri\", \"beri\", \"besar\", \"besar\", \"besar\", \"besar\", \"bila\", \"bila\", \"bila\", \"bila\", \"bisa\", \"bisa\", \"bisa\", \"bisa\", \"bukan\", \"bukan\", \"bukan\", \"bukan\", \"buru\", \"buru\", \"buru\", \"buru\", \"bus\", \"bus\", \"bus\", \"bus\", \"caleg\", \"caleg\", \"caleg\", \"caleg\", \"camat\", \"camat\", \"camat\", \"camat\", \"casting\", \"casting\", \"casting\", \"casting\", \"ciptaker\", \"ciptaker\", \"ciptaker\", \"ciptaker\", \"coblos\", \"coblos\", \"coblos\", \"coblos\", \"corona\", \"corona\", \"corona\", \"corona\", \"covid\", \"covid\", \"covid\", \"covid\", \"dakwah\", \"dakwah\", \"dakwah\", \"dakwah\", \"dalam\", \"dalam\", \"dalam\", \"dalam\", \"damai\", \"damai\", \"damai\", \"damai\", \"damri\", \"damri\", \"damri\", \"damri\", \"dapat\", \"dapat\", \"dapat\", \"dapat\", \"dekat\", \"dekat\", \"dekat\", \"dekat\", \"desa\", \"desa\", \"desa\", \"desa\", \"dukung\", \"dukung\", \"dukung\", \"dukung\", \"edhy\", \"edhy\", \"edhy\", \"edhy\", \"ekonomi\", \"ekonomi\", \"ekonomi\", \"ekonomi\", \"fokus\", \"fokus\", \"fokus\", \"fokus\", \"forum\", \"forum\", \"forum\", \"forum\", \"ganti\", \"ganti\", \"ganti\", \"ganti\", \"gerak\", \"gerak\", \"gerak\", \"gerak\", \"gerindra\", \"gerindra\", \"gerindra\", \"gerindra\", \"gorontalo\", \"gorontalo\", \"gorontalo\", \"gorontalo\", \"guru\", \"guru\", \"guru\", \"guru\", \"habib\", \"habib\", \"habib\", \"habib\", \"hal\", \"hal\", \"hal\", \"hal\", \"hanya\", \"hanya\", \"hanya\", \"hanya\", \"hari\", \"hari\", \"hari\", \"hari\", \"harus\", \"harus\", \"harus\", \"harus\", \"hasil\", \"hasil\", \"hasil\", \"hasil\", \"hijau\", \"hijau\", \"hijau\", \"hijau\", \"hubung\", \"hubung\", \"hubung\", \"hubung\", \"hukum\", \"hukum\", \"hukum\", \"hukum\", \"idham\", \"idham\", \"idham\", \"idham\", \"indonesia\", \"indonesia\", \"indonesia\", \"indonesia\", \"info\", \"info\", \"info\", \"info\", \"ingat\", \"ingat\", \"ingat\", \"ingat\", \"istana\", \"istana\", \"istana\", \"istana\", \"jaga\", \"jaga\", \"jaga\", \"jaga\", \"jaya\", \"jaya\", \"jaya\", \"jaya\", \"joko\", \"joko\", \"joko\", \"joko\", \"jokowi\", \"jokowi\", \"jokowi\", \"jokowi\", \"kasus\", \"kasus\", \"kasus\", \"kasus\", \"kawal\", \"kawal\", \"kawal\", \"kawal\", \"kec\", \"kec\", \"kec\", \"kec\", \"kelola\", \"kelola\", \"kelola\", \"kelola\", \"kelompok\", \"kelompok\", \"kelompok\", \"kelompok\", \"kembali\", \"kembali\", \"kembali\", \"kembali\", \"kembang\", \"kembang\", \"kembang\", \"kembang\", \"kendali\", \"kendali\", \"kendali\", \"kendali\", \"kepala\", \"kepala\", \"kepala\", \"kepala\", \"kerja\", \"kerja\", \"kerja\", \"kerja\", \"ketua\", \"ketua\", \"ketua\", \"ketua\", \"khusus\", \"khusus\", \"khusus\", \"khusus\", \"kini\", \"kini\", \"kini\", \"kini\", \"knp\", \"knp\", \"knp\", \"knp\", \"konsumsi\", \"konsumsi\", \"konsumsi\", \"konsumsi\", \"korupsi\", \"korupsi\", \"korupsi\", \"korupsi\", \"kpk\", \"kpk\", \"kpk\", \"kpk\", \"krisis\", \"krisis\", \"krisis\", \"krisis\", \"kualanamu\", \"kualanamu\", \"kualanamu\", \"kualanamu\", \"kuat\", \"kuat\", \"kuat\", \"kuat\", \"kutuk\", \"kutuk\", \"kutuk\", \"kutuk\", \"lagu\", \"lagu\", \"lagu\", \"lagu\", \"laksana\", \"laksana\", \"laksana\", \"laksana\", \"laku\", \"laku\", \"laku\", \"laku\", \"lalu\", \"lalu\", \"lalu\", \"lalu\", \"lawanintoleransi\", \"lawanintoleransi\", \"lawanintoleransi\", \"lawanintoleransi\", \"libur\", \"libur\", \"libur\", \"libur\", \"listrik\", \"listrik\", \"listrik\", \"listrik\", \"lobster\", \"lobster\", \"lobster\", \"lobster\", \"maju\", \"maju\", \"maju\", \"maju\", \"manusia\", \"manusia\", \"manusia\", \"manusia\", \"masyarakat\", \"masyarakat\", \"masyarakat\", \"masyarakat\", \"megawati\", \"megawati\", \"megawati\", \"megawati\", \"menang\", \"menang\", \"menang\", \"menang\", \"mendagri\", \"mendagri\", \"mendagri\", \"mendagri\", \"menteri\", \"menteri\", \"menteri\", \"menteri\", \"minta\", \"minta\", \"minta\", \"minta\", \"moga\", \"moga\", \"moga\", \"moga\", \"mui\", \"mui\", \"mui\", \"mui\", \"nahdhatululama\", \"nahdhatululama\", \"nahdhatululama\", \"nahdhatululama\", \"nanti\", \"nanti\", \"nanti\", \"nanti\", \"nasional\", \"nasional\", \"nasional\", \"nasional\", \"negara\", \"negara\", \"negara\", \"negara\", \"oleh\", \"oleh\", \"oleh\", \"oleh\", \"pakdhe\", \"pakdhe\", \"pakdhe\", \"pakdhe\", \"pancasila\", \"pancasila\", \"pancasila\", \"pancasila\", \"pandemi\", \"pandemi\", \"pandemi\", \"pandemi\", \"pangdam\", \"pangdam\", \"pangdam\", \"pangdam\", \"panjaitan\", \"panjaitan\", \"panjaitan\", \"panjaitan\", \"panjang\", \"panjang\", \"panjang\", \"panjang\", \"papua\", \"papua\", \"papua\", \"papua\", \"pemerintah\", \"pemerintah\", \"pemerintah\", \"pemerintah\", \"perintah\", \"perintah\", \"perintah\", \"perintah\", \"prabowo\", \"prabowo\", \"prabowo\", \"prabowo\", \"pres\", \"pres\", \"pres\", \"pres\", \"presiden\", \"presiden\", \"presiden\", \"presiden\", \"rakyat\", \"rakyat\", \"rakyat\", \"rakyat\", \"rang\", \"rang\", \"rang\", \"rang\", \"rapat\", \"rapat\", \"rapat\", \"rapat\", \"reaksi\", \"reaksi\", \"reaksi\", \"reaksi\", \"rumpin\", \"rumpin\", \"rumpin\", \"rumpin\", \"ruu\", \"ruu\", \"ruu\", \"ruu\", \"ruwet\", \"ruwet\", \"ruwet\", \"ruwet\", \"satu\", \"satu\", \"satu\", \"satu\", \"sebut\", \"sebut\", \"sebut\", \"sebut\", \"sehat\", \"sehat\", \"sehat\", \"sehat\", \"selamat\", \"selamat\", \"selamat\", \"selamat\", \"semua\", \"semua\", \"semua\", \"semua\", \"seperti\", \"seperti\", \"seperti\", \"seperti\", \"siap\", \"siap\", \"siap\", \"siap\", \"sigi\", \"sigi\", \"sigi\", \"sigi\", \"situasi\", \"situasi\", \"situasi\", \"situasi\", \"strategi\", \"strategi\", \"strategi\", \"strategi\", \"suara\", \"suara\", \"suara\", \"suara\", \"sudah\", \"sudah\", \"sudah\", \"sudah\", \"sumatera\", \"sumatera\", \"sumatera\", \"sumatera\", \"sydney\", \"sydney\", \"sydney\", \"sydney\", \"tahun\", \"tahun\", \"tahun\", \"tahun\", \"tangkap\", \"tangkap\", \"tangkap\", \"tangkap\", \"telah\", \"telah\", \"telah\", \"telah\", \"tengah\", \"tengah\", \"tengah\", \"tengah\", \"terima\", \"terima\", \"terima\", \"terima\", \"tetap\", \"tetap\", \"tetap\", \"tetap\", \"tidak\", \"tidak\", \"tidak\", \"tidak\", \"tni\", \"tni\", \"tni\", \"tni\", \"togel\", \"togel\", \"togel\", \"togel\", \"tolak\", \"tolak\", \"tolak\", \"tolak\", \"tumbuh\", \"tumbuh\", \"tumbuh\", \"tumbuh\", \"umat\", \"umat\", \"umat\", \"umat\", \"universitas\", \"universitas\", \"universitas\", \"universitas\", \"unk\", \"unk\", \"unk\", \"unk\", \"vaksin\", \"vaksin\", \"vaksin\", \"vaksin\", \"viral\", \"viral\", \"viral\", \"viral\", \"virus\", \"virus\", \"virus\", \"virus\", \"wakil\", \"wakil\", \"wakil\", \"wakil\", \"warna\", \"warna\", \"warna\", \"widodo\", \"widodo\", \"widodo\", \"widodo\", \"wisata\", \"wisata\", \"wisata\", \"wisata\", \"zaman\", \"zaman\", \"zaman\", \"zaman\"]}, \"R\": 30, \"lambda.step\": 0.01, \"plot.opts\": {\"xlab\": \"PC1\", \"ylab\": \"PC2\"}, \"topic.order\": [1, 4, 3, 2]};\n",
       "\n",
       "function LDAvis_load_lib(url, callback){\n",
       "  var s = document.createElement('script');\n",
       "  s.src = url;\n",
       "  s.async = true;\n",
       "  s.onreadystatechange = s.onload = callback;\n",
       "  s.onerror = function(){console.warn(\"failed to load library \" + url);};\n",
       "  document.getElementsByTagName(\"head\")[0].appendChild(s);\n",
       "}\n",
       "\n",
       "if(typeof(LDAvis) !== \"undefined\"){\n",
       "   // already loaded: just create the visualization\n",
       "   !function(LDAvis){\n",
       "       new LDAvis(\"#\" + \"ldavis_el384420384900697047020234429\", ldavis_el384420384900697047020234429_data);\n",
       "   }(LDAvis);\n",
       "}else if(typeof define === \"function\" && define.amd){\n",
       "   // require.js is available: use it to load d3/LDAvis\n",
       "   require.config({paths: {d3: \"https://cdnjs.cloudflare.com/ajax/libs/d3/3.5.5/d3.min\"}});\n",
       "   require([\"d3\"], function(d3){\n",
       "      window.d3 = d3;\n",
       "      LDAvis_load_lib(\"https://cdn.rawgit.com/bmabey/pyLDAvis/files/ldavis.v1.0.0.js\", function(){\n",
       "        new LDAvis(\"#\" + \"ldavis_el384420384900697047020234429\", ldavis_el384420384900697047020234429_data);\n",
       "      });\n",
       "    });\n",
       "}else{\n",
       "    // require.js not available: dynamically load d3 & LDAvis\n",
       "    LDAvis_load_lib(\"https://cdnjs.cloudflare.com/ajax/libs/d3/3.5.5/d3.min.js\", function(){\n",
       "         LDAvis_load_lib(\"https://cdn.rawgit.com/bmabey/pyLDAvis/files/ldavis.v1.0.0.js\", function(){\n",
       "                 new LDAvis(\"#\" + \"ldavis_el384420384900697047020234429\", ldavis_el384420384900697047020234429_data);\n",
       "            })\n",
       "         });\n",
       "}\n",
       "</script>"
      ],
      "text/plain": [
       "PreparedData(topic_coordinates=              x         y  topics  cluster       Freq\n",
       "topic                                                \n",
       "0      0.006703 -0.000748       1        1  33.694431\n",
       "3     -0.000115  0.002714       2        1  24.988226\n",
       "2     -0.000975 -0.001230       3        1  22.762718\n",
       "1     -0.005613 -0.000735       4        1  18.554630, topic_info=          Term        Freq       Total Category  logprob  loglift\n",
       "9       jokowi  438.000000  438.000000  Default  30.0000  30.0000\n",
       "21   indonesia  199.000000  199.000000  Default  29.0000  29.0000\n",
       "188    ekonomi   33.000000   33.000000  Default  28.0000  28.0000\n",
       "140     corona   38.000000   38.000000  Default  27.0000  27.0000\n",
       "128       edhy   31.000000   31.000000  Default  26.0000  26.0000\n",
       "..         ...         ...         ...      ...      ...      ...\n",
       "535       oleh    3.026519   16.151901   Topic4  -6.4606   0.0098\n",
       "132    menteri    3.997534   28.516886   Topic4  -6.1823  -0.2804\n",
       "36        guru    3.049349   16.876749   Topic4  -6.4531  -0.0266\n",
       "130      kerja    3.815236   30.509426   Topic4  -6.2290  -0.3946\n",
       "128       edhy    3.739831   31.479988   Topic4  -6.2490  -0.4459\n",
       "\n",
       "[268 rows x 6 columns], token_table=      Topic      Freq    Term\n",
       "term                         \n",
       "244       1  0.320131    aceh\n",
       "244       2  0.192079    aceh\n",
       "244       3  0.256105    aceh\n",
       "244       4  0.192079    aceh\n",
       "359       1  0.304184   agama\n",
       "...     ...       ...     ...\n",
       "935       4  0.246568  wisata\n",
       "1044      1  0.401063   zaman\n",
       "1044      2  0.401063   zaman\n",
       "1044      3  0.401063   zaman\n",
       "1044      4  0.401063   zaman\n",
       "\n",
       "[651 rows x 3 columns], R=30, lambda_step=0.01, plot_opts={'xlab': 'PC1', 'ylab': 'PC2'}, topic_order=[1, 4, 3, 2])"
      ]
     },
     "execution_count": 29,
     "metadata": {},
     "output_type": "execute_result"
    }
   ],
   "source": [
    "pyLDAvis.enable_notebook()\n",
    "vis = pyLDAvis.gensim.prepare(lda_model, doc_term_matrix, dictionary)\n",
    "vis"
   ]
  },
  {
   "cell_type": "code",
   "execution_count": null,
   "metadata": {},
   "outputs": [],
   "source": []
  },
  {
   "cell_type": "code",
   "execution_count": null,
   "metadata": {},
   "outputs": [],
   "source": []
  },
  {
   "cell_type": "code",
   "execution_count": null,
   "metadata": {},
   "outputs": [],
   "source": []
  },
  {
   "cell_type": "code",
   "execution_count": null,
   "metadata": {},
   "outputs": [],
   "source": []
  },
  {
   "cell_type": "code",
   "execution_count": null,
   "metadata": {},
   "outputs": [],
   "source": []
  },
  {
   "cell_type": "code",
   "execution_count": null,
   "metadata": {},
   "outputs": [],
   "source": []
  },
  {
   "cell_type": "code",
   "execution_count": null,
   "metadata": {},
   "outputs": [],
   "source": []
  },
  {
   "cell_type": "code",
   "execution_count": null,
   "metadata": {},
   "outputs": [],
   "source": [
    "def textPreprocessing(data):\n",
    "    #Remove Punctuation Logic\n",
    "    import string\n",
    "    removePunctuation = [char for char in data if char not in string.punctuation]\n",
    "    #Join Chars to form sentences\n",
    "    sentenceWithoutPunctuations = ''.join(removePunctuation)\n",
    "    words = sentenceWithoutPunctuations.split()\n",
    "    #StopwordRemoval\n",
    "    from nltk.corpus import stopwords\n",
    "    removeStopwords = [word for word in words if word.lower() not in nltk.corpus.stopwords.words('indonesian')]\n",
    "    \n",
    "    return removeStopwords"
   ]
  },
  {
   "cell_type": "code",
   "execution_count": null,
   "metadata": {},
   "outputs": [],
   "source": [
    "bow = CountVectorizer().fit(data['text'])"
   ]
  },
  {
   "cell_type": "code",
   "execution_count": null,
   "metadata": {},
   "outputs": [],
   "source": [
    "len(bow.vocabulary_)"
   ]
  },
  {
   "cell_type": "code",
   "execution_count": null,
   "metadata": {},
   "outputs": [],
   "source": [
    "reviews_bow = bow.transform(data['text'])"
   ]
  },
  {
   "cell_type": "code",
   "execution_count": null,
   "metadata": {},
   "outputs": [],
   "source": [
    "tfidfData = TfidfTransformer().fit(reviews_bow)\n",
    "tfidfDataFinal = tfidfData.transform(reviews_bow)"
   ]
  },
  {
   "cell_type": "code",
   "execution_count": null,
   "metadata": {},
   "outputs": [],
   "source": [
    "tfidfDataFinal.shape"
   ]
  },
  {
   "cell_type": "code",
   "execution_count": null,
   "metadata": {},
   "outputs": [],
   "source": [
    "from sklearn.naive_bayes import MultinomialNB\n",
    "model = MultinomialNB().fit(tfidfDataFinal,data['sentiment'])"
   ]
  },
  {
   "cell_type": "code",
   "execution_count": null,
   "metadata": {},
   "outputs": [],
   "source": [
    "model"
   ]
  },
  {
   "cell_type": "code",
   "execution_count": null,
   "metadata": {},
   "outputs": [],
   "source": [
    "inputData = \"buruk\"\n",
    "l1 = textPreprocessing(inputData)\n",
    "l2 = bow.transform(l1)\n",
    "l3 = tfidfData.transform(l2)\n",
    "prediction = model.predict(l3[0])\n",
    "prediction"
   ]
  },
  {
   "cell_type": "code",
   "execution_count": null,
   "metadata": {},
   "outputs": [],
   "source": [
    "# Using Matplotlib to show distribution of reviews sentiment in the dataset\n",
    "import matplotlib.pyplot as plt\n",
    "print(data.sentiment.value_counts())\n",
    "data['sentiment'].value_counts().plot(kind='bar')\n",
    "plt.title(\"Distribution of Reviews Sentiment\", size=18)"
   ]
  },
  {
   "cell_type": "code",
   "execution_count": null,
   "metadata": {},
   "outputs": [],
   "source": [
    "data.info()"
   ]
  },
  {
   "cell_type": "code",
   "execution_count": null,
   "metadata": {},
   "outputs": [],
   "source": [
    "X = data['text'].tolist()\n",
    "Y = data['sentiment']"
   ]
  },
  {
   "cell_type": "code",
   "execution_count": null,
   "metadata": {},
   "outputs": [],
   "source": [
    "# Splitting data into training set and validation\n",
    "X_train, X_test, y_train, y_test = train_test_split(data['text'], data['sentiment'], \\\n",
    "                                                    test_size=0.1, random_state=0)\n",
    "\n",
    "print('Load %d training examples and %d validation examples. \\n' %(X_train.shape[0],X_test.shape[0]))\n",
    "print('Show a review in the training set : \\n', X_train.iloc[10])"
   ]
  },
  {
   "cell_type": "code",
   "execution_count": null,
   "metadata": {},
   "outputs": [],
   "source": [
    "from sklearn.feature_extraction.text import TfidfVectorizer\n",
    "# Fitting and transforming the training data to a document-term matrix using TfidfVectorizer \n",
    "tfidf = TfidfVectorizer(min_df=5) #minimum document frequency of 5\n",
    "X_train_tfidf = tfidf.fit_transform(X_train)\n",
    "print(\"Number of features : %d \\n\" %len(tfidf.get_feature_names())) #1722\n",
    "print(\"Show some feature names : \\n\", tfidf.get_feature_names()[::1000])\n",
    "\n",
    "# SVM\n",
    "from sklearn.linear_model import SGDClassifier\n",
    "clf = SGDClassifier(loss=\"hinge\", penalty=\"l2\")\n",
    "clf.fit(X_train_tfidf, y_train)"
   ]
  },
  {
   "cell_type": "code",
   "execution_count": null,
   "metadata": {},
   "outputs": [],
   "source": [
    "# Have a look at the top 10 features with the smallest and largest coefficients\n",
    "feature_names = np.array(tfidf.get_feature_names())\n",
    "sorted_coef_index = clf.coef_[0].argsort()\n",
    "print('\\nTop 10 features with the smallest coefficients :\\n{}\\n'.format(feature_names[sorted_coef_index[:10]]))\n",
    "print('Top 10 features with the largest coefficients : \\n{}'.format(feature_names[sorted_coef_index[:-11:-1]]))"
   ]
  },
  {
   "cell_type": "code",
   "execution_count": null,
   "metadata": {},
   "outputs": [],
   "source": [
    "# Evaluating on the validaton set\n",
    "predictions = clf.predict(tfidf.transform(X_test))\n",
    "modelEvaluation(predictions)"
   ]
  },
  {
   "cell_type": "code",
   "execution_count": null,
   "metadata": {},
   "outputs": [],
   "source": [
    "import nltk\n",
    "nltk.download('wordnet')\n",
    "\n",
    "doc_complete = data[\"text\"].tolist()\n",
    "doc_clean = [textPreprocessing(doc) for doc in doc_complete]"
   ]
  },
  {
   "cell_type": "code",
   "execution_count": null,
   "metadata": {},
   "outputs": [],
   "source": [
    "import gensim\n",
    "from gensim import corpora"
   ]
  },
  {
   "cell_type": "code",
   "execution_count": null,
   "metadata": {},
   "outputs": [],
   "source": [
    "dictionary = corpora.Dictionary()\n",
    "print(dictionary)"
   ]
  },
  {
   "cell_type": "code",
   "execution_count": null,
   "metadata": {},
   "outputs": [],
   "source": [
    "doc_term_matrix = [dictionary.doc2bow(doc) for doc in doc_complete]\n",
    "doc_term_matrix"
   ]
  },
  {
   "cell_type": "code",
   "execution_count": null,
   "metadata": {},
   "outputs": [],
   "source": [
    "from gensim.models import LdaModel"
   ]
  },
  {
   "cell_type": "code",
   "execution_count": null,
   "metadata": {},
   "outputs": [],
   "source": [
    "NUM_TOPICS = 9\n",
    "ldamodel = LdaModel(doc_term_matrix, num_topics=NUM_TOPICS, id2word=dictionary, passes=30)"
   ]
  },
  {
   "cell_type": "code",
   "execution_count": null,
   "metadata": {},
   "outputs": [],
   "source": [
    "topics = ldamodel.show_topics()\n",
    "for topic in topics:\n",
    "    print(topic)\n",
    "    print()"
   ]
  },
  {
   "cell_type": "code",
   "execution_count": null,
   "metadata": {},
   "outputs": [],
   "source": [
    "word_dict = {}\n",
    "for i in range(NUM_TOPICS):\n",
    "    words = ldamodel.show_topic(i, topn = 20)\n",
    "    word_dict[\"Topic # \" + \"{}\".format(i)] = [i[0] for i in words]"
   ]
  },
  {
   "cell_type": "code",
   "execution_count": null,
   "metadata": {},
   "outputs": [],
   "source": [
    "pd.DataFrame(word_dict)"
   ]
  },
  {
   "cell_type": "code",
   "execution_count": null,
   "metadata": {},
   "outputs": [],
   "source": []
  },
  {
   "cell_type": "code",
   "execution_count": null,
   "metadata": {},
   "outputs": [],
   "source": []
  },
  {
   "cell_type": "code",
   "execution_count": null,
   "metadata": {},
   "outputs": [],
   "source": []
  },
  {
   "cell_type": "code",
   "execution_count": null,
   "metadata": {},
   "outputs": [],
   "source": [
    "data['sentiment'].value_counts().plot.bar(color = 'hotpink', figsize = (6, 4))"
   ]
  },
  {
   "cell_type": "code",
   "execution_count": null,
   "metadata": {},
   "outputs": [],
   "source": [
    "data['sentiment'].value_counts()"
   ]
  },
  {
   "cell_type": "code",
   "execution_count": null,
   "metadata": {},
   "outputs": [],
   "source": [
    "#Tokenizing and change text to sequence\n",
    "from keras.preprocessing.sequence import pad_sequences\n",
    "\n",
    "max_features = 2000\n",
    "MAX_SEQUENCE_LENGTH = 40\n",
    "\n",
    "tokenizer = Tokenizer(num_words=max_features, split=' ')\n",
    "tokenizer.fit_on_texts(X)\n",
    "\n",
    "word_index = tokenizer.word_index\n",
    "print(\"Found %s unique tokens\" % len(word_index),'\\n')\n",
    "print(\"Index: \"+str(tokenizer.word_index),\"\\n\")\n",
    "\n",
    "X = tokenizer.texts_to_sequences(X)\n",
    "X = pad_sequences(X, maxlen=MAX_SEQUENCE_LENGTH, padding='post', truncating=\"post\")\n",
    "X[:2]"
   ]
  },
  {
   "cell_type": "code",
   "execution_count": null,
   "metadata": {},
   "outputs": [],
   "source": [
    "#Vctorizer = CountVectorizer()\n",
    "#X =vectorizer.fit_transform(df['tweet'])\n",
    "\n",
    "bow_transformer = CountVectorizer()\n",
    "print(data['text'].shape)\n",
    "X=bow_transformer.fit_transform(data['text'])\n",
    "\n",
    "print (X.toarray())\n",
    "print('Shape of Sparse Matrix : ',X.shape)\n",
    "print('Amount of Non-zero accourences: ',X.nnz)\n",
    "\n",
    "#save the count vectorized to disk\n",
    "filename1 = 'count_vectorized.pkl'\n",
    "pickle.dump(bow_transformer, open(filename1, 'wb'))\n",
    "\n",
    "#TFID Transform\n",
    "tf_transform = TfidfTransformer(use_idf=False).fit(X)\n",
    "X = tf_transform.transform(X)\n",
    "print(X.shape)\n",
    "\n",
    "#save the TFID to disk\n",
    "filename1 ='tfid_transform1.pkl'\n",
    "pickle.dump(tf_transform, open(filename1, 'wb'))\n"
   ]
  },
  {
   "cell_type": "code",
   "execution_count": null,
   "metadata": {},
   "outputs": [],
   "source": [
    "freq = pd.Series(' '.join(data['text']).split()).value_counts()[:10] #Naive Method\n",
    "freq"
   ]
  },
  {
   "cell_type": "code",
   "execution_count": null,
   "metadata": {},
   "outputs": [],
   "source": [
    "from textblob import TextBlob\n",
    "import nltk\n",
    "nltk.download('punkt')\n",
    "\n",
    "TextBlob(data['text'][0]).ngrams(2)"
   ]
  },
  {
   "cell_type": "code",
   "execution_count": null,
   "metadata": {},
   "outputs": [],
   "source": [
    "tf1 = (data['text'][:]).apply(lambda x: pd.value_counts(x.split(\" \"))).sum(axis = 0).reset_index()\n",
    "tf1.columns = ['words','tf']\n",
    "tf1"
   ]
  },
  {
   "cell_type": "code",
   "execution_count": null,
   "metadata": {},
   "outputs": [],
   "source": [
    "for i,word in enumerate(tf1['words']):\n",
    "    tf1.loc[i, 'idf'] = np.log(data.shape[0]/(len(data[data['text'].str.contains(word)])))\n",
    "\n",
    "tf1"
   ]
  },
  {
   "cell_type": "code",
   "execution_count": null,
   "metadata": {
    "scrolled": false
   },
   "outputs": [],
   "source": [
    "tf1['tfidf'] = tf1['tf'] * tf1['idf']\n",
    "tf1"
   ]
  },
  {
   "cell_type": "code",
   "execution_count": null,
   "metadata": {},
   "outputs": [],
   "source": [
    "from sklearn.feature_extraction.text import TfidfVectorizer\n",
    "tfidf = TfidfVectorizer(max_features=1000, lowercase=True, analyzer='word',ngram_range=(1,2))\n",
    "train_vect = tfidf.fit_transform(data['text'])\n",
    "\n",
    "train_vect"
   ]
  },
  {
   "cell_type": "code",
   "execution_count": null,
   "metadata": {},
   "outputs": [],
   "source": [
    "#Split dataset\n",
    "\n",
    "X_train, X_test, Y_train, Y_test = train_test_split(X,Y, test_size = 0.2, random_state = 0, stratify = Y)\n",
    "print(X_train.shape,Y_train.shape)\n",
    "print(X_test.shape,Y_test.shape)"
   ]
  },
  {
   "cell_type": "code",
   "execution_count": null,
   "metadata": {},
   "outputs": [],
   "source": [
    "#Classifier data\n",
    "from sklearn.svm import LinearSVC\n",
    "\n",
    "svc = LinearSVC()\n",
    "svc.fit(X_train, Y_train)\n",
    "Y_pred = svc.predict(X_test)"
   ]
  },
  {
   "cell_type": "code",
   "execution_count": null,
   "metadata": {},
   "outputs": [],
   "source": [
    "print(classification_report(Y_test, Y_pred))"
   ]
  },
  {
   "cell_type": "code",
   "execution_count": null,
   "metadata": {},
   "outputs": [],
   "source": [
    "from sklearn.metrics import confusion_matrix\n",
    "\n",
    "tn, fp, fn, tp = confusion_matrix(Y_test, Y_pred).ravel()\n",
    "accuracy = (tn + tp) / (tn + fp + fn + tp)\n",
    "print(accuracy)"
   ]
  },
  {
   "cell_type": "code",
   "execution_count": null,
   "metadata": {},
   "outputs": [],
   "source": [
    "# Precision\n",
    "from sklearn.metrics import precision_score\n",
    "precision_score(Y_test, Y_pred, average=None)"
   ]
  },
  {
   "cell_type": "code",
   "execution_count": null,
   "metadata": {},
   "outputs": [],
   "source": [
    "# Recall\n",
    "from sklearn.metrics import recall_score\n",
    "recall_score(Y_test, Y_pred, average=None)"
   ]
  },
  {
   "cell_type": "code",
   "execution_count": null,
   "metadata": {},
   "outputs": [],
   "source": [
    "# F1 score\n",
    "from sklearn.metrics import f1_score\n",
    "f1_score(Y_test, Y_pred, average=None)"
   ]
  },
  {
   "cell_type": "code",
   "execution_count": null,
   "metadata": {},
   "outputs": [],
   "source": []
  },
  {
   "cell_type": "code",
   "execution_count": null,
   "metadata": {},
   "outputs": [],
   "source": [
    "#Classifier data\n",
    "#nb = MultinomialNB()\n",
    "#nb.fit(X_train, Y_train)\n",
    "#preds = nb.predict(X_test)"
   ]
  },
  {
   "cell_type": "code",
   "execution_count": null,
   "metadata": {},
   "outputs": [],
   "source": [
    "# A function to plot and print result\n",
    "def printResult(y_pred, y_prob):\n",
    "    acc = accuracy_score(test_data[\"sentiment\"], Y_pred)\n",
    "    # Result\n",
    "    print(\"Accuracy: {:.2f}\".format(acc*100),end='\\n\\n')\n",
    "    cm = confusion_matrix(test_data[\"sentiment\"],Y_pred)\n",
    "    print('Confusion Matrix:\\n', cm)\n",
    "    print(classification_report(test_data[\"sentiment\"],Y_pred))\n",
    "\n",
    "    # Plot\n",
    "    fpr, tpr, thresholds = roc_curve(test_data[\"sentiment\"], y_prob)\n",
    "    roc_auc = auc(fpr, tpr)\n",
    "    print (\"Area under the ROC curve : %f\" % accuracy = (tn + tp) / (tn + fp + fn + tp)c_auc)\n",
    "    plt.plot([0, 1], [0, 1], color='navy', linestyle='--')\n",
    "    plt.xlabel('False Positive Rate')\n",
    "    plt.ylabel('True Positive Rate')\n",
    "    plt.title('Receiver operating characteristic')\n",
    "    plt.plot(fpr, tpr, color='red', label='ROC curve (area = %0.2f)' % roc_auc)\n",
    "    plt.legend(loc='lower right')"
   ]
  },
  {
   "cell_type": "code",
   "execution_count": null,
   "metadata": {},
   "outputs": [],
   "source": [
    "# Training \n",
    "X.fit(bow_training_features, train_data[\"sentiment\"])\n",
    "\n",
    "# Evaluation\n",
    "y_pred_bow_svm = X.predict(bow_test_features)\n",
    "y_prob_bow_svm = X.decision_function(bow_test_features)"
   ]
  },
  {
   "cell_type": "code",
   "execution_count": null,
   "metadata": {},
   "outputs": [],
   "source": [
    "#Evaluasi Performansi\n",
    "from sklearn.metrics import confusion_matrix,classification_report\n",
    "\n",
    "target_names = ['class negatif', 'class positif']\n",
    "print(\"confusion matrix\",confusion_matrix(Y_test, Y_pred))\n",
    "print(classification_report(Y_test, Y_pred, target_names=target_names))"
   ]
  },
  {
   "cell_type": "code",
   "execution_count": null,
   "metadata": {},
   "outputs": [],
   "source": [
    "from io import StringIO\n",
    "classification = classification_report(Y_test, preds)\n",
    "s = StringIO(classification)\n",
    "with open ('classification.csv', 'w') as f:\n",
    "    for line in s:\n",
    "        f.write(line)"
   ]
  },
  {
   "cell_type": "code",
   "execution_count": null,
   "metadata": {},
   "outputs": [],
   "source": [
    "print (accuracy_score(Y_test, Y_pred))"
   ]
  },
  {
   "cell_type": "code",
   "execution_count": null,
   "metadata": {},
   "outputs": [],
   "source": [
    "accuracy= accuracy_score(Y_test, preds)\n",
    "a = np.asarray([accuracy])\n",
    "np.savetxt(\"accuracy.csv\", a,delimiter=\",\", fmt='%s')"
   ]
  },
  {
   "cell_type": "code",
   "execution_count": null,
   "metadata": {},
   "outputs": [],
   "source": [
    "Final = data [['tweet', 'sentiment']]\n",
    "print(Final)"
   ]
  },
  {
   "cell_type": "code",
   "execution_count": null,
   "metadata": {},
   "outputs": [],
   "source": [
    "# Accuracy\n",
    "from sklearn.metrics import accuracy_score\n",
    "accuracy_score(Y_test, Y_pred)*100"
   ]
  },
  {
   "cell_type": "code",
   "execution_count": null,
   "metadata": {},
   "outputs": [],
   "source": [
    "#Final= Final.rename(columns={'tanggal': 'Tanggal', })"
   ]
  },
  {
   "cell_type": "code",
   "execution_count": null,
   "metadata": {},
   "outputs": [],
   "source": [
    "Final.to_csv('hasil_analysis.csv')"
   ]
  },
  {
   "cell_type": "code",
   "execution_count": null,
   "metadata": {},
   "outputs": [],
   "source": [
    "#Split dataset\n",
    "\n",
    "X_train, X_test, Y_train, Y_test = train_test_split(X,Y, test_size = 0.05, random_state = 0, stratify = Y)\n",
    "print(X_train.shape,Y_train.shape)\n",
    "print(X_test.shape,Y_test.shape)"
   ]
  },
  {
   "cell_type": "code",
   "execution_count": null,
   "metadata": {},
   "outputs": [],
   "source": [
    "#Proses Training\n",
    "\n",
    "\n",
    "#batch_size = 32\n",
    "#history = model.fit(X_train, Y_train, nb_epoch=50, validation_data=(X_test, Y_test), verbose = 1)"
   ]
  },
  {
   "cell_type": "code",
   "execution_count": null,
   "metadata": {},
   "outputs": [],
   "source": [
    "model = LogisticRegression()\n",
    "model.fit(X_train, Y_train)"
   ]
  },
  {
   "cell_type": "code",
   "execution_count": null,
   "metadata": {},
   "outputs": [],
   "source": [
    "#save the model to disk\n",
    "filename='model_analisis.pkl'\n",
    "result= loaded_model.score(X_test, Y_test)\n",
    "print(result)"
   ]
  },
  {
   "cell_type": "code",
   "execution_count": null,
   "metadata": {},
   "outputs": [],
   "source": [
    "loaded_model.predict(X_test)"
   ]
  },
  {
   "cell_type": "code",
   "execution_count": null,
   "metadata": {},
   "outputs": [],
   "source": []
  },
  {
   "cell_type": "code",
   "execution_count": null,
   "metadata": {},
   "outputs": [],
   "source": []
  },
  {
   "cell_type": "code",
   "execution_count": null,
   "metadata": {},
   "outputs": [],
   "source": []
  }
 ],
 "metadata": {
  "kernelspec": {
   "display_name": "Python 3",
   "language": "python",
   "name": "python3"
  },
  "language_info": {
   "codemirror_mode": {
    "name": "ipython",
    "version": 3
   },
   "file_extension": ".py",
   "mimetype": "text/x-python",
   "name": "python",
   "nbconvert_exporter": "python",
   "pygments_lexer": "ipython3",
   "version": "3.7.6"
  }
 },
 "nbformat": 4,
 "nbformat_minor": 4
}
